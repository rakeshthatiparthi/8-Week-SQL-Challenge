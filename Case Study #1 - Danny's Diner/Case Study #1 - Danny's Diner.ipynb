{
    "metadata": {
        "kernelspec": {
            "name": "SQL",
            "display_name": "SQL",
            "language": "sql"
        },
        "language_info": {
            "name": "sql",
            "version": ""
        }
    },
    "nbformat_minor": 2,
    "nbformat": 4,
    "cells": [
        {
            "cell_type": "markdown",
            "source": [
                "# **Case Study #1 - Danny's Diner - Solutions**"
            ],
            "metadata": {
                "azdata_cell_guid": "05c404da-2441-4362-91e6-8b345c215722"
            }
        },
        {
            "cell_type": "markdown",
            "source": [
                "## <span style=\"font-family: inherit; font-size: inherit; font-style: inherit; font-variant-ligatures: inherit; font-variant-caps: inherit; background-color: rgb(255, 255, 255); color: rgb(64, 64, 64);\"><b>1. What is the total amount each customer spent at the restaurant?</b></span>"
            ],
            "metadata": {
                "azdata_cell_guid": "595d2ad7-f7e5-4ae3-a479-1892df081b59"
            }
        },
        {
            "cell_type": "code",
            "source": [
                "SELECT\r\n",
                "\ts.customer_id,\r\n",
                "\tSUM(m.price) AS Total_spent\r\n",
                "FROM sales s\r\n",
                "JOIN menu m\r\n",
                "\tON s.product_id = m.product_id\r\n",
                "GROUP BY s.customer_id;"
            ],
            "metadata": {
                "azdata_cell_guid": "f5472f3a-e659-4508-a60c-e2b4e4da838c"
            },
            "outputs": [
                {
                    "output_type": "display_data",
                    "data": {
                        "text/html": "(3 row(s) affected)"
                    },
                    "metadata": {}
                },
                {
                    "output_type": "display_data",
                    "data": {
                        "text/html": "Total execution time: 00:00:00.007"
                    },
                    "metadata": {}
                },
                {
                    "output_type": "execute_result",
                    "execution_count": 62,
                    "data": {
                        "application/vnd.dataresource+json": {
                            "schema": {
                                "fields": [
                                    {
                                        "name": "customer_id"
                                    },
                                    {
                                        "name": "total_spent"
                                    }
                                ]
                            },
                            "data": [
                                {
                                    "0": "B",
                                    "1": "74"
                                },
                                {
                                    "0": "C",
                                    "1": "36"
                                },
                                {
                                    "0": "A",
                                    "1": "76"
                                }
                            ]
                        },
                        "text/html": "<table><tr><th>customer_id</th><th>total_spent</th></tr><tr><td>B</td><td>74</td></tr><tr><td>C</td><td>36</td></tr><tr><td>A</td><td>76</td></tr></table>"
                    },
                    "metadata": {}
                }
            ],
            "execution_count": 62
        },
        {
            "cell_type": "markdown",
            "source": [
                "## <span style=\"font-family: inherit; font-size: inherit; font-style: inherit; font-variant-ligatures: inherit; font-variant-caps: inherit; background-color: rgb(255, 255, 255); color: rgb(64, 64, 64);\"><b>2. How many days has each customer visited the restaurant?</b></span>"
            ],
            "metadata": {
                "azdata_cell_guid": "cf01ffd0-f1ce-45de-b1c3-5df1c827ed76"
            }
        },
        {
            "cell_type": "code",
            "source": [
                "SELECT\r\n",
                "\tcustomer_id,\r\n",
                "\tCOUNT(DISTINCT(order_date)) as no_of_days_visited\r\n",
                "FROM sales\r\n",
                "GROUP BY customer_id;"
            ],
            "metadata": {
                "azdata_cell_guid": "445262f3-4279-4b91-905f-7c6096723a7a"
            },
            "outputs": [
                {
                    "output_type": "display_data",
                    "data": {
                        "text/html": "(3 row(s) affected)"
                    },
                    "metadata": {}
                },
                {
                    "output_type": "display_data",
                    "data": {
                        "text/html": "Total execution time: 00:00:00.003"
                    },
                    "metadata": {}
                },
                {
                    "output_type": "execute_result",
                    "execution_count": 63,
                    "data": {
                        "application/vnd.dataresource+json": {
                            "schema": {
                                "fields": [
                                    {
                                        "name": "customer_id"
                                    },
                                    {
                                        "name": "no_of_days_visited"
                                    }
                                ]
                            },
                            "data": [
                                {
                                    "0": "A",
                                    "1": "4"
                                },
                                {
                                    "0": "B",
                                    "1": "6"
                                },
                                {
                                    "0": "C",
                                    "1": "2"
                                }
                            ]
                        },
                        "text/html": "<table><tr><th>customer_id</th><th>no_of_days_visited</th></tr><tr><td>A</td><td>4</td></tr><tr><td>B</td><td>6</td></tr><tr><td>C</td><td>2</td></tr></table>"
                    },
                    "metadata": {}
                }
            ],
            "execution_count": 63
        },
        {
            "cell_type": "markdown",
            "source": [
                "## <span style=\"font-family: inherit; font-size: inherit; font-style: inherit; font-variant-ligatures: inherit; font-variant-caps: inherit; background-color: rgb(255, 255, 255); color: rgb(64, 64, 64);\"><b>3. What was the first item from the menu purchased by each customer?</b></span>"
            ],
            "metadata": {
                "azdata_cell_guid": "276973bc-a2eb-4e14-bb18-91000ce20115"
            }
        },
        {
            "cell_type": "code",
            "source": [
                "with cte AS (\r\n",
                "SELECT\r\n",
                "\t\r\n",
                "\ts.customer_id,\r\n",
                "\tm.product_name,\r\n",
                "\tRANK() OVER(PARTITION BY s.customer_id ORDER BY s.order_date) AS ranking\r\n",
                "FROM sales s\r\n",
                "JOIN menu m\r\n",
                "\tON s.product_id = m.product_id)\r\n",
                "SELECT\r\n",
                "\tcustomer_id,\r\n",
                "\tproduct_name\r\n",
                "FROM cte\r\n",
                "\tWHERE ranking =1;"
            ],
            "metadata": {
                "azdata_cell_guid": "c0e0f586-7301-48dc-8ec2-aef120fd4cb8"
            },
            "outputs": [
                {
                    "output_type": "display_data",
                    "data": {
                        "text/html": "(5 row(s) affected)"
                    },
                    "metadata": {}
                },
                {
                    "output_type": "display_data",
                    "data": {
                        "text/html": "Total execution time: 00:00:00.003"
                    },
                    "metadata": {}
                },
                {
                    "output_type": "execute_result",
                    "execution_count": 64,
                    "data": {
                        "application/vnd.dataresource+json": {
                            "schema": {
                                "fields": [
                                    {
                                        "name": "customer_id"
                                    },
                                    {
                                        "name": "product_name"
                                    }
                                ]
                            },
                            "data": [
                                {
                                    "0": "A",
                                    "1": "curry"
                                },
                                {
                                    "0": "A",
                                    "1": "sushi"
                                },
                                {
                                    "0": "B",
                                    "1": "curry"
                                },
                                {
                                    "0": "C",
                                    "1": "ramen"
                                },
                                {
                                    "0": "C",
                                    "1": "ramen"
                                }
                            ]
                        },
                        "text/html": "<table><tr><th>customer_id</th><th>product_name</th></tr><tr><td>A</td><td>curry</td></tr><tr><td>A</td><td>sushi</td></tr><tr><td>B</td><td>curry</td></tr><tr><td>C</td><td>ramen</td></tr><tr><td>C</td><td>ramen</td></tr></table>"
                    },
                    "metadata": {}
                }
            ],
            "execution_count": 64
        },
        {
            "cell_type": "markdown",
            "source": [
                "## <span style=\"font-family: inherit; font-size: inherit; font-style: inherit; font-variant-ligatures: inherit; font-variant-caps: inherit; background-color: rgb(255, 255, 255); color: rgb(64, 64, 64);\"><b>4. What is the most purchased item on the menu and how many times was it purchased by all customers?</b></span>"
            ],
            "metadata": {
                "azdata_cell_guid": "639a2caf-7d81-4629-85ae-ac53a7dbbb85"
            }
        },
        {
            "cell_type": "code",
            "source": [
                "SELECT\r\n",
                "\ts.customer_id,\r\n",
                "\tm.product_name,\r\n",
                "\tCOUNT(*) as no_of_times\r\n",
                "FROM sales s\r\n",
                "JOIN menu m\r\n",
                "\tON s.product_id = m.product_id\r\n",
                "\twhere m.product_name =\r\n",
                "\t(SELECT\r\n",
                "\t\tm.product_name\r\n",
                "\tFROM sales s\r\n",
                "\tJOIN menu m\r\n",
                "\t\tON s.product_id = m.product_id\r\n",
                "    GROUP BY m.product_name\r\n",
                "    ORDER BY count(*) DESC\r\n",
                "    LIMIT 1)\r\n",
                "GROUP BY s.customer_id,m.product_name;"
            ],
            "metadata": {
                "azdata_cell_guid": "96715abd-285d-4725-9ecb-7c6a18fbf1ed"
            },
            "outputs": [
                {
                    "output_type": "display_data",
                    "data": {
                        "text/html": "(3 row(s) affected)"
                    },
                    "metadata": {}
                },
                {
                    "output_type": "display_data",
                    "data": {
                        "text/html": "Total execution time: 00:00:00.002"
                    },
                    "metadata": {}
                },
                {
                    "output_type": "execute_result",
                    "execution_count": 65,
                    "data": {
                        "application/vnd.dataresource+json": {
                            "schema": {
                                "fields": [
                                    {
                                        "name": "customer_id"
                                    },
                                    {
                                        "name": "product_name"
                                    },
                                    {
                                        "name": "no_of_times"
                                    }
                                ]
                            },
                            "data": [
                                {
                                    "0": "B",
                                    "1": "ramen",
                                    "2": "2"
                                },
                                {
                                    "0": "A",
                                    "1": "ramen",
                                    "2": "3"
                                },
                                {
                                    "0": "C",
                                    "1": "ramen",
                                    "2": "3"
                                }
                            ]
                        },
                        "text/html": "<table><tr><th>customer_id</th><th>product_name</th><th>no_of_times</th></tr><tr><td>B</td><td>ramen</td><td>2</td></tr><tr><td>A</td><td>ramen</td><td>3</td></tr><tr><td>C</td><td>ramen</td><td>3</td></tr></table>"
                    },
                    "metadata": {}
                }
            ],
            "execution_count": 65
        },
        {
            "cell_type": "markdown",
            "source": [
                "## <span style=\"font-family: inherit; font-size: inherit; font-style: inherit; font-variant-ligatures: inherit; font-variant-caps: inherit; background-color: rgb(255, 255, 255); color: rgb(64, 64, 64);\"><b>5. Which item was the most popular for each customer?</b></span>"
            ],
            "metadata": {
                "azdata_cell_guid": "6e7bb9bd-fcca-48d2-beaf-8c1bd9c07f91"
            }
        },
        {
            "cell_type": "code",
            "source": [
                "with cte2 as (WITH cte AS (\r\n",
                "\tSELECT\r\n",
                "\t\ts.customer_id,\r\n",
                "    \t\tm.product_name,\r\n",
                "    \t\tcount(m.product_name) as popular_item_count\r\n",
                "\tFROM sales s\r\n",
                "\tJOIN menu m \r\n",
                "\t\tON s.product_id = m.product_id\r\n",
                "    \tGROUP BY s.customer_id,m.product_name)\r\n",
                "    SELECT \r\n",
                "    customer_id,\r\n",
                "    product_name,\r\n",
                "    popular_item_count,\r\n",
                "    DENSE_RANK() OVER (PARTITION BY customer_id ORDER BY popular_item_count DESC) as rankings\r\n",
                "    FROM cte)\r\n",
                "    SELECT\r\n",
                "    \tcustomer_id,\r\n",
                "        product_name,\r\n",
                "        popular_item_count\r\n",
                "    FROM cte2 WHERE rankings =1;"
            ],
            "metadata": {
                "azdata_cell_guid": "43a44bc8-c379-4edc-86d2-624e324bc2c8"
            },
            "outputs": [
                {
                    "output_type": "display_data",
                    "data": {
                        "text/html": "(5 row(s) affected)"
                    },
                    "metadata": {}
                },
                {
                    "output_type": "display_data",
                    "data": {
                        "text/html": "Total execution time: 00:00:00.003"
                    },
                    "metadata": {}
                },
                {
                    "output_type": "execute_result",
                    "execution_count": 66,
                    "data": {
                        "application/vnd.dataresource+json": {
                            "schema": {
                                "fields": [
                                    {
                                        "name": "customer_id"
                                    },
                                    {
                                        "name": "product_name"
                                    },
                                    {
                                        "name": "popular_item_count"
                                    }
                                ]
                            },
                            "data": [
                                {
                                    "0": "A",
                                    "1": "ramen",
                                    "2": "3"
                                },
                                {
                                    "0": "B",
                                    "1": "sushi",
                                    "2": "2"
                                },
                                {
                                    "0": "B",
                                    "1": "curry",
                                    "2": "2"
                                },
                                {
                                    "0": "B",
                                    "1": "ramen",
                                    "2": "2"
                                },
                                {
                                    "0": "C",
                                    "1": "ramen",
                                    "2": "3"
                                }
                            ]
                        },
                        "text/html": "<table><tr><th>customer_id</th><th>product_name</th><th>popular_item_count</th></tr><tr><td>A</td><td>ramen</td><td>3</td></tr><tr><td>B</td><td>sushi</td><td>2</td></tr><tr><td>B</td><td>curry</td><td>2</td></tr><tr><td>B</td><td>ramen</td><td>2</td></tr><tr><td>C</td><td>ramen</td><td>3</td></tr></table>"
                    },
                    "metadata": {}
                }
            ],
            "execution_count": 66
        },
        {
            "cell_type": "markdown",
            "source": [
                "## <span style=\"font-family: inherit; font-size: inherit; font-style: inherit; font-variant-ligatures: inherit; font-variant-caps: inherit; background-color: rgb(255, 255, 255); color: rgb(64, 64, 64);\"><b>6. Which item was purchased first by the customer after they became a member?</b></span>"
            ],
            "metadata": {
                "azdata_cell_guid": "353a2c74-e119-4a95-8b92-83e2de0783e5"
            }
        },
        {
            "cell_type": "code",
            "source": [
                "WITH cte as(SELECT\r\n",
                "\tme.customer_id,\r\n",
                "    me.join_date,\r\n",
                "    s.order_date,\r\n",
                "    m.product_name,\r\n",
                "    RANK() OVER (PARTITION BY me.customer_id order by s.order_date) as rankings\r\n",
                " FROM members me\r\n",
                " JOIN sales s\r\n",
                "\tON me.customer_id = s.customer_id\r\n",
                " JOIN menu m\r\n",
                "\tON s.product_id = m.product_id\r\n",
                "    WHERE s.order_date >= me.join_date)\r\n",
                "    SELECT customer_id,product_name FROM cte where rankings =1 ;"
            ],
            "metadata": {
                "azdata_cell_guid": "e7ff4693-6a88-4f0c-b2a6-8f769dbb41f8"
            },
            "outputs": [
                {
                    "output_type": "display_data",
                    "data": {
                        "text/html": "(2 row(s) affected)"
                    },
                    "metadata": {}
                },
                {
                    "output_type": "display_data",
                    "data": {
                        "text/html": "Total execution time: 00:00:00.001"
                    },
                    "metadata": {}
                },
                {
                    "output_type": "execute_result",
                    "execution_count": 67,
                    "data": {
                        "application/vnd.dataresource+json": {
                            "schema": {
                                "fields": [
                                    {
                                        "name": "customer_id"
                                    },
                                    {
                                        "name": "product_name"
                                    }
                                ]
                            },
                            "data": [
                                {
                                    "0": "A",
                                    "1": "curry"
                                },
                                {
                                    "0": "B",
                                    "1": "sushi"
                                }
                            ]
                        },
                        "text/html": "<table><tr><th>customer_id</th><th>product_name</th></tr><tr><td>A</td><td>curry</td></tr><tr><td>B</td><td>sushi</td></tr></table>"
                    },
                    "metadata": {}
                }
            ],
            "execution_count": 67
        },
        {
            "cell_type": "markdown",
            "source": [
                "## <span style=\"background-color: rgb(255, 255, 255); color: rgb(64, 64, 64); font-family: inherit; font-size: inherit; font-style: inherit; font-variant-ligatures: inherit; font-variant-caps: inherit;\"><b>7. Which item was purchased just before the customer became a member?</b></span>"
            ],
            "metadata": {
                "azdata_cell_guid": "6c2b0fdf-6e55-4dbf-9ef3-fe8defb2e2ab"
            }
        },
        {
            "cell_type": "code",
            "source": [
                "WITH cte as(SELECT\r\n",
                "\tme.customer_id,\r\n",
                "    me.join_date,\r\n",
                "    s.order_date,\r\n",
                "    m.product_name,\r\n",
                "    RANK() OVER (PARTITION BY me.customer_id order by s.order_date desc) as rankings\r\n",
                " FROM members me\r\n",
                " JOIN sales s\r\n",
                "\tON me.customer_id = s.customer_id\r\n",
                " JOIN menu m\r\n",
                "\tON s.product_id = m.product_id\r\n",
                "    WHERE s.order_date < me.join_date)\r\n",
                "    SELECT customer_id,product_name FROM cte where rankings =1 ;"
            ],
            "metadata": {
                "azdata_cell_guid": "44da5cce-aa13-4709-9a50-2cd5ab6a39bb",
                "tags": []
            },
            "outputs": [
                {
                    "output_type": "display_data",
                    "data": {
                        "text/html": "(3 row(s) affected)"
                    },
                    "metadata": {}
                },
                {
                    "output_type": "display_data",
                    "data": {
                        "text/html": "Total execution time: 00:00:00.003"
                    },
                    "metadata": {}
                },
                {
                    "output_type": "execute_result",
                    "execution_count": 68,
                    "data": {
                        "application/vnd.dataresource+json": {
                            "schema": {
                                "fields": [
                                    {
                                        "name": "customer_id"
                                    },
                                    {
                                        "name": "product_name"
                                    }
                                ]
                            },
                            "data": [
                                {
                                    "0": "A",
                                    "1": "sushi"
                                },
                                {
                                    "0": "A",
                                    "1": "curry"
                                },
                                {
                                    "0": "B",
                                    "1": "sushi"
                                }
                            ]
                        },
                        "text/html": "<table><tr><th>customer_id</th><th>product_name</th></tr><tr><td>A</td><td>sushi</td></tr><tr><td>A</td><td>curry</td></tr><tr><td>B</td><td>sushi</td></tr></table>"
                    },
                    "metadata": {}
                }
            ],
            "execution_count": 68
        },
        {
            "cell_type": "markdown",
            "source": [
                "## <span style=\"font-family: inherit; font-size: inherit; font-style: inherit; font-variant-ligatures: inherit; font-variant-caps: inherit; background-color: rgb(255, 255, 255); color: rgb(64, 64, 64);\"><b>8. What is the total items and amount spent for each member before they became a member?</b></span>"
            ],
            "metadata": {
                "azdata_cell_guid": "d7dbe49f-aa0c-47fa-88b3-1f28e9decb13"
            }
        },
        {
            "cell_type": "code",
            "source": [
                "SELECT\r\n",
                " \tme.customer_id,\r\n",
                "\tCOUNT(m.product_id) as total_items,\r\n",
                "\tSUM(m.price) as amount_spent\r\n",
                "FROM members me\r\n",
                "JOIN sales s\r\n",
                "\tON me.customer_id = s.customer_id \r\n",
                "JOIN menu m\r\n",
                "\tON s.product_id = m.product_id\r\n",
                "WHERE s.order_date < me.join_date\r\n",
                "        GROUP BY me.customer_id;"
            ],
            "metadata": {
                "azdata_cell_guid": "e737495f-d646-4ee4-a952-089c9c655e4d"
            },
            "outputs": [
                {
                    "output_type": "display_data",
                    "data": {
                        "text/html": "(2 row(s) affected)"
                    },
                    "metadata": {}
                },
                {
                    "output_type": "display_data",
                    "data": {
                        "text/html": "Total execution time: 00:00:00.003"
                    },
                    "metadata": {}
                },
                {
                    "output_type": "execute_result",
                    "execution_count": 69,
                    "data": {
                        "application/vnd.dataresource+json": {
                            "schema": {
                                "fields": [
                                    {
                                        "name": "customer_id"
                                    },
                                    {
                                        "name": "total_items"
                                    },
                                    {
                                        "name": "amount_spent"
                                    }
                                ]
                            },
                            "data": [
                                {
                                    "0": "A",
                                    "1": "2",
                                    "2": "25"
                                },
                                {
                                    "0": "B",
                                    "1": "3",
                                    "2": "40"
                                }
                            ]
                        },
                        "text/html": "<table><tr><th>customer_id</th><th>total_items</th><th>amount_spent</th></tr><tr><td>A</td><td>2</td><td>25</td></tr><tr><td>B</td><td>3</td><td>40</td></tr></table>"
                    },
                    "metadata": {}
                }
            ],
            "execution_count": 69
        },
        {
            "cell_type": "markdown",
            "source": [
                "## <span style=\"font-family: inherit; font-size: inherit; font-style: inherit; font-variant-ligatures: inherit; font-variant-caps: inherit; background-color: rgb(255, 255, 255); color: rgb(64, 64, 64);\"><b>9. If each $1 spent equates to 10 points and sushi has a 2x points multiplier - how many points would each customer have?</b></span>"
            ],
            "metadata": {
                "azdata_cell_guid": "4fcd0ef5-04df-429e-95bb-1bf7c9bd0276"
            }
        },
        {
            "cell_type": "code",
            "source": [
                "SELECT\r\n",
                "\ts.customer_id,\r\n",
                "\tSUM(case\r\n",
                "\t\twhen m.product_name = 'sushi' then m.price*20\r\n",
                "        \telse price*10\r\n",
                "\tend) as points_earned\r\n",
                "FROM sales s\r\n",
                "JOIN menu m\r\n",
                "\tON s.product_id = m.product_id\r\n",
                "GROUP BY s.customer_id\r\n",
                "ORDER BY s.customer_id;"
            ],
            "metadata": {
                "azdata_cell_guid": "576b7162-5928-4575-a266-514f3c39eed8"
            },
            "outputs": [
                {
                    "output_type": "display_data",
                    "data": {
                        "text/html": "(3 row(s) affected)"
                    },
                    "metadata": {}
                },
                {
                    "output_type": "display_data",
                    "data": {
                        "text/html": "Total execution time: 00:00:00.002"
                    },
                    "metadata": {}
                },
                {
                    "output_type": "execute_result",
                    "execution_count": 71,
                    "data": {
                        "application/vnd.dataresource+json": {
                            "schema": {
                                "fields": [
                                    {
                                        "name": "customer_id"
                                    },
                                    {
                                        "name": "points_earned"
                                    }
                                ]
                            },
                            "data": [
                                {
                                    "0": "A",
                                    "1": "860"
                                },
                                {
                                    "0": "B",
                                    "1": "940"
                                },
                                {
                                    "0": "C",
                                    "1": "360"
                                }
                            ]
                        },
                        "text/html": "<table><tr><th>customer_id</th><th>points_earned</th></tr><tr><td>A</td><td>860</td></tr><tr><td>B</td><td>940</td></tr><tr><td>C</td><td>360</td></tr></table>"
                    },
                    "metadata": {}
                }
            ],
            "execution_count": 71
        },
        {
            "cell_type": "markdown",
            "source": [
                "## <span style=\"background-color: rgb(255, 255, 255); color: rgb(64, 64, 64); font-family: inherit; font-size: inherit; font-style: inherit; font-variant-ligatures: inherit; font-variant-caps: inherit;\"><b>10. In the first week after a customer joins the program (including their join date) they earn 2x points on all items, not just sushi - how many points do customer A and B have at the end of January?</b></span>"
            ],
            "metadata": {
                "azdata_cell_guid": "c07c2fd2-3454-4c4b-9c7e-6e6e0430e7dd"
            }
        },
        {
            "cell_type": "code",
            "source": [
                "\r\n",
                "SELECT\r\n",
                "\tme.customer_id,\r\n",
                "\tSUM(m.price*20)  as points_earned_in_first_week\r\n",
                "FROM members me\r\n",
                "JOIN sales s\r\n",
                "\tON me.customer_id = s.customer_id\r\n",
                "JOIN menu m\r\n",
                "\tON s.product_id = m.product_id\r\n",
                "WHERE s.order_date between me.join_date and me.join_date + INTERVAL '7 day'\r\n",
                "GROUP BY me.customer_id\r\n",
                "ORDER BY me.customer_id;"
            ],
            "metadata": {
                "azdata_cell_guid": "36192812-01c9-4bcd-a247-28d8e31a4f0d",
                "tags": []
            },
            "outputs": [
                {
                    "output_type": "display_data",
                    "data": {
                        "text/html": "(2 row(s) affected)"
                    },
                    "metadata": {}
                },
                {
                    "output_type": "display_data",
                    "data": {
                        "text/html": "Total execution time: 00:00:00.004"
                    },
                    "metadata": {}
                },
                {
                    "output_type": "execute_result",
                    "execution_count": 73,
                    "data": {
                        "application/vnd.dataresource+json": {
                            "schema": {
                                "fields": [
                                    {
                                        "name": "customer_id"
                                    },
                                    {
                                        "name": "points_earned_in_first_week"
                                    }
                                ]
                            },
                            "data": [
                                {
                                    "0": "A",
                                    "1": "1020"
                                },
                                {
                                    "0": "B",
                                    "1": "440"
                                }
                            ]
                        },
                        "text/html": "<table><tr><th>customer_id</th><th>points_earned_in_first_week</th></tr><tr><td>A</td><td>1020</td></tr><tr><td>B</td><td>440</td></tr></table>"
                    },
                    "metadata": {}
                }
            ],
            "execution_count": 73
        },
        {
            "cell_type": "markdown",
            "source": [
                "# **Bonus Questions**"
            ],
            "metadata": {
                "azdata_cell_guid": "9c72a098-73a9-499d-ba46-cb569e132070"
            }
        },
        {
            "cell_type": "markdown",
            "source": [
                "## **Join All The Things**"
            ],
            "metadata": {
                "azdata_cell_guid": "b4f3258a-7f87-4c71-955c-930505b71dd6"
            }
        },
        {
            "cell_type": "code",
            "source": [
                "SELECT\r\n",
                "\ts.customer_id,\r\n",
                "\ts.order_date,\r\n",
                "    \tm.product_name,\r\n",
                "    \tm.price,\r\n",
                "    \tCASE\r\n",
                "\t\tWHEN s.order_date < me.join_date THEN 'N'\r\n",
                "       \t\tWHEN me.join_date is null THEN 'N'\r\n",
                "        \tELSE 'Y'\r\n",
                "\tEND as member\r\n",
                "FROM sales s\r\n",
                "JOIN menu m\r\n",
                "\tON s.product_id = m.product_id\r\n",
                "LEFT JOIN members me\r\n",
                "\tON s.customer_id = me.customer_id;"
            ],
            "metadata": {
                "azdata_cell_guid": "5e0e6dd8-d429-4347-9fa4-129cf45dc299"
            },
            "outputs": [
                {
                    "output_type": "display_data",
                    "data": {
                        "text/html": "(15 row(s) affected)"
                    },
                    "metadata": {}
                },
                {
                    "output_type": "display_data",
                    "data": {
                        "text/html": "Total execution time: 00:00:00.004"
                    },
                    "metadata": {}
                },
                {
                    "output_type": "execute_result",
                    "execution_count": 74,
                    "data": {
                        "application/vnd.dataresource+json": {
                            "schema": {
                                "fields": [
                                    {
                                        "name": "customer_id"
                                    },
                                    {
                                        "name": "order_date"
                                    },
                                    {
                                        "name": "product_name"
                                    },
                                    {
                                        "name": "price"
                                    },
                                    {
                                        "name": "member"
                                    }
                                ]
                            },
                            "data": [
                                {
                                    "0": "B",
                                    "1": "2021-01-04",
                                    "2": "sushi",
                                    "3": "10",
                                    "4": "N"
                                },
                                {
                                    "0": "A",
                                    "1": "2021-01-01",
                                    "2": "sushi",
                                    "3": "10",
                                    "4": "N"
                                },
                                {
                                    "0": "B",
                                    "1": "2021-01-11",
                                    "2": "sushi",
                                    "3": "10",
                                    "4": "Y"
                                },
                                {
                                    "0": "B",
                                    "1": "2021-01-01",
                                    "2": "curry",
                                    "3": "15",
                                    "4": "N"
                                },
                                {
                                    "0": "B",
                                    "1": "2021-01-02",
                                    "2": "curry",
                                    "3": "15",
                                    "4": "N"
                                },
                                {
                                    "0": "A",
                                    "1": "2021-01-01",
                                    "2": "curry",
                                    "3": "15",
                                    "4": "N"
                                },
                                {
                                    "0": "A",
                                    "1": "2021-01-07",
                                    "2": "curry",
                                    "3": "15",
                                    "4": "Y"
                                },
                                {
                                    "0": "A",
                                    "1": "2021-01-11",
                                    "2": "ramen",
                                    "3": "12",
                                    "4": "Y"
                                },
                                {
                                    "0": "A",
                                    "1": "2021-01-11",
                                    "2": "ramen",
                                    "3": "12",
                                    "4": "Y"
                                },
                                {
                                    "0": "A",
                                    "1": "2021-01-10",
                                    "2": "ramen",
                                    "3": "12",
                                    "4": "Y"
                                },
                                {
                                    "0": "B",
                                    "1": "2021-01-16",
                                    "2": "ramen",
                                    "3": "12",
                                    "4": "Y"
                                },
                                {
                                    "0": "B",
                                    "1": "2021-02-01",
                                    "2": "ramen",
                                    "3": "12",
                                    "4": "Y"
                                },
                                {
                                    "0": "C",
                                    "1": "2021-01-01",
                                    "2": "ramen",
                                    "3": "12",
                                    "4": "N"
                                },
                                {
                                    "0": "C",
                                    "1": "2021-01-01",
                                    "2": "ramen",
                                    "3": "12",
                                    "4": "N"
                                },
                                {
                                    "0": "C",
                                    "1": "2021-01-07",
                                    "2": "ramen",
                                    "3": "12",
                                    "4": "N"
                                }
                            ]
                        },
                        "text/html": "<table><tr><th>customer_id</th><th>order_date</th><th>product_name</th><th>price</th><th>member</th></tr><tr><td>B</td><td>2021-01-04</td><td>sushi</td><td>10</td><td>N</td></tr><tr><td>A</td><td>2021-01-01</td><td>sushi</td><td>10</td><td>N</td></tr><tr><td>B</td><td>2021-01-11</td><td>sushi</td><td>10</td><td>Y</td></tr><tr><td>B</td><td>2021-01-01</td><td>curry</td><td>15</td><td>N</td></tr><tr><td>B</td><td>2021-01-02</td><td>curry</td><td>15</td><td>N</td></tr><tr><td>A</td><td>2021-01-01</td><td>curry</td><td>15</td><td>N</td></tr><tr><td>A</td><td>2021-01-07</td><td>curry</td><td>15</td><td>Y</td></tr><tr><td>A</td><td>2021-01-11</td><td>ramen</td><td>12</td><td>Y</td></tr><tr><td>A</td><td>2021-01-11</td><td>ramen</td><td>12</td><td>Y</td></tr><tr><td>A</td><td>2021-01-10</td><td>ramen</td><td>12</td><td>Y</td></tr><tr><td>B</td><td>2021-01-16</td><td>ramen</td><td>12</td><td>Y</td></tr><tr><td>B</td><td>2021-02-01</td><td>ramen</td><td>12</td><td>Y</td></tr><tr><td>C</td><td>2021-01-01</td><td>ramen</td><td>12</td><td>N</td></tr><tr><td>C</td><td>2021-01-01</td><td>ramen</td><td>12</td><td>N</td></tr><tr><td>C</td><td>2021-01-07</td><td>ramen</td><td>12</td><td>N</td></tr></table>"
                    },
                    "metadata": {}
                }
            ],
            "execution_count": 74
        },
        {
            "cell_type": "markdown",
            "source": [
                "## **Rank All The Things**"
            ],
            "metadata": {
                "azdata_cell_guid": "0140793d-cf96-4bf3-ad47-0dacbd283a26"
            }
        },
        {
            "cell_type": "code",
            "source": [
                "WITH cte as(\r\n",
                "\tSELECT\r\n",
                "\t\ts.customer_id,\r\n",
                "    \t\ts.order_date,\r\n",
                "    \t\tm.product_name,\r\n",
                "    \t\tm.price,\r\n",
                "    \t\tCASE\r\n",
                "\t\t\tWHEN s.order_date < me.join_date THEN 'N'\r\n",
                "        \t\tWHEN me.join_date is null THEN 'N'\r\n",
                "        \t\tELSE 'Y'\r\n",
                "\t\tEND as member\r\n",
                "\tFROM sales s\r\n",
                "\tJOIN menu m\r\n",
                "\t\tON s.product_id = m.product_id\r\n",
                "\tLEFT JOIN members me\r\n",
                "\t\tON s.customer_id = me.customer_id)\r\n",
                "    SELECT\r\n",
                "    *,\r\n",
                "    CASE WHEN member = 'Y' THEN rank() OVER (PARTITION BY customer_id, member ORDER BY order_date) ELSE NULL END as ranking\r\n",
                "    FROM cte"
            ],
            "metadata": {
                "azdata_cell_guid": "aa53a28e-4aab-40f7-b487-29c50a502d3b"
            },
            "outputs": [
                {
                    "output_type": "display_data",
                    "data": {
                        "text/html": "(15 row(s) affected)"
                    },
                    "metadata": {}
                },
                {
                    "output_type": "display_data",
                    "data": {
                        "text/html": "Total execution time: 00:00:00.003"
                    },
                    "metadata": {}
                },
                {
                    "output_type": "execute_result",
                    "execution_count": 75,
                    "data": {
                        "application/vnd.dataresource+json": {
                            "schema": {
                                "fields": [
                                    {
                                        "name": "customer_id"
                                    },
                                    {
                                        "name": "order_date"
                                    },
                                    {
                                        "name": "product_name"
                                    },
                                    {
                                        "name": "price"
                                    },
                                    {
                                        "name": "member"
                                    },
                                    {
                                        "name": "ranking"
                                    }
                                ]
                            },
                            "data": [
                                {
                                    "0": "A",
                                    "1": "2021-01-01",
                                    "2": "sushi",
                                    "3": "10",
                                    "4": "N",
                                    "5": "NULL"
                                },
                                {
                                    "0": "A",
                                    "1": "2021-01-01",
                                    "2": "curry",
                                    "3": "15",
                                    "4": "N",
                                    "5": "NULL"
                                },
                                {
                                    "0": "A",
                                    "1": "2021-01-07",
                                    "2": "curry",
                                    "3": "15",
                                    "4": "Y",
                                    "5": "1"
                                },
                                {
                                    "0": "A",
                                    "1": "2021-01-10",
                                    "2": "ramen",
                                    "3": "12",
                                    "4": "Y",
                                    "5": "2"
                                },
                                {
                                    "0": "A",
                                    "1": "2021-01-11",
                                    "2": "ramen",
                                    "3": "12",
                                    "4": "Y",
                                    "5": "3"
                                },
                                {
                                    "0": "A",
                                    "1": "2021-01-11",
                                    "2": "ramen",
                                    "3": "12",
                                    "4": "Y",
                                    "5": "3"
                                },
                                {
                                    "0": "B",
                                    "1": "2021-01-01",
                                    "2": "curry",
                                    "3": "15",
                                    "4": "N",
                                    "5": "NULL"
                                },
                                {
                                    "0": "B",
                                    "1": "2021-01-02",
                                    "2": "curry",
                                    "3": "15",
                                    "4": "N",
                                    "5": "NULL"
                                },
                                {
                                    "0": "B",
                                    "1": "2021-01-04",
                                    "2": "sushi",
                                    "3": "10",
                                    "4": "N",
                                    "5": "NULL"
                                },
                                {
                                    "0": "B",
                                    "1": "2021-01-11",
                                    "2": "sushi",
                                    "3": "10",
                                    "4": "Y",
                                    "5": "1"
                                },
                                {
                                    "0": "B",
                                    "1": "2021-01-16",
                                    "2": "ramen",
                                    "3": "12",
                                    "4": "Y",
                                    "5": "2"
                                },
                                {
                                    "0": "B",
                                    "1": "2021-02-01",
                                    "2": "ramen",
                                    "3": "12",
                                    "4": "Y",
                                    "5": "3"
                                },
                                {
                                    "0": "C",
                                    "1": "2021-01-01",
                                    "2": "ramen",
                                    "3": "12",
                                    "4": "N",
                                    "5": "NULL"
                                },
                                {
                                    "0": "C",
                                    "1": "2021-01-01",
                                    "2": "ramen",
                                    "3": "12",
                                    "4": "N",
                                    "5": "NULL"
                                },
                                {
                                    "0": "C",
                                    "1": "2021-01-07",
                                    "2": "ramen",
                                    "3": "12",
                                    "4": "N",
                                    "5": "NULL"
                                }
                            ]
                        },
                        "text/html": "<table><tr><th>customer_id</th><th>order_date</th><th>product_name</th><th>price</th><th>member</th><th>ranking</th></tr><tr><td>A</td><td>2021-01-01</td><td>sushi</td><td>10</td><td>N</td><td>NULL</td></tr><tr><td>A</td><td>2021-01-01</td><td>curry</td><td>15</td><td>N</td><td>NULL</td></tr><tr><td>A</td><td>2021-01-07</td><td>curry</td><td>15</td><td>Y</td><td>1</td></tr><tr><td>A</td><td>2021-01-10</td><td>ramen</td><td>12</td><td>Y</td><td>2</td></tr><tr><td>A</td><td>2021-01-11</td><td>ramen</td><td>12</td><td>Y</td><td>3</td></tr><tr><td>A</td><td>2021-01-11</td><td>ramen</td><td>12</td><td>Y</td><td>3</td></tr><tr><td>B</td><td>2021-01-01</td><td>curry</td><td>15</td><td>N</td><td>NULL</td></tr><tr><td>B</td><td>2021-01-02</td><td>curry</td><td>15</td><td>N</td><td>NULL</td></tr><tr><td>B</td><td>2021-01-04</td><td>sushi</td><td>10</td><td>N</td><td>NULL</td></tr><tr><td>B</td><td>2021-01-11</td><td>sushi</td><td>10</td><td>Y</td><td>1</td></tr><tr><td>B</td><td>2021-01-16</td><td>ramen</td><td>12</td><td>Y</td><td>2</td></tr><tr><td>B</td><td>2021-02-01</td><td>ramen</td><td>12</td><td>Y</td><td>3</td></tr><tr><td>C</td><td>2021-01-01</td><td>ramen</td><td>12</td><td>N</td><td>NULL</td></tr><tr><td>C</td><td>2021-01-01</td><td>ramen</td><td>12</td><td>N</td><td>NULL</td></tr><tr><td>C</td><td>2021-01-07</td><td>ramen</td><td>12</td><td>N</td><td>NULL</td></tr></table>"
                    },
                    "metadata": {}
                }
            ],
            "execution_count": 75
        }
    ]
}