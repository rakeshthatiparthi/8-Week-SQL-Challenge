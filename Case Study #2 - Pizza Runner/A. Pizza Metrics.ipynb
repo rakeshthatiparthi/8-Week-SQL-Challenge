{
    "metadata": {
        "kernelspec": {
            "name": "SQL",
            "display_name": "SQL",
            "language": "sql"
        },
        "language_info": {
            "name": "sql",
            "version": ""
        }
    },
    "nbformat_minor": 2,
    "nbformat": 4,
    "cells": [
        {
            "cell_type": "markdown",
            "source": [
                "# **Case Study #2 - Pizza Runner - Solutions**"
            ],
            "metadata": {
                "azdata_cell_guid": "2820178a-c62e-4532-8926-ce48e7a366e1"
            }
        },
        {
            "cell_type": "markdown",
            "source": [
                "**Observations:**\n",
                "\n",
                "In customer\\_order tables, below row repeated twice, I am assuming that customer might have ordered the pizza 2 times as same kind of  pizza with same exclusions at the same time."
            ],
            "metadata": {
                "azdata_cell_guid": "e43b52f7-4b80-42c5-b480-5297608d15c0"
            }
        },
        {
            "cell_type": "code",
            "source": [
                "SELECT\r\n",
                "*\r\n",
                "FROM customer_orders\r\n",
                "WHERE order_id =4  and pizza_id=1"
            ],
            "metadata": {
                "azdata_cell_guid": "55013c97-cb92-4e55-ae58-f29b04a6ab5e"
            },
            "outputs": [
                {
                    "output_type": "display_data",
                    "data": {
                        "text/html": "(2 row(s) affected)"
                    },
                    "metadata": {}
                },
                {
                    "output_type": "display_data",
                    "data": {
                        "text/html": "Total execution time: 00:00:00.003"
                    },
                    "metadata": {}
                },
                {
                    "output_type": "execute_result",
                    "metadata": {},
                    "execution_count": 4,
                    "data": {
                        "application/vnd.dataresource+json": {
                            "schema": {
                                "fields": [
                                    {
                                        "name": "order_id"
                                    },
                                    {
                                        "name": "customer_id"
                                    },
                                    {
                                        "name": "pizza_id"
                                    },
                                    {
                                        "name": "exclusions"
                                    },
                                    {
                                        "name": "extras"
                                    },
                                    {
                                        "name": "order_time"
                                    }
                                ]
                            },
                            "data": [
                                {
                                    "0": "4",
                                    "1": "103",
                                    "2": "1",
                                    "3": "4",
                                    "4": "NULL",
                                    "5": "2020-01-04T13:23:46"
                                },
                                {
                                    "0": "4",
                                    "1": "103",
                                    "2": "1",
                                    "3": "4",
                                    "4": "NULL",
                                    "5": "2020-01-04T13:23:46"
                                }
                            ]
                        },
                        "text/html": [
                            "<table>",
                            "<tr><th>order_id</th><th>customer_id</th><th>pizza_id</th><th>exclusions</th><th>extras</th><th>order_time</th></tr>",
                            "<tr><td>4</td><td>103</td><td>1</td><td>4</td><td>NULL</td><td>2020-01-04T13:23:46</td></tr>",
                            "<tr><td>4</td><td>103</td><td>1</td><td>4</td><td>NULL</td><td>2020-01-04T13:23:46</td></tr>",
                            "</table>"
                        ]
                    }
                }
            ],
            "execution_count": 4
        },
        {
            "cell_type": "markdown",
            "source": [
                "Cleaning the customer\\_orders table and creating a view for further analysis"
            ],
            "metadata": {
                "azdata_cell_guid": "60b8506c-59a5-4693-abaf-b40c767c4495"
            }
        },
        {
            "cell_type": "code",
            "source": [
                "DROP VIEW IF EXISTS new_customer_orders;\r\n",
                "CREATE VIEW new_customer_orders AS\r\n",
                "\t\tSELECT  \r\n",
                "\t\t\torder_id,\r\n",
                "\t\t\tcustomer_id,\r\n",
                "            pizza_id,\r\n",
                "            CASE\r\n",
                "                WHEN exclusions = '' THEN NULL\r\n",
                "                WHEN exclusions = 'null' THEN NULL\r\n",
                "                ELSE exclusions\r\n",
                "            END AS exclusions,\r\n",
                "            CASE\r\n",
                "                WHEN extras = '' THEN NULL\r\n",
                "                WHEN extras = 'null' THEN NULL\r\n",
                "                WHEN extras = 'NaN' THEN NULL\r\n",
                "                ELSE extras\r\n",
                "            END AS extras,\r\n",
                "            order_time\r\n",
                "    FROM customer_orders;"
            ],
            "metadata": {
                "azdata_cell_guid": "07e0ea33-68be-4101-bfc5-5f18db5bd998"
            },
            "outputs": [
                {
                    "output_type": "display_data",
                    "data": {
                        "text/html": "Commands completed successfully"
                    },
                    "metadata": {}
                },
                {
                    "output_type": "display_data",
                    "data": {
                        "text/html": "Commands completed successfully"
                    },
                    "metadata": {}
                },
                {
                    "output_type": "display_data",
                    "data": {
                        "text/html": "Total execution time: 00:00:00.033"
                    },
                    "metadata": {}
                }
            ],
            "execution_count": 6
        },
        {
            "cell_type": "markdown",
            "source": [
                "Cleaning the runners\\_orders table and creating a view for further analysis"
            ],
            "metadata": {
                "azdata_cell_guid": "6eeb044b-32b5-4a32-97d7-b3a51b7206bf"
            }
        },
        {
            "cell_type": "code",
            "source": [
                "DROP VIEW IF EXISTS new_runner_orders;\r\n",
                "CREATE VIEW new_runner_orders AS\r\n",
                "SELECT\r\n",
                "\torder_id,\r\n",
                "    runner_id,\r\n",
                "    CASE\r\n",
                "\t\tWHEN pickup_time = 'null' THEN NULL\r\n",
                "\t\tELSE pickup_time\r\n",
                "\tEND AS pickup_time,\r\n",
                "\tCAST(\r\n",
                "\t\tCASE\r\n",
                "\t\t\tWHEN distance = 'null' THEN NULL\r\n",
                "\t\t\tELSE REGEXP_REPLACE(distance,'[a-z]+', '')\r\n",
                "\t\tEND AS DECIMAL\r\n",
                "        ) AS distance,\r\n",
                "\tCAST(\r\n",
                "\t\tCASE \r\n",
                "\t\t\tWHEN duration = 'null' THEN NULL\r\n",
                "\t\t\tELSE REGEXP_REPLACE(duration, '[a-z]+', '')\r\n",
                "\t\tEND AS DECIMAL \r\n",
                "        )  AS duration,\r\n",
                "\tCASE\r\n",
                "\t\tWHEN cancellation ='null' OR cancellation = 'NaN' OR cancellation = '' THEN NULL\r\n",
                "\t\tELSE cancellation\r\n",
                "\tEND AS cancellation\r\n",
                "FROM runner_orders;"
            ],
            "metadata": {
                "azdata_cell_guid": "cf8255ae-f6fe-40a9-ae7a-600fe24d97c1"
            },
            "outputs": [
                {
                    "output_type": "display_data",
                    "data": {
                        "text/html": "Commands completed successfully"
                    },
                    "metadata": {}
                },
                {
                    "output_type": "display_data",
                    "data": {
                        "text/html": "Commands completed successfully"
                    },
                    "metadata": {}
                },
                {
                    "output_type": "display_data",
                    "data": {
                        "text/html": "Total execution time: 00:00:00.006"
                    },
                    "metadata": {}
                }
            ],
            "execution_count": 9
        },
        {
            "cell_type": "markdown",
            "source": [
                "# **A. Pizza Metrics**"
            ],
            "metadata": {
                "azdata_cell_guid": "c130c4b5-5c0a-4728-8e23-2cb53b1904f3"
            }
        },
        {
            "cell_type": "markdown",
            "source": [
                "## 1\\. How many pizzas were ordered?"
            ],
            "metadata": {
                "azdata_cell_guid": "f8025dcd-2300-4a37-be80-8929170ba039"
            }
        },
        {
            "cell_type": "code",
            "source": [
                "SELECT \r\n",
                "\tcount(order_id) as Total_pizzas_ordered\r\n",
                "FROM new_customer_orders;"
            ],
            "metadata": {
                "azdata_cell_guid": "c88b72a9-3603-4540-a4fd-472326ef81f1"
            },
            "outputs": [
                {
                    "output_type": "display_data",
                    "data": {
                        "text/html": "(1 row(s) affected)"
                    },
                    "metadata": {}
                },
                {
                    "output_type": "display_data",
                    "data": {
                        "text/html": "Total execution time: 00:00:00.003"
                    },
                    "metadata": {}
                },
                {
                    "output_type": "execute_result",
                    "metadata": {},
                    "execution_count": 11,
                    "data": {
                        "application/vnd.dataresource+json": {
                            "schema": {
                                "fields": [
                                    {
                                        "name": "total_pizzas_ordered"
                                    }
                                ]
                            },
                            "data": [
                                {
                                    "0": "14"
                                }
                            ]
                        },
                        "text/html": [
                            "<table>",
                            "<tr><th>total_pizzas_ordered</th></tr>",
                            "<tr><td>14</td></tr>",
                            "</table>"
                        ]
                    }
                }
            ],
            "execution_count": 11
        },
        {
            "cell_type": "markdown",
            "source": [
                "## <span style=\"background-color: rgb(255, 255, 255); color: rgb(64, 64, 64); font-family: inherit; font-size: inherit; font-style: inherit; font-variant-ligatures: inherit; font-variant-caps: inherit; font-weight: inherit;\">2. How many unique customer orders were made?</span>"
            ],
            "metadata": {
                "azdata_cell_guid": "9386ff86-25e7-42e3-a8a8-13625d54f55e"
            }
        },
        {
            "cell_type": "code",
            "source": [
                "SELECT \r\n",
                "\tcount(DISTINCT(customer_id)) as unique_customers\r\n",
                "FROM new_customer_orders;"
            ],
            "metadata": {
                "azdata_cell_guid": "5ba4fe1b-e4c9-42c3-83ff-58a2983b7c58"
            },
            "outputs": [
                {
                    "output_type": "display_data",
                    "data": {
                        "text/html": "(1 row(s) affected)"
                    },
                    "metadata": {}
                },
                {
                    "output_type": "display_data",
                    "data": {
                        "text/html": "Total execution time: 00:00:00.002"
                    },
                    "metadata": {}
                },
                {
                    "output_type": "execute_result",
                    "metadata": {},
                    "execution_count": 12,
                    "data": {
                        "application/vnd.dataresource+json": {
                            "schema": {
                                "fields": [
                                    {
                                        "name": "unique_customers"
                                    }
                                ]
                            },
                            "data": [
                                {
                                    "0": "5"
                                }
                            ]
                        },
                        "text/html": [
                            "<table>",
                            "<tr><th>unique_customers</th></tr>",
                            "<tr><td>5</td></tr>",
                            "</table>"
                        ]
                    }
                }
            ],
            "execution_count": 12
        },
        {
            "cell_type": "markdown",
            "source": [
                "## <span style=\"background-color: rgb(255, 255, 255); color: rgb(64, 64, 64); font-family: inherit; font-size: inherit; font-style: inherit; font-variant-ligatures: inherit; font-variant-caps: inherit; font-weight: inherit;\">3. How many successful orders were delivered by each runner?</span>\n",
                "\n",
                "<span style=\"background-color: rgb(255, 255, 255); color: rgb(64, 64, 64); font-family: inherit; font-size: inherit; font-style: inherit; font-variant-ligatures: inherit; font-variant-caps: inherit; font-weight: inherit;\">Not considering the cancellation orders</span>"
            ],
            "metadata": {
                "azdata_cell_guid": "9f9f07c6-7d1f-49fd-8a3c-0c9265c97685"
            }
        },
        {
            "cell_type": "code",
            "source": [
                "SELECT\r\n",
                "\trunner_id,\r\n",
                "    count(*) as successful_orders_delivered\r\n",
                "FROM new_runner_orders\r\n",
                "WHERE cancellation is null\r\n",
                "GROUP BY runner_id;"
            ],
            "metadata": {
                "azdata_cell_guid": "6aadd663-39f2-4223-9cc7-378449080311"
            },
            "outputs": [
                {
                    "output_type": "display_data",
                    "data": {
                        "text/html": "(3 row(s) affected)"
                    },
                    "metadata": {}
                },
                {
                    "output_type": "display_data",
                    "data": {
                        "text/html": "Total execution time: 00:00:00.002"
                    },
                    "metadata": {}
                },
                {
                    "output_type": "execute_result",
                    "metadata": {},
                    "execution_count": 13,
                    "data": {
                        "application/vnd.dataresource+json": {
                            "schema": {
                                "fields": [
                                    {
                                        "name": "runner_id"
                                    },
                                    {
                                        "name": "successful_orders_delivered"
                                    }
                                ]
                            },
                            "data": [
                                {
                                    "0": "1",
                                    "1": "4"
                                },
                                {
                                    "0": "2",
                                    "1": "3"
                                },
                                {
                                    "0": "3",
                                    "1": "1"
                                }
                            ]
                        },
                        "text/html": [
                            "<table>",
                            "<tr><th>runner_id</th><th>successful_orders_delivered</th></tr>",
                            "<tr><td>1</td><td>4</td></tr>",
                            "<tr><td>2</td><td>3</td></tr>",
                            "<tr><td>3</td><td>1</td></tr>",
                            "</table>"
                        ]
                    }
                }
            ],
            "execution_count": 13
        },
        {
            "cell_type": "markdown",
            "source": [
                "## <span style=\"background-color: rgb(255, 255, 255); color: rgb(64, 64, 64); font-family: inherit; font-size: inherit; font-style: inherit; font-variant-ligatures: inherit; font-variant-caps: inherit; font-weight: inherit;\">4. How many of each type of pizza was delivered?</span>\n",
                "\n",
                "<span style=\"background-color: rgb(255, 255, 255); color: rgb(64, 64, 64); font-family: inherit; font-size: inherit; font-style: inherit; font-variant-ligatures: inherit; font-variant-caps: inherit; font-weight: inherit;\">counting only delivered pizzas</span>"
            ],
            "metadata": {
                "azdata_cell_guid": "762ec39b-95c0-4662-9644-d63ac3fb05c0"
            }
        },
        {
            "cell_type": "code",
            "source": [
                "SELECT \r\n",
                "\tp.pizza_name,\r\n",
                "    count(*) as count\r\n",
                "FROM new_customer_orders c\r\n",
                "JOIN pizza_names p\r\n",
                "\tON c.pizza_id = p.pizza_id\r\n",
                "JOIN new_runner_orders r\r\n",
                "\tON c.order_id = r.order_id\r\n",
                "    WHERE cancellation is null\r\n",
                "\tGROUP BY p.pizza_name;"
            ],
            "metadata": {
                "azdata_cell_guid": "26627c62-ffc0-443c-9454-0ca5e67a01d3"
            },
            "outputs": [
                {
                    "output_type": "display_data",
                    "data": {
                        "text/html": "(2 row(s) affected)"
                    },
                    "metadata": {}
                },
                {
                    "output_type": "display_data",
                    "data": {
                        "text/html": "Total execution time: 00:00:00.004"
                    },
                    "metadata": {}
                },
                {
                    "output_type": "execute_result",
                    "metadata": {},
                    "execution_count": 14,
                    "data": {
                        "application/vnd.dataresource+json": {
                            "schema": {
                                "fields": [
                                    {
                                        "name": "pizza_name"
                                    },
                                    {
                                        "name": "count"
                                    }
                                ]
                            },
                            "data": [
                                {
                                    "0": "Meatlovers",
                                    "1": "9"
                                },
                                {
                                    "0": "Vegetarian",
                                    "1": "3"
                                }
                            ]
                        },
                        "text/html": [
                            "<table>",
                            "<tr><th>pizza_name</th><th>count</th></tr>",
                            "<tr><td>Meatlovers</td><td>9</td></tr>",
                            "<tr><td>Vegetarian</td><td>3</td></tr>",
                            "</table>"
                        ]
                    }
                }
            ],
            "execution_count": 14
        },
        {
            "cell_type": "markdown",
            "source": [
                "## <span style=\"background-color: rgb(255, 255, 255); color: rgb(64, 64, 64); font-family: inherit; font-size: inherit; font-style: inherit; font-variant-ligatures: inherit; font-variant-caps: inherit; font-weight: inherit;\">5. How many Vegetarian and Meatlovers were ordered by each customer?</span>\n",
                "\n",
                "<span style=\"color: rgb(64, 64, 64); background-color: rgb(255, 255, 255);\">use case statement to count the Vegetarian and Meatlovers for each customer</span>"
            ],
            "metadata": {
                "azdata_cell_guid": "44e7f851-0a72-477e-813c-87702bdae49a"
            }
        },
        {
            "cell_type": "code",
            "source": [
                "SELECT\r\n",
                "\tc.customer_id,\r\n",
                "    COUNT(CASE\r\n",
                "\t\tWHEN p.pizza_name = 'Meatlovers' THEN 1\r\n",
                "\tEND) as meatlovers_orders,\r\n",
                "    COUNT(CASE\r\n",
                "\t\tWHEN p.pizza_name = 'Vegetarian' THEN 1\r\n",
                "\tEND) as Vegetarian_orders\r\n",
                "FROM new_customer_orders c\r\n",
                "JOIN pizza_names p\r\n",
                "\tON c.pizza_id = p.pizza_id\r\n",
                "    GROUP BY c.customer_id;"
            ],
            "metadata": {
                "azdata_cell_guid": "bfa18690-46ae-4ab4-ad37-73b5e63e86f5"
            },
            "outputs": [
                {
                    "output_type": "display_data",
                    "data": {
                        "text/html": "(5 row(s) affected)"
                    },
                    "metadata": {}
                },
                {
                    "output_type": "display_data",
                    "data": {
                        "text/html": "Total execution time: 00:00:00.003"
                    },
                    "metadata": {}
                },
                {
                    "output_type": "execute_result",
                    "metadata": {},
                    "execution_count": 15,
                    "data": {
                        "application/vnd.dataresource+json": {
                            "schema": {
                                "fields": [
                                    {
                                        "name": "customer_id"
                                    },
                                    {
                                        "name": "meatlovers_orders"
                                    },
                                    {
                                        "name": "vegetarian_orders"
                                    }
                                ]
                            },
                            "data": [
                                {
                                    "0": "101",
                                    "1": "2",
                                    "2": "1"
                                },
                                {
                                    "0": "103",
                                    "1": "3",
                                    "2": "1"
                                },
                                {
                                    "0": "104",
                                    "1": "3",
                                    "2": "0"
                                },
                                {
                                    "0": "105",
                                    "1": "0",
                                    "2": "1"
                                },
                                {
                                    "0": "102",
                                    "1": "2",
                                    "2": "1"
                                }
                            ]
                        },
                        "text/html": [
                            "<table>",
                            "<tr><th>customer_id</th><th>meatlovers_orders</th><th>vegetarian_orders</th></tr>",
                            "<tr><td>101</td><td>2</td><td>1</td></tr>",
                            "<tr><td>103</td><td>3</td><td>1</td></tr>",
                            "<tr><td>104</td><td>3</td><td>0</td></tr>",
                            "<tr><td>105</td><td>0</td><td>1</td></tr>",
                            "<tr><td>102</td><td>2</td><td>1</td></tr>",
                            "</table>"
                        ]
                    }
                }
            ],
            "execution_count": 15
        },
        {
            "cell_type": "markdown",
            "source": [
                "## <span style=\"background-color: rgb(255, 255, 255); color: rgb(64, 64, 64); font-family: inherit; font-size: inherit; font-style: inherit; font-variant-ligatures: inherit; font-variant-caps: inherit; font-weight: inherit;\">6. What was the maximum number of pizzas delivered in a single order?</span>"
            ],
            "metadata": {
                "azdata_cell_guid": "0b319e74-8e1a-489a-970b-3dc54b6df9da"
            }
        },
        {
            "cell_type": "code",
            "source": [
                "SELECT\r\n",
                "\tc.order_id,\r\n",
                "    count(*) as pizzas_delivered_count\r\n",
                "FROM new_customer_orders c\r\n",
                "JOIN new_runner_orders r\r\n",
                "\tON c.order_id = r.order_id\r\n",
                "    WHERE cancellation is null\r\n",
                "    GROUP BY c.order_id\r\n",
                "    ORDER BY pizzas_delivered_count desc\r\n",
                "    LIMIT 1;"
            ],
            "metadata": {
                "azdata_cell_guid": "f8e0bd75-30ca-4502-85cf-677fd4fa2511"
            },
            "outputs": [
                {
                    "output_type": "display_data",
                    "data": {
                        "text/html": "(1 row(s) affected)"
                    },
                    "metadata": {}
                },
                {
                    "output_type": "display_data",
                    "data": {
                        "text/html": "Total execution time: 00:00:00.001"
                    },
                    "metadata": {}
                },
                {
                    "output_type": "execute_result",
                    "metadata": {},
                    "execution_count": 16,
                    "data": {
                        "application/vnd.dataresource+json": {
                            "schema": {
                                "fields": [
                                    {
                                        "name": "order_id"
                                    },
                                    {
                                        "name": "pizzas_delivered_count"
                                    }
                                ]
                            },
                            "data": [
                                {
                                    "0": "4",
                                    "1": "3"
                                }
                            ]
                        },
                        "text/html": [
                            "<table>",
                            "<tr><th>order_id</th><th>pizzas_delivered_count</th></tr>",
                            "<tr><td>4</td><td>3</td></tr>",
                            "</table>"
                        ]
                    }
                }
            ],
            "execution_count": 16
        },
        {
            "cell_type": "markdown",
            "source": [
                "## <span style=\"background-color: rgb(255, 255, 255); color: rgb(64, 64, 64); font-family: inherit; font-size: inherit; font-style: inherit; font-variant-ligatures: inherit; font-variant-caps: inherit; font-weight: inherit;\">7. For each customer, how many delivered pizzas had at least 1 change and how many had no changes?</span>\n",
                "\n",
                "<span style=\"background-color: rgb(255, 255, 255); font-size: 14px;\"><font color=\"#404040\"><div style=\"\"><ul><li>at least 1 change means exclusions in pizza</li><li>no change means no exclusions in pizza</li></ul></div></font></span>"
            ],
            "metadata": {
                "azdata_cell_guid": "46b9aad0-0f4a-45df-b317-3a681f49c7b5"
            }
        },
        {
            "cell_type": "code",
            "source": [
                "SELECT\r\n",
                "\tc.customer_id,\r\n",
                "    COUNT(*) as total_delivered_pizzas,\r\n",
                "    COUNT(case\r\n",
                "\t\tWHEN c.exclusions is not null or c.extras is not null THEN 1\r\n",
                "\tEND)as atleat_one_change,\r\n",
                "    COUNT(case\r\n",
                "\t\tWHEN c.exclusions is null and c.extras is null THEN 1\r\n",
                "\tEND)as no_changes\r\n",
                "FROM new_customer_orders c\r\n",
                "JOIN new_runner_orders r\r\n",
                "\tON c.order_id = r.order_id\r\n",
                "    WHERE cancellation is null\r\n",
                "    GROUP BY c.customer_id;"
            ],
            "metadata": {
                "azdata_cell_guid": "fae97202-dcb8-4f82-8a2c-9a078a570a33"
            },
            "outputs": [
                {
                    "output_type": "display_data",
                    "data": {
                        "text/html": "(5 row(s) affected)"
                    },
                    "metadata": {}
                },
                {
                    "output_type": "display_data",
                    "data": {
                        "text/html": "Total execution time: 00:00:00.003"
                    },
                    "metadata": {}
                },
                {
                    "output_type": "execute_result",
                    "metadata": {},
                    "execution_count": 17,
                    "data": {
                        "application/vnd.dataresource+json": {
                            "schema": {
                                "fields": [
                                    {
                                        "name": "customer_id"
                                    },
                                    {
                                        "name": "total_delivered_pizzas"
                                    },
                                    {
                                        "name": "atleat_one_change"
                                    },
                                    {
                                        "name": "no_changes"
                                    }
                                ]
                            },
                            "data": [
                                {
                                    "0": "101",
                                    "1": "2",
                                    "2": "0",
                                    "3": "2"
                                },
                                {
                                    "0": "102",
                                    "1": "3",
                                    "2": "0",
                                    "3": "3"
                                },
                                {
                                    "0": "103",
                                    "1": "3",
                                    "2": "3",
                                    "3": "0"
                                },
                                {
                                    "0": "104",
                                    "1": "3",
                                    "2": "2",
                                    "3": "1"
                                },
                                {
                                    "0": "105",
                                    "1": "1",
                                    "2": "1",
                                    "3": "0"
                                }
                            ]
                        },
                        "text/html": [
                            "<table>",
                            "<tr><th>customer_id</th><th>total_delivered_pizzas</th><th>atleat_one_change</th><th>no_changes</th></tr>",
                            "<tr><td>101</td><td>2</td><td>0</td><td>2</td></tr>",
                            "<tr><td>102</td><td>3</td><td>0</td><td>3</td></tr>",
                            "<tr><td>103</td><td>3</td><td>3</td><td>0</td></tr>",
                            "<tr><td>104</td><td>3</td><td>2</td><td>1</td></tr>",
                            "<tr><td>105</td><td>1</td><td>1</td><td>0</td></tr>",
                            "</table>"
                        ]
                    }
                }
            ],
            "execution_count": 17
        },
        {
            "cell_type": "markdown",
            "source": [
                "## <span style=\"background-color: rgb(255, 255, 255); color: rgb(64, 64, 64); font-family: inherit; font-size: inherit; font-style: inherit; font-variant-ligatures: inherit; font-variant-caps: inherit; font-weight: inherit;\">8. How many pizzas were delivered that had both exclusions and extras?</span>"
            ],
            "metadata": {
                "azdata_cell_guid": "c9f8930c-367e-4f8e-b16c-b610b52f5315"
            }
        },
        {
            "cell_type": "code",
            "source": [
                "SELECT\r\n",
                "    count(*) AS pizzas_with_exclusions_and_extras\r\n",
                "FROM new_customer_orders c\r\n",
                "JOIN new_runner_orders r\r\n",
                "\tON c.order_id = r.order_id\r\n",
                "    WHERE r.cancellation is null\r\n",
                "    AND c.exclusions is not null\r\n",
                "    AND c.extras is not null"
            ],
            "metadata": {
                "azdata_cell_guid": "4402f934-820e-4818-9493-c5a57b4b1e50"
            },
            "outputs": [
                {
                    "output_type": "display_data",
                    "data": {
                        "text/html": "(1 row(s) affected)"
                    },
                    "metadata": {}
                },
                {
                    "output_type": "display_data",
                    "data": {
                        "text/html": "Total execution time: 00:00:00.003"
                    },
                    "metadata": {}
                },
                {
                    "output_type": "execute_result",
                    "metadata": {},
                    "execution_count": 18,
                    "data": {
                        "application/vnd.dataresource+json": {
                            "schema": {
                                "fields": [
                                    {
                                        "name": "pizzas_with_exclusions_and_extras"
                                    }
                                ]
                            },
                            "data": [
                                {
                                    "0": "1"
                                }
                            ]
                        },
                        "text/html": [
                            "<table>",
                            "<tr><th>pizzas_with_exclusions_and_extras</th></tr>",
                            "<tr><td>1</td></tr>",
                            "</table>"
                        ]
                    }
                }
            ],
            "execution_count": 18
        },
        {
            "cell_type": "markdown",
            "source": [
                "## <span style=\"background-color: rgb(255, 255, 255); color: rgb(64, 64, 64); font-family: inherit; font-size: inherit; font-style: inherit; font-variant-ligatures: inherit; font-variant-caps: inherit; font-weight: inherit;\">9. What was the total volume of pizzas ordered for each hour of the day?</span>\n",
                "\n",
                "<span style=\"background-color: rgb(255, 255, 255);\"><font color=\"#404040\"><span style=\"font-size: 14px;\">extract hour from order_time using EXTRACT()</span></font><br></span>"
            ],
            "metadata": {
                "azdata_cell_guid": "eec6bcb8-3d62-4a7b-a184-71cdfade4d89"
            }
        },
        {
            "cell_type": "code",
            "source": [
                "SELECT\r\n",
                "\tEXTRACT(HOUR FROM order_time) as Hour,\r\n",
                "\tCOUNT(*)\r\n",
                "FROM new_customer_orders\r\n",
                "GROUP BY Hour\r\n",
                "ORDER BY Hour;"
            ],
            "metadata": {
                "azdata_cell_guid": "f558792f-5781-4b41-8486-89acd64ec2e0"
            },
            "outputs": [
                {
                    "output_type": "display_data",
                    "data": {
                        "text/html": "(7 row(s) affected)"
                    },
                    "metadata": {}
                },
                {
                    "output_type": "display_data",
                    "data": {
                        "text/html": "Total execution time: 00:00:00.003"
                    },
                    "metadata": {}
                },
                {
                    "output_type": "execute_result",
                    "metadata": {},
                    "execution_count": 19,
                    "data": {
                        "application/vnd.dataresource+json": {
                            "schema": {
                                "fields": [
                                    {
                                        "name": "hour"
                                    },
                                    {
                                        "name": "count"
                                    }
                                ]
                            },
                            "data": [
                                {
                                    "0": "11.0",
                                    "1": "1"
                                },
                                {
                                    "0": "12.0",
                                    "1": "2"
                                },
                                {
                                    "0": "13.0",
                                    "1": "3"
                                },
                                {
                                    "0": "18.0",
                                    "1": "3"
                                },
                                {
                                    "0": "19.0",
                                    "1": "1"
                                },
                                {
                                    "0": "21.0",
                                    "1": "3"
                                },
                                {
                                    "0": "23.0",
                                    "1": "1"
                                }
                            ]
                        },
                        "text/html": [
                            "<table>",
                            "<tr><th>hour</th><th>count</th></tr>",
                            "<tr><td>11.0</td><td>1</td></tr>",
                            "<tr><td>12.0</td><td>2</td></tr>",
                            "<tr><td>13.0</td><td>3</td></tr>",
                            "<tr><td>18.0</td><td>3</td></tr>",
                            "<tr><td>19.0</td><td>1</td></tr>",
                            "<tr><td>21.0</td><td>3</td></tr>",
                            "<tr><td>23.0</td><td>1</td></tr>",
                            "</table>"
                        ]
                    }
                }
            ],
            "execution_count": 19
        },
        {
            "cell_type": "markdown",
            "source": [
                "## <span style=\"background-color: rgb(255, 255, 255); color: rgb(64, 64, 64); font-family: inherit; font-size: inherit; font-style: inherit; font-variant-ligatures: inherit; font-variant-caps: inherit; font-weight: inherit;\">10. What was the volume of orders for each day of the week?</span>\n",
                "\n",
                "<span style=\"background-color: rgb(255, 255, 255); color: rgb(64, 64, 64); font-family: inherit; font-size: inherit; font-style: inherit; font-variant-ligatures: inherit; font-variant-caps: inherit; font-weight: inherit;\">used the to_char() to get the weekday of the date</span>\n",
                "\n",
                "<span style=\"background-color: rgb(255, 255, 255); color: rgb(64, 64, 64); font-family: inherit; font-size: inherit; font-style: inherit; font-variant-ligatures: inherit; font-variant-caps: inherit; font-weight: inherit;\">group by weekday</span>"
            ],
            "metadata": {
                "azdata_cell_guid": "86848d2b-9466-4483-9f59-89cf83d839a1"
            }
        },
        {
            "cell_type": "code",
            "source": [
                "SELECT\r\n",
                "\tto_char(order_time, 'Day') AS weekday,\r\n",
                "\tCOUNT(*)\r\n",
                "FROM new_customer_orders\r\n",
                "GROUP BY weekday;"
            ],
            "metadata": {
                "azdata_cell_guid": "21776fb6-e2f1-420b-8b26-13b6f0ef1de6"
            },
            "outputs": [
                {
                    "output_type": "display_data",
                    "data": {
                        "text/html": "(4 row(s) affected)"
                    },
                    "metadata": {}
                },
                {
                    "output_type": "display_data",
                    "data": {
                        "text/html": "Total execution time: 00:00:00.002"
                    },
                    "metadata": {}
                },
                {
                    "output_type": "execute_result",
                    "metadata": {},
                    "execution_count": 20,
                    "data": {
                        "application/vnd.dataresource+json": {
                            "schema": {
                                "fields": [
                                    {
                                        "name": "weekday"
                                    },
                                    {
                                        "name": "count"
                                    }
                                ]
                            },
                            "data": [
                                {
                                    "0": "Saturday ",
                                    "1": "5"
                                },
                                {
                                    "0": "Thursday ",
                                    "1": "3"
                                },
                                {
                                    "0": "Friday   ",
                                    "1": "1"
                                },
                                {
                                    "0": "Wednesday",
                                    "1": "5"
                                }
                            ]
                        },
                        "text/html": [
                            "<table>",
                            "<tr><th>weekday</th><th>count</th></tr>",
                            "<tr><td>Saturday </td><td>5</td></tr>",
                            "<tr><td>Thursday </td><td>3</td></tr>",
                            "<tr><td>Friday   </td><td>1</td></tr>",
                            "<tr><td>Wednesday</td><td>5</td></tr>",
                            "</table>"
                        ]
                    }
                }
            ],
            "execution_count": 20
        },
        {
            "cell_type": "code",
            "source": [
                ""
            ],
            "metadata": {
                "azdata_cell_guid": "9ba19b75-2646-440a-a4b5-0330d60edb1f"
            },
            "outputs": [],
            "execution_count": null
        },
        {
            "cell_type": "code",
            "source": [
                ""
            ],
            "metadata": {
                "azdata_cell_guid": "de7dc559-4b03-4094-916b-22e66bf1ae98"
            },
            "outputs": [],
            "execution_count": null
        },
        {
            "cell_type": "code",
            "source": [
                ""
            ],
            "metadata": {
                "azdata_cell_guid": "86414cf1-9060-418c-81a3-8093623174d6"
            },
            "outputs": [],
            "execution_count": null
        }
    ]
}