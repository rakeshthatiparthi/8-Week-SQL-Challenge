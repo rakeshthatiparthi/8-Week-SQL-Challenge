{
    "metadata": {
        "kernelspec": {
            "name": "SQL",
            "display_name": "SQL",
            "language": "sql"
        },
        "language_info": {
            "name": "sql",
            "version": ""
        }
    },
    "nbformat_minor": 2,
    "nbformat": 4,
    "cells": [
        {
            "cell_type": "markdown",
            "source": [
                "# **C. Ingredient Optimisation**"
            ],
            "metadata": {
                "azdata_cell_guid": "dbcd7d23-e851-42f4-a440-3fad7ee8362a"
            }
        },
        {
            "cell_type": "markdown",
            "source": [
                "<span style=\"font-size: 14px;\"><b>1.What are the standard ingredients for each pizza?</b></span>\n",
                "\n",
                "- STRING\\_TO\\_ARRAY() function : This function is used to split a string into array elements using supplied delimiter and optional null string.\n",
                "- Cast a text to an integer using CAST()\n",
                "- UNNEST() function : This function is used to expand an array to a set of rows.\n",
                "- count the toppings, if it is used in both the pizzas it will return count as 2 then that toppings will be the standard ingredients for each pizza"
            ],
            "metadata": {
                "azdata_cell_guid": "7ca4317d-81ce-4d09-93b2-c4df1241fbe9"
            }
        },
        {
            "cell_type": "code",
            "source": [
                "with pizza_recipes_cte as(\r\n",
                "\tSELECT\r\n",
                "\t\tpizza_id,\r\n",
                "\t\tCAST(\r\n",
                "\t\t\tUNNEST(string_to_array(toppings, ', ')) AS INT\r\n",
                "\t\t\t) AS topping_id\r\n",
                "\tFROM pizza_recipes)\r\n",
                "SELECT\r\n",
                "\tpt.topping_name,\r\n",
                "\tCOUNT(*)\r\n",
                "FROM pizza_recipes_cte pr\r\n",
                "JOIN pizza_toppings pt\r\n",
                "\tON pr.topping_id=pt.topping_id\r\n",
                "\tGROUP BY pt.topping_name\r\n",
                "\tHAVING COUNT(*)=2"
            ],
            "metadata": {
                "azdata_cell_guid": "49f433cf-ac7b-47d2-966e-875f4df6a779"
            },
            "outputs": [
                {
                    "output_type": "display_data",
                    "data": {
                        "text/html": "(2 row(s) affected)"
                    },
                    "metadata": {}
                },
                {
                    "output_type": "display_data",
                    "data": {
                        "text/html": "Total execution time: 00:00:00.009"
                    },
                    "metadata": {}
                },
                {
                    "output_type": "execute_result",
                    "metadata": {},
                    "execution_count": 1,
                    "data": {
                        "application/vnd.dataresource+json": {
                            "schema": {
                                "fields": [
                                    {
                                        "name": "topping_name"
                                    },
                                    {
                                        "name": "count"
                                    }
                                ]
                            },
                            "data": [
                                {
                                    "0": "Mushrooms",
                                    "1": "2"
                                },
                                {
                                    "0": "Cheese",
                                    "1": "2"
                                }
                            ]
                        },
                        "text/html": [
                            "<table>",
                            "<tr><th>topping_name</th><th>count</th></tr>",
                            "<tr><td>Mushrooms</td><td>2</td></tr>",
                            "<tr><td>Cheese</td><td>2</td></tr>",
                            "</table>"
                        ]
                    }
                }
            ],
            "execution_count": 1
        },
        {
            "cell_type": "markdown",
            "source": [
                "<span style=\"font-size: 14px;\"><b>2. What was the most commonly added extra?</b></span>\n",
                "\n",
                "- <span style=\"font-size: 14px;\">where extras is not null</span>\n",
                "- <span style=\"font-size: 14px;\">STRING_TO_ARRAY() to split a string into array elements using supplied delimiter(,)</span>\n",
                "- <span style=\"font-size: 14px;\">UNNEST() function : This function is used to expand an array to a set of rows.(same as above solution)</span>\n",
                "- <span style=\"font-size: 14px;\">count the toppings&nbsp;</span> \n",
                "- <span style=\"font-size: 14px;\">sort the count in descinding order</span>\n",
                "- <span style=\"font-size: 14px;\">limit 1 (beacause we only want one item)</span>"
            ],
            "metadata": {
                "azdata_cell_guid": "12e1a5e0-6fd2-4748-9549-058aecae1337"
            }
        },
        {
            "cell_type": "code",
            "source": [
                "WITH extras_cte as(\r\n",
                "\tSELECT\r\n",
                "\t\tCAST(\r\n",
                "     \t\tUNNEST(string_to_array(extras, ', ')) AS INT\r\n",
                "\t\t\t) AS extras_id\r\n",
                "\tFROM new_customer_orders\r\n",
                "\tWHERE extras is not null)\r\n",
                "SELECT\r\n",
                "\tpt.topping_name,\r\n",
                "\tcount(*)\r\n",
                "FROM extras_cte as ec\r\n",
                "JOIN pizza_toppings pt\r\n",
                "\tON ec.extras_id = pt.topping_id\r\n",
                "\tGROUP BY pt.topping_name\r\n",
                "\tORDER BY count(*) DESC\r\n",
                "\tLIMIT 1;"
            ],
            "metadata": {
                "azdata_cell_guid": "e737aeea-57cd-4947-af3a-f131acc38727"
            },
            "outputs": [
                {
                    "output_type": "display_data",
                    "data": {
                        "text/html": "(1 row(s) affected)"
                    },
                    "metadata": {}
                },
                {
                    "output_type": "display_data",
                    "data": {
                        "text/html": "Total execution time: 00:00:00.004"
                    },
                    "metadata": {}
                },
                {
                    "output_type": "execute_result",
                    "metadata": {},
                    "execution_count": 2,
                    "data": {
                        "application/vnd.dataresource+json": {
                            "schema": {
                                "fields": [
                                    {
                                        "name": "topping_name"
                                    },
                                    {
                                        "name": "count"
                                    }
                                ]
                            },
                            "data": [
                                {
                                    "0": "Bacon",
                                    "1": "4"
                                }
                            ]
                        },
                        "text/html": [
                            "<table>",
                            "<tr><th>topping_name</th><th>count</th></tr>",
                            "<tr><td>Bacon</td><td>4</td></tr>",
                            "</table>"
                        ]
                    }
                }
            ],
            "execution_count": 2
        },
        {
            "cell_type": "markdown",
            "source": [
                "<span style=\"font-size: 14px;\"><b>3.What was the most common exclusion?</b></span>\n",
                "\n",
                "-  same as above solution but excluiosn instead of extras"
            ],
            "metadata": {
                "azdata_cell_guid": "7c7e9b77-ebef-48fe-8ec5-3c2ff4841320"
            }
        },
        {
            "cell_type": "code",
            "source": [
                "WITH exclusions_cte as(\r\n",
                "\tSELECT\r\n",
                "\t\tCAST(\r\n",
                "\t\t\tUNNEST(string_to_array(exclusions, ', ')) AS INT\r\n",
                "\t\t\t) AS exclusions_id\r\n",
                "\tFROM new_customer_orders\r\n",
                "\tWHERE exclusions is not null)\r\n",
                "SELECT \r\n",
                "\tpt.topping_name,\r\n",
                "\tCOUNT(*)\r\n",
                "FROM exclusions_cte as ec\r\n",
                "JOIN pizza_toppings pt\r\n",
                "\tON ec.exclusions_id = pt.topping_id\r\n",
                "\tGROUP BY pt.topping_name\r\n",
                "\tORDER BY count(*) DESC\r\n",
                "\tLIMIT 1;"
            ],
            "metadata": {
                "azdata_cell_guid": "c9d26353-f8d0-4455-a2d0-6caf5c7208c1"
            },
            "outputs": [
                {
                    "output_type": "display_data",
                    "data": {
                        "text/html": "(1 row(s) affected)"
                    },
                    "metadata": {}
                },
                {
                    "output_type": "display_data",
                    "data": {
                        "text/html": "Total execution time: 00:00:00.003"
                    },
                    "metadata": {}
                },
                {
                    "output_type": "execute_result",
                    "metadata": {},
                    "execution_count": 4,
                    "data": {
                        "application/vnd.dataresource+json": {
                            "schema": {
                                "fields": [
                                    {
                                        "name": "topping_name"
                                    },
                                    {
                                        "name": "count"
                                    }
                                ]
                            },
                            "data": [
                                {
                                    "0": "Cheese",
                                    "1": "4"
                                }
                            ]
                        },
                        "text/html": [
                            "<table>",
                            "<tr><th>topping_name</th><th>count</th></tr>",
                            "<tr><td>Cheese</td><td>4</td></tr>",
                            "</table>"
                        ]
                    }
                }
            ],
            "execution_count": 4
        },
        {
            "cell_type": "markdown",
            "source": [
                "<span style=\"font-size: 14px;\"><b>4. Generate an order item for each record in the customers_orders table in the format of one of the following:</b></span>\n",
                "\n",
                "<span style=\"font-size: 14px;\"><b><span style=\"white-space:pre\"></span>-- Meat Lovers</b></span>\n",
                "\n",
                "<span style=\"font-size: 14px;\"><b><span style=\"white-space:pre\"></span>-- Meat Lovers - Exclude Beef</b></span>\n",
                "\n",
                "<span style=\"font-size: 14px;\"><b><span style=\"white-space:pre\"></span>-- Meat Lovers - Extra Bacon</b></span>\n",
                "\n",
                "<span style=\"font-size: 14px;\"><b><span style=\"white-space:pre\"></span>-- Meat Lovers - Exclude Cheese, Bacon - Extra Mushroom, Peppers</b></span>"
            ],
            "metadata": {
                "azdata_cell_guid": "af5b18f7-20e5-4592-bc76-9d0e6326a5af"
            }
        },
        {
            "cell_type": "code",
            "source": [
                "CREATE VIEW temp_table as(\r\n",
                "with cte2 as(\r\n",
                "with cte1 as(\r\n",
                "\tSELECT \r\n",
                "\tc.order_id,\r\n",
                "\tc.pizza_id,\r\n",
                "\tSUBSTR(c.exclusions,1,1) as exclusion1,\r\n",
                "\tSUBSTR(c.exclusions,4,1) as exclusion2,\r\n",
                "\tSUBSTR(c.extras,1,1) as extra1,\r\n",
                "\tSUBSTR(c.extras,4,1) as extra2,\r\n",
                "\tpn.pizza_name\r\n",
                "FROM new_customer_orders c\r\n",
                "JOIN pizza_names pn\r\n",
                "\tON c.pizza_id = pn.pizza_id\r\n",
                "\tWHERE pn.pizza_name ='Meatlovers')\r\n",
                "\tSELECT \r\n",
                "\t\torder_id,\r\n",
                "\t\tpizza_id,\r\n",
                "\t\tCAST((CASE\r\n",
                "\t\t\tWHEN exclusion1 = '' THEN NULL\r\n",
                "            WHEN exclusion1 = 'null' THEN NULL\r\n",
                "            ELSE exclusion1\r\n",
                "        END)AS INT) AS exclusion1,\r\n",
                "\t\tCAST((CASE\r\n",
                "\t\t\tWHEN exclusion2 = '' THEN NULL\r\n",
                "            WHEN exclusion2 = 'null' THEN NULL\r\n",
                "            ELSE exclusion2\r\n",
                "        END)AS INT) AS exclusion2,\r\n",
                "\t\tCAST((CASE\r\n",
                "\t\t\tWHEN extra1 = '' THEN NULL\r\n",
                "            WHEN extra1 = 'null' THEN NULL\r\n",
                "            ELSE extra1\r\n",
                "        END)AS INT) AS extra1,\r\n",
                "\t\tCAST((CASE\r\n",
                "\t\t\tWHEN extra2 = '' THEN NULL\r\n",
                "            WHEN extra2 = 'null' THEN NULL\r\n",
                "            ELSE extra2\r\n",
                "        END)AS INT) AS extra2,\r\n",
                "\t\tpizza_name\r\n",
                "\tFROM cte1)\r\n",
                "\tSELECT \r\n",
                "\t\torder_id,\r\n",
                "\t\tpizza_id,\r\n",
                "\t\texclusion1,\r\n",
                "\t\texclusion2,\r\n",
                "\t\textra1,\r\n",
                "\t\textra2,\r\n",
                "\t\tpizza_name,\r\n",
                "\t\tpt1.topping_name as exclusion1_name,\r\n",
                "\t\tpt2.topping_name as exclusion2_name,\r\n",
                "\t\tpt3.topping_name as extra1_name,\r\n",
                "\t\tpt4.topping_name as extra2_name\r\n",
                "\tFROM cte2\r\n",
                "\tLEFT JOIN pizza_toppings pt1\r\n",
                "\t\tON cte2.exclusion1= pt1.topping_id\r\n",
                "\tLEFT JOIN pizza_toppings pt2\r\n",
                "\t\tON cte2.exclusion2=pt2.topping_id\r\n",
                "\tLEFT JOIN pizza_toppings pt3\r\n",
                "\t\tON cte2.extra1=pt3.topping_id\r\n",
                "\tLEFT JOIN pizza_toppings pt4\r\n",
                "\t\tON cte2.extra2=pt4.topping_id)"
            ],
            "metadata": {
                "azdata_cell_guid": "3555bee1-f6c2-4ab9-9c7e-901240e1cf7e"
            },
            "outputs": [
                {
                    "output_type": "display_data",
                    "data": {
                        "text/html": "Commands completed successfully"
                    },
                    "metadata": {}
                },
                {
                    "output_type": "display_data",
                    "data": {
                        "text/html": "Total execution time: 00:00:00.010"
                    },
                    "metadata": {}
                }
            ],
            "execution_count": 7
        },
        {
            "cell_type": "code",
            "source": [
                "SELECT \r\n",
                "\torder_id,\r\n",
                "\tpizza_name,\r\n",
                "\texclusion1_name,\r\n",
                "\texclusion2_name,\r\n",
                "\textra1_name,\r\n",
                "\textra2_name,\t\r\n",
                "\tCASE\r\n",
                "\t\tWHEN exclusion1_name is not null and exclusion2_name is not null and extra1_name is not null and extra2_name is not null \r\n",
                "\t\tTHEN CONCAT(pizza_name,' - Exclude ',exclusion1_name,', ',exclusion2_name,' - Extra ',extra1_name,', ',extra2_name)\r\n",
                "\t\tWHEN exclusion1_name is not null and extra1_name is not null\r\n",
                "\t\tTHEN CONCAT(pizza_name,' - Exclude ',exclusion1_name,', ',exclusion2_name,' - Extra ',extra1_name,', ',extra2_name)\r\n",
                "\t\tWHEN exclusion1_name is not null\r\n",
                "\t\tTHEN CONCAT(pizza_name,' - Exclude ',exclusion1_name)\r\n",
                "\t\tWHEN extra1_name is not null\r\n",
                "\t\tTHEN CONCAT(pizza_name,' - Extra ',extra1_name)\r\n",
                "\t\tELSE pizza_name\r\n",
                "\tEND as status\t\r\n",
                "FROM temp_table\r\n",
                "ORDER BY order_id"
            ],
            "metadata": {
                "azdata_cell_guid": "ef2b010d-9052-44d9-a3f2-3aee5d8099e9"
            },
            "outputs": [
                {
                    "output_type": "display_data",
                    "data": {
                        "text/html": "(10 row(s) affected)"
                    },
                    "metadata": {}
                },
                {
                    "output_type": "display_data",
                    "data": {
                        "text/html": "Total execution time: 00:00:00.010"
                    },
                    "metadata": {}
                },
                {
                    "output_type": "execute_result",
                    "metadata": {},
                    "execution_count": 8,
                    "data": {
                        "application/vnd.dataresource+json": {
                            "schema": {
                                "fields": [
                                    {
                                        "name": "order_id"
                                    },
                                    {
                                        "name": "pizza_name"
                                    },
                                    {
                                        "name": "exclusion1_name"
                                    },
                                    {
                                        "name": "exclusion2_name"
                                    },
                                    {
                                        "name": "extra1_name"
                                    },
                                    {
                                        "name": "extra2_name"
                                    },
                                    {
                                        "name": "status"
                                    }
                                ]
                            },
                            "data": [
                                {
                                    "0": "1",
                                    "1": "Meatlovers",
                                    "2": "NULL",
                                    "3": "NULL",
                                    "4": "NULL",
                                    "5": "NULL",
                                    "6": "Meatlovers"
                                },
                                {
                                    "0": "2",
                                    "1": "Meatlovers",
                                    "2": "NULL",
                                    "3": "NULL",
                                    "4": "NULL",
                                    "5": "NULL",
                                    "6": "Meatlovers"
                                },
                                {
                                    "0": "3",
                                    "1": "Meatlovers",
                                    "2": "NULL",
                                    "3": "NULL",
                                    "4": "NULL",
                                    "5": "NULL",
                                    "6": "Meatlovers"
                                },
                                {
                                    "0": "4",
                                    "1": "Meatlovers",
                                    "2": "Cheese",
                                    "3": "NULL",
                                    "4": "NULL",
                                    "5": "NULL",
                                    "6": "Meatlovers - Exclude Cheese"
                                },
                                {
                                    "0": "4",
                                    "1": "Meatlovers",
                                    "2": "Cheese",
                                    "3": "NULL",
                                    "4": "NULL",
                                    "5": "NULL",
                                    "6": "Meatlovers - Exclude Cheese"
                                },
                                {
                                    "0": "5",
                                    "1": "Meatlovers",
                                    "2": "NULL",
                                    "3": "NULL",
                                    "4": "Bacon",
                                    "5": "NULL",
                                    "6": "Meatlovers - Extra Bacon"
                                },
                                {
                                    "0": "8",
                                    "1": "Meatlovers",
                                    "2": "NULL",
                                    "3": "NULL",
                                    "4": "NULL",
                                    "5": "NULL",
                                    "6": "Meatlovers"
                                },
                                {
                                    "0": "9",
                                    "1": "Meatlovers",
                                    "2": "Cheese",
                                    "3": "NULL",
                                    "4": "Bacon",
                                    "5": "Chicken",
                                    "6": "Meatlovers - Exclude Cheese,  - Extra Bacon, Chicken"
                                },
                                {
                                    "0": "10",
                                    "1": "Meatlovers",
                                    "2": "NULL",
                                    "3": "NULL",
                                    "4": "NULL",
                                    "5": "NULL",
                                    "6": "Meatlovers"
                                },
                                {
                                    "0": "10",
                                    "1": "Meatlovers",
                                    "2": "BBQ Sauce",
                                    "3": "Mushrooms",
                                    "4": "Bacon",
                                    "5": "Cheese",
                                    "6": "Meatlovers - Exclude BBQ Sauce, Mushrooms - Extra Bacon, Cheese"
                                }
                            ]
                        },
                        "text/html": [
                            "<table>",
                            "<tr><th>order_id</th><th>pizza_name</th><th>exclusion1_name</th><th>exclusion2_name</th><th>extra1_name</th><th>extra2_name</th><th>status</th></tr>",
                            "<tr><td>1</td><td>Meatlovers</td><td>NULL</td><td>NULL</td><td>NULL</td><td>NULL</td><td>Meatlovers</td></tr>",
                            "<tr><td>2</td><td>Meatlovers</td><td>NULL</td><td>NULL</td><td>NULL</td><td>NULL</td><td>Meatlovers</td></tr>",
                            "<tr><td>3</td><td>Meatlovers</td><td>NULL</td><td>NULL</td><td>NULL</td><td>NULL</td><td>Meatlovers</td></tr>",
                            "<tr><td>4</td><td>Meatlovers</td><td>Cheese</td><td>NULL</td><td>NULL</td><td>NULL</td><td>Meatlovers - Exclude Cheese</td></tr>",
                            "<tr><td>4</td><td>Meatlovers</td><td>Cheese</td><td>NULL</td><td>NULL</td><td>NULL</td><td>Meatlovers - Exclude Cheese</td></tr>",
                            "<tr><td>5</td><td>Meatlovers</td><td>NULL</td><td>NULL</td><td>Bacon</td><td>NULL</td><td>Meatlovers - Extra Bacon</td></tr>",
                            "<tr><td>8</td><td>Meatlovers</td><td>NULL</td><td>NULL</td><td>NULL</td><td>NULL</td><td>Meatlovers</td></tr>",
                            "<tr><td>9</td><td>Meatlovers</td><td>Cheese</td><td>NULL</td><td>Bacon</td><td>Chicken</td><td>Meatlovers - Exclude Cheese,  - Extra Bacon, Chicken</td></tr>",
                            "<tr><td>10</td><td>Meatlovers</td><td>NULL</td><td>NULL</td><td>NULL</td><td>NULL</td><td>Meatlovers</td></tr>",
                            "<tr><td>10</td><td>Meatlovers</td><td>BBQ Sauce</td><td>Mushrooms</td><td>Bacon</td><td>Cheese</td><td>Meatlovers - Exclude BBQ Sauce, Mushrooms - Extra Bacon, Cheese</td></tr>",
                            "</table>"
                        ]
                    }
                }
            ],
            "execution_count": 8
        },
        {
            "cell_type": "markdown",
            "source": [
                "**5.\\*\\*Generate an alphabetically ordered comma separated ingredient list for each pizza order from the `customer_orders` table and add a `2x` in front of any relevant ingredients\\*\\***\n",
                "\n",
                "- **For example: `\"Meat Lovers: 2xBacon, Beef, ... , Salami\"`**"
            ],
            "metadata": {
                "azdata_cell_guid": "e90052a4-7ab8-43e1-a903-b23fc5f9a1d8"
            }
        },
        {
            "cell_type": "markdown",
            "source": [
                "**6\\. What is the total quantity of each ingredient used in all delivered pizzas sorted by most frequent first?**  \n",
                "\n",
                "- <span style=\"font-size: 14px;\">join new_customer_orders and new_runner_orders using order_id</span>\n",
                "- <span style=\"font-size: 14px;\">choose delivered pizzas (cancellation is null)</span>\n",
                "- <span style=\"font-size: 14px;\">then join pizza_names to get pizza name</span>"
            ],
            "metadata": {
                "azdata_cell_guid": "9b5055e2-fbce-4d96-9ad9-aed7f392fa29"
            }
        },
        {
            "cell_type": "code",
            "source": [
                "with cte as(SELECT \r\n",
                "\tc.order_id,\r\n",
                "\tc.customer_id,\r\n",
                "\tc.pizza_id,\r\n",
                "\tCAST(\r\n",
                "     UNNEST(string_to_array(pr.toppings, ', ')) AS INT\r\n",
                "     ) AS topping_id\r\n",
                "FROM new_customer_orders c\r\n",
                "JOIN new_runner_orders r\r\n",
                "\ton c.order_id = r.order_id\r\n",
                "JOIN pizza_recipes pr\r\n",
                "\tON c.pizza_id = pr.pizza_id\r\n",
                "\tWHERE r.cancellation is null\r\n",
                "\t)\r\n",
                "\tSELECT\r\n",
                "\t\tpt.topping_name,\r\n",
                "\t\tcte.topping_id,\r\n",
                "\t\tcount(*)\r\n",
                "\tFROM cte \r\n",
                "\tJOIN pizza_toppings pt\r\n",
                "\t\tON cte.topping_id = pt.topping_id\r\n",
                "\tgroup by cte.topping_id,pt.topping_name\r\n",
                "\torder by count(*) desc"
            ],
            "metadata": {
                "azdata_cell_guid": "c7d59919-5c0d-425e-b901-3e2dd10329d6"
            },
            "outputs": [
                {
                    "output_type": "display_data",
                    "data": {
                        "text/html": "(12 row(s) affected)"
                    },
                    "metadata": {}
                },
                {
                    "output_type": "display_data",
                    "data": {
                        "text/html": "Total execution time: 00:00:00.003"
                    },
                    "metadata": {}
                },
                {
                    "output_type": "execute_result",
                    "metadata": {},
                    "execution_count": 9,
                    "data": {
                        "application/vnd.dataresource+json": {
                            "schema": {
                                "fields": [
                                    {
                                        "name": "topping_name"
                                    },
                                    {
                                        "name": "topping_id"
                                    },
                                    {
                                        "name": "count"
                                    }
                                ]
                            },
                            "data": [
                                {
                                    "0": "Cheese",
                                    "1": "4",
                                    "2": "12"
                                },
                                {
                                    "0": "Mushrooms",
                                    "1": "6",
                                    "2": "12"
                                },
                                {
                                    "0": "Chicken",
                                    "1": "5",
                                    "2": "9"
                                },
                                {
                                    "0": "Pepperoni",
                                    "1": "8",
                                    "2": "9"
                                },
                                {
                                    "0": "Salami",
                                    "1": "10",
                                    "2": "9"
                                },
                                {
                                    "0": "Bacon",
                                    "1": "1",
                                    "2": "9"
                                },
                                {
                                    "0": "BBQ Sauce",
                                    "1": "2",
                                    "2": "9"
                                },
                                {
                                    "0": "Beef",
                                    "1": "3",
                                    "2": "9"
                                },
                                {
                                    "0": "Peppers",
                                    "1": "9",
                                    "2": "3"
                                },
                                {
                                    "0": "Tomatoes",
                                    "1": "11",
                                    "2": "3"
                                },
                                {
                                    "0": "Tomato Sauce",
                                    "1": "12",
                                    "2": "3"
                                },
                                {
                                    "0": "Onions",
                                    "1": "7",
                                    "2": "3"
                                }
                            ]
                        },
                        "text/html": [
                            "<table>",
                            "<tr><th>topping_name</th><th>topping_id</th><th>count</th></tr>",
                            "<tr><td>Cheese</td><td>4</td><td>12</td></tr>",
                            "<tr><td>Mushrooms</td><td>6</td><td>12</td></tr>",
                            "<tr><td>Chicken</td><td>5</td><td>9</td></tr>",
                            "<tr><td>Pepperoni</td><td>8</td><td>9</td></tr>",
                            "<tr><td>Salami</td><td>10</td><td>9</td></tr>",
                            "<tr><td>Bacon</td><td>1</td><td>9</td></tr>",
                            "<tr><td>BBQ Sauce</td><td>2</td><td>9</td></tr>",
                            "<tr><td>Beef</td><td>3</td><td>9</td></tr>",
                            "<tr><td>Peppers</td><td>9</td><td>3</td></tr>",
                            "<tr><td>Tomatoes</td><td>11</td><td>3</td></tr>",
                            "<tr><td>Tomato Sauce</td><td>12</td><td>3</td></tr>",
                            "<tr><td>Onions</td><td>7</td><td>3</td></tr>",
                            "</table>"
                        ]
                    }
                }
            ],
            "execution_count": 9
        }
    ]
}