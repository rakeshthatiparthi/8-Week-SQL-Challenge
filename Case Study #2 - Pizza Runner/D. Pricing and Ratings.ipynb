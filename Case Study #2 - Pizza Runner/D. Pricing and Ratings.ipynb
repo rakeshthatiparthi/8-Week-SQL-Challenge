{
    "metadata": {
        "kernelspec": {
            "name": "SQL",
            "display_name": "SQL",
            "language": "sql"
        },
        "language_info": {
            "name": "sql",
            "version": ""
        }
    },
    "nbformat_minor": 2,
    "nbformat": 4,
    "cells": [
        {
            "cell_type": "markdown",
            "source": [
                "# **D. Pricing and Ratings**"
            ],
            "metadata": {
                "azdata_cell_guid": "5a883fc9-cdc8-4776-b227-a42c7f8e56ab"
            }
        },
        {
            "cell_type": "markdown",
            "source": [
                "<span style=\"font-size: 14px;\"><b>1. If a Meat Lovers pizza costs $12 and Vegetarian costs $10 and there were no charges for changes&nbsp;</b></span> **\\- how much money has Pizza Runner made so far if there are no delivery fees?**"
            ],
            "metadata": {
                "azdata_cell_guid": "a2865049-e958-4be0-9c25-5b919f457e48"
            }
        },
        {
            "cell_type": "code",
            "source": [
                "with cte as(SELECT \r\n",
                "*,\r\n",
                "CASE\r\n",
                "\tWHEN pn.pizza_name='Meatlovers' Then 12\r\n",
                "\tELSE 10\r\n",
                "END pizza_cost\r\n",
                "FROM new_customer_orders c\r\n",
                "JOIN pizza_names pn\r\n",
                "\tON c.pizza_id = pn.pizza_id\r\n",
                "\tORDER BY c.order_id)\r\n",
                "\tSELECT\r\n",
                "\t\tSUM(pizza_cost) as total_revenue\r\n",
                "\tFROM cte"
            ],
            "metadata": {
                "azdata_cell_guid": "77491ee6-34a0-4baf-a3cb-ae435283e06c"
            },
            "outputs": [
                {
                    "output_type": "display_data",
                    "data": {
                        "text/html": "(1 row(s) affected)"
                    },
                    "metadata": {}
                },
                {
                    "output_type": "display_data",
                    "data": {
                        "text/html": "Total execution time: 00:00:00.009"
                    },
                    "metadata": {}
                },
                {
                    "output_type": "execute_result",
                    "metadata": {},
                    "execution_count": 1,
                    "data": {
                        "application/vnd.dataresource+json": {
                            "schema": {
                                "fields": [
                                    {
                                        "name": "total_revenue"
                                    }
                                ]
                            },
                            "data": [
                                {
                                    "0": "160"
                                }
                            ]
                        },
                        "text/html": [
                            "<table>",
                            "<tr><th>total_revenue</th></tr>",
                            "<tr><td>160</td></tr>",
                            "</table>"
                        ]
                    }
                }
            ],
            "execution_count": 1
        },
        {
            "cell_type": "markdown",
            "source": [
                "<span style=\"font-size: 14px;\"><b>2. What if there was an additional $1 charge for any pizza extras? Add cheese is $1 extra</b></span>"
            ],
            "metadata": {
                "azdata_cell_guid": "b327b17a-c6fa-45ae-93fe-2e40e2eb4a03"
            }
        },
        {
            "cell_type": "code",
            "source": [
                ""
            ],
            "metadata": {
                "azdata_cell_guid": "df3b8168-527e-4522-9691-62212770c8d4"
            },
            "outputs": [],
            "execution_count": null
        },
        {
            "cell_type": "markdown",
            "source": [
                "**3. The Pizza Runner team now wants to add an additional ratings system that allows customers to rate their runner, how would you design an additional table for this new dataset - generate a schema for this new table and insert your own data for ratings for each successful customer order between 1 to 5.**"
            ],
            "metadata": {
                "azdata_cell_guid": "2f3bcac4-5781-40a9-bf39-6af9c6c8ef6b"
            }
        },
        {
            "cell_type": "code",
            "source": [
                "CREATE TABLE ratings(\r\n",
                "   customer_id    INT     NOT NULL,\r\n",
                "   order_id       INT     NOT NULL,\r\n",
                "   runner_id      INT     NOT NULL,\r\n",
                "   rating         INT\r\n",
                ");"
            ],
            "metadata": {
                "azdata_cell_guid": "ba4e1560-2007-41b4-b7a7-23ed1f0233e8"
            },
            "outputs": [
                {
                    "output_type": "display_data",
                    "data": {
                        "text/html": "Commands completed successfully"
                    },
                    "metadata": {}
                },
                {
                    "output_type": "display_data",
                    "data": {
                        "text/html": "Total execution time: 00:00:00.006"
                    },
                    "metadata": {}
                }
            ],
            "execution_count": 4
        },
        {
            "cell_type": "code",
            "source": [
                "INSERT INTO \r\n",
                "ratings (customer_id,order_id,runner_id,rating) \r\n",
                "VALUES  (101, 1, 1, 3),\r\n",
                "\t\t(101, 2, 1, 5),\r\n",
                "\t\t(102, 3, 1, 4),\r\n",
                "\t\t(103, 4, 2, 4),\r\n",
                "\t\t(104, 5, 3, 5),\r\n",
                "\t\t(101, 6, 3, null ),\r\n",
                "\t\t(105, 7, 2, 5),\r\n",
                "\t\t(102, 8, 2, 3),\r\n",
                "\t\t(103, 9, 2, null ),\r\n",
                "\t\t(104, 10, 1, 4);"
            ],
            "metadata": {
                "azdata_cell_guid": "8d6bff94-b0d0-46b8-924e-9ef3329fb827"
            },
            "outputs": [
                {
                    "output_type": "display_data",
                    "data": {
                        "text/html": "Commands completed successfully"
                    },
                    "metadata": {}
                },
                {
                    "output_type": "display_data",
                    "data": {
                        "text/html": "Total execution time: 00:00:00.001"
                    },
                    "metadata": {}
                }
            ],
            "execution_count": 5
        },
        {
            "cell_type": "code",
            "source": [
                "SELECT \r\n",
                "*\r\n",
                "FROM ratings;"
            ],
            "metadata": {
                "azdata_cell_guid": "be0ad7f5-0857-4c69-b790-c4463c19577d"
            },
            "outputs": [
                {
                    "output_type": "display_data",
                    "data": {
                        "text/html": "(10 row(s) affected)"
                    },
                    "metadata": {}
                },
                {
                    "output_type": "display_data",
                    "data": {
                        "text/html": "Total execution time: 00:00:00.006"
                    },
                    "metadata": {}
                },
                {
                    "output_type": "execute_result",
                    "metadata": {},
                    "execution_count": 6,
                    "data": {
                        "application/vnd.dataresource+json": {
                            "schema": {
                                "fields": [
                                    {
                                        "name": "customer_id"
                                    },
                                    {
                                        "name": "order_id"
                                    },
                                    {
                                        "name": "runner_id"
                                    },
                                    {
                                        "name": "rating"
                                    }
                                ]
                            },
                            "data": [
                                {
                                    "0": "101",
                                    "1": "1",
                                    "2": "1",
                                    "3": "3"
                                },
                                {
                                    "0": "101",
                                    "1": "2",
                                    "2": "1",
                                    "3": "5"
                                },
                                {
                                    "0": "102",
                                    "1": "3",
                                    "2": "1",
                                    "3": "4"
                                },
                                {
                                    "0": "103",
                                    "1": "4",
                                    "2": "2",
                                    "3": "4"
                                },
                                {
                                    "0": "104",
                                    "1": "5",
                                    "2": "3",
                                    "3": "5"
                                },
                                {
                                    "0": "101",
                                    "1": "6",
                                    "2": "3",
                                    "3": "NULL"
                                },
                                {
                                    "0": "105",
                                    "1": "7",
                                    "2": "2",
                                    "3": "5"
                                },
                                {
                                    "0": "102",
                                    "1": "8",
                                    "2": "2",
                                    "3": "3"
                                },
                                {
                                    "0": "103",
                                    "1": "9",
                                    "2": "2",
                                    "3": "NULL"
                                },
                                {
                                    "0": "104",
                                    "1": "10",
                                    "2": "1",
                                    "3": "4"
                                }
                            ]
                        },
                        "text/html": [
                            "<table>",
                            "<tr><th>customer_id</th><th>order_id</th><th>runner_id</th><th>rating</th></tr>",
                            "<tr><td>101</td><td>1</td><td>1</td><td>3</td></tr>",
                            "<tr><td>101</td><td>2</td><td>1</td><td>5</td></tr>",
                            "<tr><td>102</td><td>3</td><td>1</td><td>4</td></tr>",
                            "<tr><td>103</td><td>4</td><td>2</td><td>4</td></tr>",
                            "<tr><td>104</td><td>5</td><td>3</td><td>5</td></tr>",
                            "<tr><td>101</td><td>6</td><td>3</td><td>NULL</td></tr>",
                            "<tr><td>105</td><td>7</td><td>2</td><td>5</td></tr>",
                            "<tr><td>102</td><td>8</td><td>2</td><td>3</td></tr>",
                            "<tr><td>103</td><td>9</td><td>2</td><td>NULL</td></tr>",
                            "<tr><td>104</td><td>10</td><td>1</td><td>4</td></tr>",
                            "</table>"
                        ]
                    }
                }
            ],
            "execution_count": 6
        },
        {
            "cell_type": "markdown",
            "source": [
                "<span style=\"font-size: 14px;\"><b>4. Using your newly generated table - can you join all of the information together to form a table which has the following information for successful deliveries?</b></span>\n",
                "\n",
                "- **customer\\_id**\n",
                "- **order\\_id**\n",
                "- **runner\\_id**\n",
                "- **rating**\n",
                "- **order\\_time**\n",
                "- **pickup\\_time**\n",
                "- **Time between order and pickup**\n",
                "- **Delivery duration**\n",
                "- **Average speed**\n",
                "- **Total number of pizzas**"
            ],
            "metadata": {
                "azdata_cell_guid": "e0f1e62e-2396-44b3-991a-a4db226432b9"
            }
        },
        {
            "cell_type": "code",
            "source": [
                "SELECT \r\n",
                "\tc.customer_id,\r\n",
                "\tc.order_id,\r\n",
                "\tr.runner_id,\r\n",
                "\tra.rating,\r\n",
                "\tc.order_time,\r\n",
                "\tr.pickup_time,\r\n",
                "\t((DATE_PART('day', r.pickup_time::timestamp - c.order_time::timestamp) * 24 + \r\n",
                "               DATE_PART('hour', r.pickup_time::timestamp - c.order_time::timestamp)) * 60 +\r\n",
                "               DATE_PART('minute', r.pickup_time::timestamp - c.order_time::timestamp)) as Time_between_order_and_pickup,\r\n",
                "\tr.duration,\r\n",
                "\tROUND(AVG((r.distance/r.duration)*100),2) as Average_speed,\r\n",
                "\tCOUNT(c.pizza_id) as Total_number_of_pizzas\r\n",
                "FROM new_customer_orders c\r\n",
                "JOIN new_runner_orders r\r\n",
                "\tON c.order_id = r.order_id\r\n",
                "JOIN ratings ra\r\n",
                "\tON c.order_id = ra.order_id\r\n",
                "\tWHERE r.cancellation is null\r\n",
                "\tGROUP BY\r\n",
                "\t\tc.customer_id,\r\n",
                "\t\tc.order_id,\r\n",
                "\t\tr.runner_id,\r\n",
                "\t\tra.rating,\r\n",
                "\t\tc.order_time,\r\n",
                "\t\tr.pickup_time,\r\n",
                "\t\t((DATE_PART('day', r.pickup_time::timestamp - c.order_time::timestamp) * 24 + \r\n",
                "               DATE_PART('hour', r.pickup_time::timestamp - c.order_time::timestamp)) * 60 +\r\n",
                "               DATE_PART('minute', r.pickup_time::timestamp - c.order_time::timestamp)),\r\n",
                "\t\tr.duration\r\n",
                "\tORDER BY customer_id"
            ],
            "metadata": {
                "azdata_cell_guid": "1ddf7ce7-7ce2-4d5f-b50d-fff438bcb391"
            },
            "outputs": [
                {
                    "output_type": "display_data",
                    "data": {
                        "text/html": "(8 row(s) affected)"
                    },
                    "metadata": {}
                },
                {
                    "output_type": "display_data",
                    "data": {
                        "text/html": "Total execution time: 00:00:00.009"
                    },
                    "metadata": {}
                },
                {
                    "output_type": "execute_result",
                    "metadata": {},
                    "execution_count": 7,
                    "data": {
                        "application/vnd.dataresource+json": {
                            "schema": {
                                "fields": [
                                    {
                                        "name": "customer_id"
                                    },
                                    {
                                        "name": "order_id"
                                    },
                                    {
                                        "name": "runner_id"
                                    },
                                    {
                                        "name": "rating"
                                    },
                                    {
                                        "name": "order_time"
                                    },
                                    {
                                        "name": "pickup_time"
                                    },
                                    {
                                        "name": "time_between_order_and_pickup"
                                    },
                                    {
                                        "name": "duration"
                                    },
                                    {
                                        "name": "average_speed"
                                    },
                                    {
                                        "name": "total_number_of_pizzas"
                                    }
                                ]
                            },
                            "data": [
                                {
                                    "0": "101",
                                    "1": "1",
                                    "2": "1",
                                    "3": "3",
                                    "4": "2020-01-01T18:05:02",
                                    "5": "2020-01-01 18:15:34",
                                    "6": "10.0",
                                    "7": "32",
                                    "8": "62.50",
                                    "9": "1"
                                },
                                {
                                    "0": "101",
                                    "1": "2",
                                    "2": "1",
                                    "3": "5",
                                    "4": "2020-01-01T19:00:52",
                                    "5": "2020-01-01 19:10:54",
                                    "6": "10.0",
                                    "7": "27",
                                    "8": "74.07",
                                    "9": "1"
                                },
                                {
                                    "0": "102",
                                    "1": "3",
                                    "2": "1",
                                    "3": "4",
                                    "4": "2020-01-02T23:51:23",
                                    "5": "2020-01-03 00:12:37",
                                    "6": "21.0",
                                    "7": "20",
                                    "8": "67.00",
                                    "9": "2"
                                },
                                {
                                    "0": "102",
                                    "1": "8",
                                    "2": "2",
                                    "3": "3",
                                    "4": "2020-01-09T23:54:33",
                                    "5": "2020-01-10 00:15:02",
                                    "6": "20.0",
                                    "7": "15",
                                    "8": "156.00",
                                    "9": "1"
                                },
                                {
                                    "0": "103",
                                    "1": "4",
                                    "2": "2",
                                    "3": "4",
                                    "4": "2020-01-04T13:23:46",
                                    "5": "2020-01-04 13:53:03",
                                    "6": "29.0",
                                    "7": "40",
                                    "8": "58.50",
                                    "9": "3"
                                },
                                {
                                    "0": "104",
                                    "1": "5",
                                    "2": "3",
                                    "3": "5",
                                    "4": "2020-01-08T21:00:29",
                                    "5": "2020-01-08 21:10:57",
                                    "6": "10.0",
                                    "7": "15",
                                    "8": "66.67",
                                    "9": "1"
                                },
                                {
                                    "0": "104",
                                    "1": "10",
                                    "2": "1",
                                    "3": "4",
                                    "4": "2020-01-11T18:34:49",
                                    "5": "2020-01-11 18:50:20",
                                    "6": "15.0",
                                    "7": "10",
                                    "8": "100.00",
                                    "9": "2"
                                },
                                {
                                    "0": "105",
                                    "1": "7",
                                    "2": "2",
                                    "3": "5",
                                    "4": "2020-01-08T21:20:29",
                                    "5": "2020-01-08 21:30:45",
                                    "6": "10.0",
                                    "7": "25",
                                    "8": "100.00",
                                    "9": "1"
                                }
                            ]
                        },
                        "text/html": [
                            "<table>",
                            "<tr><th>customer_id</th><th>order_id</th><th>runner_id</th><th>rating</th><th>order_time</th><th>pickup_time</th><th>time_between_order_and_pickup</th><th>duration</th><th>average_speed</th><th>total_number_of_pizzas</th></tr>",
                            "<tr><td>101</td><td>1</td><td>1</td><td>3</td><td>2020-01-01T18:05:02</td><td>2020-01-01 18:15:34</td><td>10.0</td><td>32</td><td>62.50</td><td>1</td></tr>",
                            "<tr><td>101</td><td>2</td><td>1</td><td>5</td><td>2020-01-01T19:00:52</td><td>2020-01-01 19:10:54</td><td>10.0</td><td>27</td><td>74.07</td><td>1</td></tr>",
                            "<tr><td>102</td><td>3</td><td>1</td><td>4</td><td>2020-01-02T23:51:23</td><td>2020-01-03 00:12:37</td><td>21.0</td><td>20</td><td>67.00</td><td>2</td></tr>",
                            "<tr><td>102</td><td>8</td><td>2</td><td>3</td><td>2020-01-09T23:54:33</td><td>2020-01-10 00:15:02</td><td>20.0</td><td>15</td><td>156.00</td><td>1</td></tr>",
                            "<tr><td>103</td><td>4</td><td>2</td><td>4</td><td>2020-01-04T13:23:46</td><td>2020-01-04 13:53:03</td><td>29.0</td><td>40</td><td>58.50</td><td>3</td></tr>",
                            "<tr><td>104</td><td>5</td><td>3</td><td>5</td><td>2020-01-08T21:00:29</td><td>2020-01-08 21:10:57</td><td>10.0</td><td>15</td><td>66.67</td><td>1</td></tr>",
                            "<tr><td>104</td><td>10</td><td>1</td><td>4</td><td>2020-01-11T18:34:49</td><td>2020-01-11 18:50:20</td><td>15.0</td><td>10</td><td>100.00</td><td>2</td></tr>",
                            "<tr><td>105</td><td>7</td><td>2</td><td>5</td><td>2020-01-08T21:20:29</td><td>2020-01-08 21:30:45</td><td>10.0</td><td>25</td><td>100.00</td><td>1</td></tr>",
                            "</table>"
                        ]
                    }
                }
            ],
            "execution_count": 7
        },
        {
            "cell_type": "markdown",
            "source": [
                "**<span style=\"font-size: 14px;\">5. If a Meat Lovers pizza was $12 and Vegetarian $10 fixed prices with no cost for extras and each runner is paid $0.30 per kilometre traveled</span>\\- how much money does Pizza Runner have left over after these deliveries?**"
            ],
            "metadata": {
                "azdata_cell_guid": "cd5e3b5d-5870-4dce-8ff7-e4b3dc649e8b"
            }
        },
        {
            "cell_type": "code",
            "source": [
                "with cte2 as(\r\n",
                "with cte1 as(\r\n",
                "SELECT \r\n",
                "\tc.order_id,\r\n",
                "\tc.pizza_id,\r\n",
                "\tr.runner_id,\r\n",
                "\tr.distance,\r\n",
                "\tpn.pizza_name,\r\n",
                "\tCASE\r\n",
                "\t\tWHEN pn.pizza_name='Meatlovers' Then 12 ELSE 10\r\n",
                "\tEND pizza_cost,\r\n",
                "\t(distance*0.30) as delivery_charge\r\n",
                "FROM new_customer_orders c\r\n",
                "JOIN new_runner_orders r\r\n",
                "\tON c.order_id = r.order_id\r\n",
                "JOIN pizza_names pn\r\n",
                "\tON c.pizza_id = pn.pizza_id\r\n",
                "\tWHERE r.cancellation is null)\r\n",
                "\tSELECT\r\n",
                "\t\torder_id,\r\n",
                "\t\tdelivery_charge,\r\n",
                "\t\tSUM(pizza_cost)as overall_pizza_cost_for_order\r\n",
                "\tFROM cte1\r\n",
                "\tGROUP BY order_id,delivery_charge\r\n",
                "\tORDER BY order_id)\r\n",
                "\tSELECT\r\n",
                "\t\tSUM(overall_pizza_cost_for_order) as total_revenue,\r\n",
                "\t\tSUM(delivery_charge) as total_delivery_charges_paid_to_runners,\r\n",
                "\t\tSUM(overall_pizza_cost_for_order)-SUM(delivery_charge) as left_over_money\r\n",
                "\tFROM cte2"
            ],
            "metadata": {
                "azdata_cell_guid": "dbd811b2-7124-42b1-95cc-6e59f3b46697"
            },
            "outputs": [
                {
                    "output_type": "display_data",
                    "data": {
                        "text/html": "(1 row(s) affected)"
                    },
                    "metadata": {}
                },
                {
                    "output_type": "display_data",
                    "data": {
                        "text/html": "Total execution time: 00:00:00.002"
                    },
                    "metadata": {}
                },
                {
                    "output_type": "execute_result",
                    "metadata": {},
                    "execution_count": 8,
                    "data": {
                        "application/vnd.dataresource+json": {
                            "schema": {
                                "fields": [
                                    {
                                        "name": "total_revenue"
                                    },
                                    {
                                        "name": "total_delivery_charges_paid_to_runners"
                                    },
                                    {
                                        "name": "left_over_money"
                                    }
                                ]
                            },
                            "data": [
                                {
                                    "0": "138",
                                    "1": "43.560",
                                    "2": "94.440"
                                }
                            ]
                        },
                        "text/html": [
                            "<table>",
                            "<tr><th>total_revenue</th><th>total_delivery_charges_paid_to_runners</th><th>left_over_money</th></tr>",
                            "<tr><td>138</td><td>43.560</td><td>94.440</td></tr>",
                            "</table>"
                        ]
                    }
                }
            ],
            "execution_count": 8
        }
    ]
}