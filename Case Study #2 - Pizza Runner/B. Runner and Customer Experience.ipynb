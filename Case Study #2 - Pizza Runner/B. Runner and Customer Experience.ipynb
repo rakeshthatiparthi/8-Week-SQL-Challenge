{
    "metadata": {
        "kernelspec": {
            "name": "SQL",
            "display_name": "SQL",
            "language": "sql"
        },
        "language_info": {
            "name": "sql",
            "version": ""
        }
    },
    "nbformat_minor": 2,
    "nbformat": 4,
    "cells": [
        {
            "cell_type": "markdown",
            "source": [
                "# B. Runner and Customer Experience"
            ],
            "metadata": {
                "azdata_cell_guid": "0d02cbe0-7b1f-4060-bad5-5a927981cffd"
            }
        },
        {
            "cell_type": "markdown",
            "source": [
                "<span style=\"font-size: 14px;\"><b>1. How many runners signed up for each 1 week period? (i.e. week starts 2021-01-01)</b></span>"
            ],
            "metadata": {
                "azdata_cell_guid": "1c16c9ea-e399-4d15-b303-61827154cd14"
            }
        },
        {
            "cell_type": "code",
            "source": [
                "SELECT\r\n",
                "\tEXTRACT(week FROM registration_date) as week,\r\n",
                "\tCOUNT(runner_id) as runners_count\r\n",
                "FROM runners\r\n",
                "GROUP BY week"
            ],
            "metadata": {
                "azdata_cell_guid": "dac226f5-39b1-49ee-8635-826741439671"
            },
            "outputs": [
                {
                    "output_type": "display_data",
                    "data": {
                        "text/html": "(3 row(s) affected)"
                    },
                    "metadata": {}
                },
                {
                    "output_type": "display_data",
                    "data": {
                        "text/html": "Total execution time: 00:00:00.003"
                    },
                    "metadata": {}
                },
                {
                    "output_type": "execute_result",
                    "metadata": {},
                    "execution_count": 3,
                    "data": {
                        "application/vnd.dataresource+json": {
                            "schema": {
                                "fields": [
                                    {
                                        "name": "week"
                                    },
                                    {
                                        "name": "runners_count"
                                    }
                                ]
                            },
                            "data": [
                                {
                                    "0": "53.0",
                                    "1": "2"
                                },
                                {
                                    "0": "1.0",
                                    "1": "1"
                                },
                                {
                                    "0": "2.0",
                                    "1": "1"
                                }
                            ]
                        },
                        "text/html": [
                            "<table>",
                            "<tr><th>week</th><th>runners_count</th></tr>",
                            "<tr><td>53.0</td><td>2</td></tr>",
                            "<tr><td>1.0</td><td>1</td></tr>",
                            "<tr><td>2.0</td><td>1</td></tr>",
                            "</table>"
                        ]
                    }
                }
            ],
            "execution_count": 3
        },
        {
            "cell_type": "markdown",
            "source": [
                "Here <span style=\"color: #09885a;\">53</span> week means <span style=\"color: #09885a;\">0</span> week"
            ],
            "metadata": {
                "azdata_cell_guid": "52875d24-8561-4a9a-9807-ba19176fb357"
            }
        },
        {
            "cell_type": "markdown",
            "source": [
                "<span style=\"font-size: 14px;\"><b>2.What was the average time in minutes it took for each runner to arrive at the Pizza Runner HQ to pickup the order?</b></span>\n",
                "\n",
                "- **time for pickup the orders is order\\_time - pickup\\_time**\n",
                "- **where pickup\\_time is not null which means the order had cancelled**"
            ],
            "metadata": {
                "azdata_cell_guid": "0e60b782-a462-4937-a17a-a79dc8293d44"
            }
        },
        {
            "cell_type": "code",
            "source": [
                "with cte as(\r\n",
                "\tSELECT \r\n",
                "\t\tDISTINCT(c.order_id),\r\n",
                "\t\tc.order_time,\r\n",
                "\t\tr.runner_id,\r\n",
                "\t\tr.pickup_time,\r\n",
                "\t\t((DATE_PART('day', r.pickup_time::timestamp - c.order_time::timestamp) * 24 + \r\n",
                "               DATE_PART('hour', r.pickup_time::timestamp - c.order_time::timestamp)) * 60 +\r\n",
                "               DATE_PART('minute', r.pickup_time::timestamp - c.order_time::timestamp)) as time_to_arrive_pizza_runner_HQ\r\n",
                "\tFROM new_customer_orders c\r\n",
                "\tJOIN new_runner_orders r\r\n",
                "\tON c.order_id = r.order_id\r\n",
                "\tWHERE r.pickup_time is not null)\r\n",
                "\tSELECT\r\n",
                "\t\trunner_id,\r\n",
                "\t\tAVG(time_to_arrive_pizza_runner_HQ) as avg_time_to_arrive_pizza_runner_HQ\r\n",
                "\tFROM cte\r\n",
                "\tGROUP BY runner_id\r\n",
                "\tORDER BY runner_id"
            ],
            "metadata": {
                "azdata_cell_guid": "62322158-251a-455d-a369-cb3956679d16"
            },
            "outputs": [
                {
                    "output_type": "display_data",
                    "data": {
                        "text/html": "(3 row(s) affected)"
                    },
                    "metadata": {}
                },
                {
                    "output_type": "display_data",
                    "data": {
                        "text/html": "Total execution time: 00:00:00.004"
                    },
                    "metadata": {}
                },
                {
                    "output_type": "execute_result",
                    "metadata": {},
                    "execution_count": 4,
                    "data": {
                        "application/vnd.dataresource+json": {
                            "schema": {
                                "fields": [
                                    {
                                        "name": "runner_id"
                                    },
                                    {
                                        "name": "avg_time_to_arrive_pizza_runner_hq"
                                    }
                                ]
                            },
                            "data": [
                                {
                                    "0": "1",
                                    "1": "14.0"
                                },
                                {
                                    "0": "2",
                                    "1": "19.666666666666668"
                                },
                                {
                                    "0": "3",
                                    "1": "10.0"
                                }
                            ]
                        },
                        "text/html": [
                            "<table>",
                            "<tr><th>runner_id</th><th>avg_time_to_arrive_pizza_runner_hq</th></tr>",
                            "<tr><td>1</td><td>14.0</td></tr>",
                            "<tr><td>2</td><td>19.666666666666668</td></tr>",
                            "<tr><td>3</td><td>10.0</td></tr>",
                            "</table>"
                        ]
                    }
                }
            ],
            "execution_count": 4
        },
        {
            "cell_type": "markdown",
            "source": [
                "<span style=\"font-size: 14px;\"><b>3. Is there any relationship between the number of pizzas and how long the order takes to prepare?</b></span>"
            ],
            "metadata": {
                "azdata_cell_guid": "fd292909-58f1-4629-a7b5-b56987af8844"
            }
        },
        {
            "cell_type": "code",
            "source": [
                "with cte as(\r\n",
                "\tSELECT\r\n",
                "\t\t*\r\n",
                "\tFROM (\r\n",
                "\t\tSELECT\r\n",
                "\t  \t\tc.order_id,\r\n",
                "\t\t\tCOUNT(c.pizza_id) as pizza_count\r\n",
                "\t\tFROM new_customer_orders c\r\n",
                "\t\tJOIN new_runner_orders r\r\n",
                "\t\t\tON c.order_id = r.order_id\r\n",
                "\t\t\tWHERE r.pickup_time is not null\r\n",
                "\t\t\tGROUP BY c.order_id) as temp1\r\n",
                "\tJOIN (\r\n",
                "\t\tSELECT \r\n",
                "\t\t\tDISTINCT(c.order_id),\r\n",
                "\t\t\t((DATE_PART('day', r.pickup_time::timestamp - c.order_time::timestamp) * 24 + \r\n",
                "               DATE_PART('hour', r.pickup_time::timestamp - c.order_time::timestamp)) * 60 +\r\n",
                "               DATE_PART('minute', r.pickup_time::timestamp - c.order_time::timestamp)) as order_prepare_time\r\n",
                "\t\tFROM new_customer_orders c\r\n",
                "\t\tJOIN new_runner_orders r\r\n",
                "\t\t\tON c.order_id = r.order_id\r\n",
                "\t\t\tWHERE r.pickup_time is not null) as temp2\r\n",
                "\tON temp1.order_id = temp2.order_id\r\n",
                "\tORDER BY temp1.order_id)\r\n",
                "SELECT \r\n",
                "\tpizza_count,\r\n",
                "\tavg(order_prepare_time)\r\n",
                "FROM cte\r\n",
                "GROUP BY pizza_count\r\n",
                "ORDER BY pizza_count"
            ],
            "metadata": {
                "azdata_cell_guid": "56cd50da-19c3-4f4f-9468-8b73c0ccd96e"
            },
            "outputs": [
                {
                    "output_type": "display_data",
                    "data": {
                        "text/html": "(3 row(s) affected)"
                    },
                    "metadata": {}
                },
                {
                    "output_type": "display_data",
                    "data": {
                        "text/html": "Total execution time: 00:00:00.003"
                    },
                    "metadata": {}
                },
                {
                    "output_type": "execute_result",
                    "metadata": {},
                    "execution_count": 5,
                    "data": {
                        "application/vnd.dataresource+json": {
                            "schema": {
                                "fields": [
                                    {
                                        "name": "pizza_count"
                                    },
                                    {
                                        "name": "avg"
                                    }
                                ]
                            },
                            "data": [
                                {
                                    "0": "1",
                                    "1": "12.0"
                                },
                                {
                                    "0": "2",
                                    "1": "18.0"
                                },
                                {
                                    "0": "3",
                                    "1": "29.0"
                                }
                            ]
                        },
                        "text/html": [
                            "<table>",
                            "<tr><th>pizza_count</th><th>avg</th></tr>",
                            "<tr><td>1</td><td>12.0</td></tr>",
                            "<tr><td>2</td><td>18.0</td></tr>",
                            "<tr><td>3</td><td>29.0</td></tr>",
                            "</table>"
                        ]
                    }
                }
            ],
            "execution_count": 5
        },
        {
            "cell_type": "markdown",
            "source": [
                "<span style=\"font-size: 14px;\"><b>Observation:</b></span>\n",
                "\n",
                "- pizza count increseas time to prepare is also incresead"
            ],
            "metadata": {
                "azdata_cell_guid": "89e5238e-0f36-490a-860d-1a2290e90246"
            }
        },
        {
            "cell_type": "markdown",
            "source": [
                "<span style=\"font-size: 14px;\"><b>4.What was the average distance travelled for each customer?</b></span>"
            ],
            "metadata": {
                "azdata_cell_guid": "49973475-5bea-48a9-9e4b-2a1d98de66df"
            }
        },
        {
            "cell_type": "code",
            "source": [
                "with cte as(\r\n",
                "\tSELECT\r\n",
                "\t\tc.order_id,\r\n",
                "\t\tc.customer_id,\r\n",
                "\t\tr.distance\r\n",
                "\tFROM new_customer_orders c\r\n",
                "\tJOIN new_runner_orders r\r\n",
                "\t\tON c.order_id = r.order_id\r\n",
                "\t\tWHERE r.distance is not null)\r\n",
                "\t\tSELECT \r\n",
                "\t\t\tcustomer_id,\r\n",
                "\t\t\tROUND(AVG(distance),2) as avg_distance\r\n",
                "\t\tFROM cte\r\n",
                "\t\tGROUP BY customer_id\r\n",
                "\t\tORDER BY customer_id"
            ],
            "metadata": {
                "azdata_cell_guid": "7eaa4e8d-1b1f-42b5-8a54-aaf3b7087d9a"
            },
            "outputs": [
                {
                    "output_type": "display_data",
                    "data": {
                        "text/html": "(5 row(s) affected)"
                    },
                    "metadata": {}
                },
                {
                    "output_type": "display_data",
                    "data": {
                        "text/html": "Total execution time: 00:00:00.003"
                    },
                    "metadata": {}
                },
                {
                    "output_type": "execute_result",
                    "metadata": {},
                    "execution_count": 6,
                    "data": {
                        "application/vnd.dataresource+json": {
                            "schema": {
                                "fields": [
                                    {
                                        "name": "customer_id"
                                    },
                                    {
                                        "name": "avg_distance"
                                    }
                                ]
                            },
                            "data": [
                                {
                                    "0": "101",
                                    "1": "20.00"
                                },
                                {
                                    "0": "102",
                                    "1": "16.73"
                                },
                                {
                                    "0": "103",
                                    "1": "23.40"
                                },
                                {
                                    "0": "104",
                                    "1": "10.00"
                                },
                                {
                                    "0": "105",
                                    "1": "25.00"
                                }
                            ]
                        },
                        "text/html": [
                            "<table>",
                            "<tr><th>customer_id</th><th>avg_distance</th></tr>",
                            "<tr><td>101</td><td>20.00</td></tr>",
                            "<tr><td>102</td><td>16.73</td></tr>",
                            "<tr><td>103</td><td>23.40</td></tr>",
                            "<tr><td>104</td><td>10.00</td></tr>",
                            "<tr><td>105</td><td>25.00</td></tr>",
                            "</table>"
                        ]
                    }
                }
            ],
            "execution_count": 6
        },
        {
            "cell_type": "markdown",
            "source": [
                "<span style=\"font-size: 14px;\"><b>5. What was the difference between the longest and shortest delivery times for all orders?</b></span>"
            ],
            "metadata": {
                "azdata_cell_guid": "c9b09426-cd47-4c7d-a63e-fe5d9dc90cf8"
            }
        },
        {
            "cell_type": "code",
            "source": [
                "SELECT\r\n",
                "\tMAX(distance) as max_distance,\r\n",
                "\tMIN(distance) as min_distance,\r\n",
                "\tMAX(distance)-MIN(distance) as diff_btw_longest_shortest\r\n",
                "FROM new_runner_orders r\r\n",
                "\twhere distance is not null"
            ],
            "metadata": {
                "azdata_cell_guid": "daed63cb-46cd-46f5-8b6f-244ee93e3194"
            },
            "outputs": [
                {
                    "output_type": "display_data",
                    "data": {
                        "text/html": "(1 row(s) affected)"
                    },
                    "metadata": {}
                },
                {
                    "output_type": "display_data",
                    "data": {
                        "text/html": "Total execution time: 00:00:00.002"
                    },
                    "metadata": {}
                },
                {
                    "output_type": "execute_result",
                    "metadata": {},
                    "execution_count": 7,
                    "data": {
                        "application/vnd.dataresource+json": {
                            "schema": {
                                "fields": [
                                    {
                                        "name": "max_distance"
                                    },
                                    {
                                        "name": "min_distance"
                                    },
                                    {
                                        "name": "diff_btw_longest_shortest"
                                    }
                                ]
                            },
                            "data": [
                                {
                                    "0": "25",
                                    "1": "10",
                                    "2": "15"
                                }
                            ]
                        },
                        "text/html": [
                            "<table>",
                            "<tr><th>max_distance</th><th>min_distance</th><th>diff_btw_longest_shortest</th></tr>",
                            "<tr><td>25</td><td>10</td><td>15</td></tr>",
                            "</table>"
                        ]
                    }
                }
            ],
            "execution_count": 7
        },
        {
            "cell_type": "markdown",
            "source": [
                "<span style=\"font-size: 14px;\"><b>6. What was the average speed for each runner for each delivery and do you notice any trend for these values?</b></span>"
            ],
            "metadata": {
                "azdata_cell_guid": "d6e631da-f765-4d5a-92ea-07f350894a5e"
            }
        },
        {
            "cell_type": "code",
            "source": [
                "WITH cte as(\r\n",
                "SELECT \r\n",
                "\trunner_id,\r\n",
                "\tdistance,\r\n",
                "\tduration,\r\n",
                "\tROUND((distance/duration),2) as speed_per_minute\r\n",
                "FROM new_runner_orders \r\n",
                "where distance is not null)\r\n",
                "SELECT \r\n",
                "\trunner_id,\r\n",
                "\tROUND(avg(speed_per_minute),2) avg_speed\r\n",
                "FROM cte\r\n",
                "GROUP BY runner_id\r\n",
                "ORDER BY runner_id"
            ],
            "metadata": {
                "azdata_cell_guid": "c173ddae-63e0-448e-8f8a-c799b5789d6b"
            },
            "outputs": [
                {
                    "output_type": "display_data",
                    "data": {
                        "text/html": "(3 row(s) affected)"
                    },
                    "metadata": {}
                },
                {
                    "output_type": "display_data",
                    "data": {
                        "text/html": "Total execution time: 00:00:00.002"
                    },
                    "metadata": {}
                },
                {
                    "output_type": "execute_result",
                    "metadata": {},
                    "execution_count": 8,
                    "data": {
                        "application/vnd.dataresource+json": {
                            "schema": {
                                "fields": [
                                    {
                                        "name": "runner_id"
                                    },
                                    {
                                        "name": "avg_speed"
                                    }
                                ]
                            },
                            "data": [
                                {
                                    "0": "1",
                                    "1": "0.76"
                                },
                                {
                                    "0": "2",
                                    "1": "1.05"
                                },
                                {
                                    "0": "3",
                                    "1": "0.67"
                                }
                            ]
                        },
                        "text/html": [
                            "<table>",
                            "<tr><th>runner_id</th><th>avg_speed</th></tr>",
                            "<tr><td>1</td><td>0.76</td></tr>",
                            "<tr><td>2</td><td>1.05</td></tr>",
                            "<tr><td>3</td><td>0.67</td></tr>",
                            "</table>"
                        ]
                    }
                }
            ],
            "execution_count": 8
        },
        {
            "cell_type": "markdown",
            "source": [
                "<span style=\"font-size: 14px;\"><b>7. What is the successful delivery percentage for each runner?</b></span>"
            ],
            "metadata": {
                "azdata_cell_guid": "523612a8-5d31-415e-89ab-2c1cd46b63d8"
            }
        },
        {
            "cell_type": "code",
            "source": [
                "with cte as(\r\n",
                "SELECT \r\n",
                "\trunner_id,\r\n",
                "\tCOUNT(*) as total_orders,\r\n",
                "\tCOUNT(\r\n",
                "\t\tCASE\r\n",
                "\t\t\tWHEN cancellation is null THEN 1\r\n",
                "\t\tEND) as delivered_orders,\r\n",
                "\t\tCOUNT(\r\n",
                "\t\tCASE\r\n",
                "\t\t\tWHEN cancellation is not null THEN 1\r\n",
                "\t\tEND) as cancelled_orders\r\n",
                "FROM new_runner_orders\r\n",
                "GROUP BY runner_id\r\n",
                "ORDER BY runner_id)\r\n",
                "SELECT\r\n",
                "\t*,\r\n",
                "\tROUND((delivered_orders::decimal/total_orders::decimal)*100,2)\r\n",
                "FROM cte"
            ],
            "metadata": {
                "azdata_cell_guid": "c4717ad3-6f4f-44bc-92f8-4bcd04c7bccb"
            },
            "outputs": [
                {
                    "output_type": "display_data",
                    "data": {
                        "text/html": "(3 row(s) affected)"
                    },
                    "metadata": {}
                },
                {
                    "output_type": "display_data",
                    "data": {
                        "text/html": "Total execution time: 00:00:00.002"
                    },
                    "metadata": {}
                },
                {
                    "output_type": "execute_result",
                    "metadata": {},
                    "execution_count": 9,
                    "data": {
                        "application/vnd.dataresource+json": {
                            "schema": {
                                "fields": [
                                    {
                                        "name": "runner_id"
                                    },
                                    {
                                        "name": "total_orders"
                                    },
                                    {
                                        "name": "delivered_orders"
                                    },
                                    {
                                        "name": "cancelled_orders"
                                    },
                                    {
                                        "name": "round"
                                    }
                                ]
                            },
                            "data": [
                                {
                                    "0": "1",
                                    "1": "4",
                                    "2": "4",
                                    "3": "0",
                                    "4": "100.00"
                                },
                                {
                                    "0": "2",
                                    "1": "4",
                                    "2": "3",
                                    "3": "1",
                                    "4": "75.00"
                                },
                                {
                                    "0": "3",
                                    "1": "2",
                                    "2": "1",
                                    "3": "1",
                                    "4": "50.00"
                                }
                            ]
                        },
                        "text/html": [
                            "<table>",
                            "<tr><th>runner_id</th><th>total_orders</th><th>delivered_orders</th><th>cancelled_orders</th><th>round</th></tr>",
                            "<tr><td>1</td><td>4</td><td>4</td><td>0</td><td>100.00</td></tr>",
                            "<tr><td>2</td><td>4</td><td>3</td><td>1</td><td>75.00</td></tr>",
                            "<tr><td>3</td><td>2</td><td>1</td><td>1</td><td>50.00</td></tr>",
                            "</table>"
                        ]
                    }
                }
            ],
            "execution_count": 9
        }
    ]
}