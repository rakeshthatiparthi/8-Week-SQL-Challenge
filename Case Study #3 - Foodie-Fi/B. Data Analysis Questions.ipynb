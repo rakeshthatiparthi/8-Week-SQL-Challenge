{
    "metadata": {
        "kernelspec": {
            "name": "SQL",
            "display_name": "SQL",
            "language": "sql"
        },
        "language_info": {
            "name": "sql",
            "version": ""
        }
    },
    "nbformat_minor": 2,
    "nbformat": 4,
    "cells": [
        {
            "cell_type": "markdown",
            "source": [
                "# **B. Data Analysis Questions**\n",
                "\n",
                "**Things I learned:**\n",
                "\n",
                "- multiple common table expression(cte)s\n",
                "- LEAD() <span style=\"background-color: rgb(255, 255, 255); color: rgb(77, 81, 86); font-family: arial, sans-serif;\">analytic function</span>\n",
                "- <span style=\"background-color: rgb(255, 255, 255); color: rgb(77, 81, 86); font-family: arial, sans-serif;\">CASE statement<br></span>"
            ],
            "metadata": {
                "azdata_cell_guid": "bd86bd2f-7ddb-41c8-9577-551d5cb737a9"
            }
        },
        {
            "cell_type": "markdown",
            "source": [
                "### **1\\. How many customers has Foodie-Fi ever had?**"
            ],
            "metadata": {
                "azdata_cell_guid": "bb71dcee-e6b8-40b5-9dd5-c4cabc485b83"
            }
        },
        {
            "cell_type": "code",
            "source": [
                "SELECT \r\n",
                "\tCOUNT(DISTINCT(s.customer_id)) as no_of_customers\r\n",
                "FROM subscriptions s\r\n",
                "JOIN plans p\r\n",
                "\tON s.plan_id = p.plan_id;"
            ],
            "metadata": {
                "azdata_cell_guid": "2527651e-d7e8-4f67-bcf6-e3ee70f240f1",
                "tags": []
            },
            "outputs": [
                {
                    "output_type": "display_data",
                    "data": {
                        "text/html": "(1 row(s) affected)"
                    },
                    "metadata": {}
                },
                {
                    "output_type": "display_data",
                    "data": {
                        "text/html": "Total execution time: 00:00:00.011"
                    },
                    "metadata": {}
                },
                {
                    "output_type": "execute_result",
                    "metadata": {},
                    "execution_count": 1,
                    "data": {
                        "application/vnd.dataresource+json": {
                            "schema": {
                                "fields": [
                                    {
                                        "name": "no_of_customers"
                                    }
                                ]
                            },
                            "data": [
                                {
                                    "0": "1000"
                                }
                            ]
                        },
                        "text/html": [
                            "<table>",
                            "<tr><th>no_of_customers</th></tr>",
                            "<tr><td>1000</td></tr>",
                            "</table>"
                        ]
                    }
                }
            ],
            "execution_count": 1
        },
        {
            "cell_type": "markdown",
            "source": [
                "### <span style=\"font-size: 14px;\"><b>2. What is the monthly distribution of trial plan start_date values for our dataset - use the start of the month as the group by value</b></span>\n",
                "\n",
                "<span style=\"font-size: 14px;\">-- where plan name is trial</span>\n",
                "\n",
                "\\-- extract month from start date\n",
                "\n",
                "<span style=\"font-size: 14px;\">-- group by extracted month</span>"
            ],
            "metadata": {
                "azdata_cell_guid": "303ea7dd-52e6-4fcb-9c3a-847bfe12de9d"
            }
        },
        {
            "cell_type": "code",
            "source": [
                "SELECT \r\n",
                "\tEXTRACT(MONTH FROM s.start_date) as month,\r\n",
                "\tCOUNT(*) as monthly_distribution\r\n",
                "FROM subscriptions s\r\n",
                "JOIN plans p\r\n",
                "\tON s.plan_id = p.plan_id\r\n",
                "\tWHERE p.plan_name='trial'\r\n",
                "\tGROUP BY month\r\n",
                "\tORDER BY month;"
            ],
            "metadata": {
                "azdata_cell_guid": "dce34d58-c5cd-45f4-be17-86be2b442fe3"
            },
            "outputs": [
                {
                    "output_type": "display_data",
                    "data": {
                        "text/html": "(12 row(s) affected)"
                    },
                    "metadata": {}
                },
                {
                    "output_type": "display_data",
                    "data": {
                        "text/html": "Total execution time: 00:00:00.006"
                    },
                    "metadata": {}
                },
                {
                    "output_type": "execute_result",
                    "metadata": {},
                    "execution_count": 2,
                    "data": {
                        "application/vnd.dataresource+json": {
                            "schema": {
                                "fields": [
                                    {
                                        "name": "month"
                                    },
                                    {
                                        "name": "monthly_distribution"
                                    }
                                ]
                            },
                            "data": [
                                {
                                    "0": "1.0",
                                    "1": "88"
                                },
                                {
                                    "0": "2.0",
                                    "1": "68"
                                },
                                {
                                    "0": "3.0",
                                    "1": "94"
                                },
                                {
                                    "0": "4.0",
                                    "1": "81"
                                },
                                {
                                    "0": "5.0",
                                    "1": "88"
                                },
                                {
                                    "0": "6.0",
                                    "1": "79"
                                },
                                {
                                    "0": "7.0",
                                    "1": "89"
                                },
                                {
                                    "0": "8.0",
                                    "1": "88"
                                },
                                {
                                    "0": "9.0",
                                    "1": "87"
                                },
                                {
                                    "0": "10.0",
                                    "1": "79"
                                },
                                {
                                    "0": "11.0",
                                    "1": "75"
                                },
                                {
                                    "0": "12.0",
                                    "1": "84"
                                }
                            ]
                        },
                        "text/html": [
                            "<table>",
                            "<tr><th>month</th><th>monthly_distribution</th></tr>",
                            "<tr><td>1.0</td><td>88</td></tr>",
                            "<tr><td>2.0</td><td>68</td></tr>",
                            "<tr><td>3.0</td><td>94</td></tr>",
                            "<tr><td>4.0</td><td>81</td></tr>",
                            "<tr><td>5.0</td><td>88</td></tr>",
                            "<tr><td>6.0</td><td>79</td></tr>",
                            "<tr><td>7.0</td><td>89</td></tr>",
                            "<tr><td>8.0</td><td>88</td></tr>",
                            "<tr><td>9.0</td><td>87</td></tr>",
                            "<tr><td>10.0</td><td>79</td></tr>",
                            "<tr><td>11.0</td><td>75</td></tr>",
                            "<tr><td>12.0</td><td>84</td></tr>",
                            "</table>"
                        ]
                    }
                }
            ],
            "execution_count": 2
        },
        {
            "cell_type": "markdown",
            "source": [
                "**3. What plan start\\_date values occur after the year 2020 for our dataset? Show the breakdown by count of events for each plan\\_name**\n",
                "\n",
                "<span style=\"font-size: 14px;\">-- where start_date &gt; 2020</span>\n",
                "\n",
                "<span style=\"font-size: 14px;\">-- distinct plan names</span>\n",
                "\n",
                "<span style=\"font-size: 14px;\">-- count plans</span>\n",
                "\n",
                "<span style=\"font-size: 14px;\">-- group by distinct plan names</span>"
            ],
            "metadata": {
                "azdata_cell_guid": "284fe749-c6f2-4e7b-ad82-fb2cb59f4b71"
            }
        },
        {
            "cell_type": "code",
            "source": [
                "SELECT\r\n",
                "\tDISTINCT(p.plan_name) as plans,\r\n",
                "\tCOUNT(*)\r\n",
                "FROM subscriptions s\r\n",
                "JOIN plans p\r\n",
                "\tON s.plan_id = p.plan_id\r\n",
                "\tWHERE EXTRACT(YEAR FROM s.start_date) > 2020\r\n",
                "\tGROUP BY plans;"
            ],
            "metadata": {
                "azdata_cell_guid": "2483992d-1739-4ba4-8a97-f982ea94a5b8"
            },
            "outputs": [
                {
                    "output_type": "display_data",
                    "data": {
                        "text/html": "(4 row(s) affected)"
                    },
                    "metadata": {}
                },
                {
                    "output_type": "display_data",
                    "data": {
                        "text/html": "Total execution time: 00:00:00.004"
                    },
                    "metadata": {}
                },
                {
                    "output_type": "execute_result",
                    "metadata": {},
                    "execution_count": 3,
                    "data": {
                        "application/vnd.dataresource+json": {
                            "schema": {
                                "fields": [
                                    {
                                        "name": "plans"
                                    },
                                    {
                                        "name": "count"
                                    }
                                ]
                            },
                            "data": [
                                {
                                    "0": "churn",
                                    "1": "71"
                                },
                                {
                                    "0": "pro monthly",
                                    "1": "60"
                                },
                                {
                                    "0": "basic monthly",
                                    "1": "8"
                                },
                                {
                                    "0": "pro annual",
                                    "1": "63"
                                }
                            ]
                        },
                        "text/html": [
                            "<table>",
                            "<tr><th>plans</th><th>count</th></tr>",
                            "<tr><td>churn</td><td>71</td></tr>",
                            "<tr><td>pro monthly</td><td>60</td></tr>",
                            "<tr><td>basic monthly</td><td>8</td></tr>",
                            "<tr><td>pro annual</td><td>63</td></tr>",
                            "</table>"
                        ]
                    }
                }
            ],
            "execution_count": 3
        },
        {
            "cell_type": "markdown",
            "source": [
                "### **4.What is the customer count and percentage of customers who have churned rounded to 1 decimal place?**"
            ],
            "metadata": {
                "azdata_cell_guid": "e5212b28-82a0-4bb6-86de-375a0a9e7a39"
            }
        },
        {
            "cell_type": "code",
            "source": [
                "SELECT \r\n",
                "\tCOUNT(DISTINCT(s.customer_id)) as customer_count,\r\n",
                "\tROUND((COUNT(DISTINCT(s.customer_id))::numeric/1000::numeric)*100,1) as churn_customers_percentage\r\n",
                "FROM subscriptions s\r\n",
                "JOIN plans p\r\n",
                "\tON s.plan_id = p.plan_id\r\n",
                "\tWHERE p.plan_name='churn'"
            ],
            "metadata": {
                "azdata_cell_guid": "ed5bd446-601c-4dd5-a201-25aa41654ea5"
            },
            "outputs": [
                {
                    "output_type": "display_data",
                    "data": {
                        "text/html": "(1 row(s) affected)"
                    },
                    "metadata": {}
                },
                {
                    "output_type": "display_data",
                    "data": {
                        "text/html": "Total execution time: 00:00:00.005"
                    },
                    "metadata": {}
                },
                {
                    "output_type": "execute_result",
                    "metadata": {},
                    "execution_count": 4,
                    "data": {
                        "application/vnd.dataresource+json": {
                            "schema": {
                                "fields": [
                                    {
                                        "name": "customer_count"
                                    },
                                    {
                                        "name": "churn_customers_percentage"
                                    }
                                ]
                            },
                            "data": [
                                {
                                    "0": "307",
                                    "1": "30.7"
                                }
                            ]
                        },
                        "text/html": [
                            "<table>",
                            "<tr><th>customer_count</th><th>churn_customers_percentage</th></tr>",
                            "<tr><td>307</td><td>30.7</td></tr>",
                            "</table>"
                        ]
                    }
                }
            ],
            "execution_count": 4
        },
        {
            "cell_type": "code",
            "source": [
                "with cte as(\r\n",
                "\tSELECT \r\n",
                "\t\tCOUNT(DISTINCT(s.customer_id)) as total_customer_count,\r\n",
                "\t\tCOUNT(CASE\r\n",
                "\t\t\t\tWHEN p.plan_name='churn' THEN 1\r\n",
                "\t\t\t  END) as churned_customer_count\r\n",
                "\tFROM subscriptions s\r\n",
                "\tJOIN plans p\r\n",
                "\t\tON s.plan_id = p.plan_id)\r\n",
                "\tSELECT\r\n",
                "\t\t*,\r\n",
                "\t\tROUND((churned_customer_count::numeric/total_customer_count::numeric)*100,1) as churn_customers_percentage\r\n",
                "\tFROM cte;"
            ],
            "metadata": {
                "azdata_cell_guid": "9fb7c340-c1b7-44a2-b708-9bb16ead5650"
            },
            "outputs": [
                {
                    "output_type": "display_data",
                    "data": {
                        "text/html": "(1 row(s) affected)"
                    },
                    "metadata": {}
                },
                {
                    "output_type": "display_data",
                    "data": {
                        "text/html": "Total execution time: 00:00:00.003"
                    },
                    "metadata": {}
                },
                {
                    "output_type": "execute_result",
                    "metadata": {},
                    "execution_count": 5,
                    "data": {
                        "application/vnd.dataresource+json": {
                            "schema": {
                                "fields": [
                                    {
                                        "name": "total_customer_count"
                                    },
                                    {
                                        "name": "churned_customer_count"
                                    },
                                    {
                                        "name": "churn_customers_percentage"
                                    }
                                ]
                            },
                            "data": [
                                {
                                    "0": "1000",
                                    "1": "307",
                                    "2": "30.7"
                                }
                            ]
                        },
                        "text/html": [
                            "<table>",
                            "<tr><th>total_customer_count</th><th>churned_customer_count</th><th>churn_customers_percentage</th></tr>",
                            "<tr><td>1000</td><td>307</td><td>30.7</td></tr>",
                            "</table>"
                        ]
                    }
                }
            ],
            "execution_count": 5
        },
        {
            "cell_type": "markdown",
            "source": [
                "### <span style=\"font-size: 14px;\"><b>5. How many customers have churned straight after their initial free trial - what percentage is this rounded to the nearest whole number?</b></span>\n",
                "\n",
                "<span style=\"font-size: 14px;\">-- use lead() to get next immediate plan</span>\n",
                "\n",
                "<span style=\"font-size: 14px;\">-- use where clause plan_name='trial' and next_plan='churn'</span>\n",
                "\n",
                "<span style=\"font-size: 14px;\">-- calculate count and percentages</span>"
            ],
            "metadata": {
                "azdata_cell_guid": "e35fa98b-0983-41ca-83fb-c0e590419e49"
            }
        },
        {
            "cell_type": "code",
            "source": [
                "with cte as(\r\n",
                "\tSELECT \r\n",
                "\t\ts.customer_id,\r\n",
                "\t\ts.start_date,\r\n",
                "\t\tp.plan_name,\r\n",
                "\t\tLEAD(p.plan_name,1) OVER(partition by s.customer_id order by s.start_date) as next_plan\r\n",
                "\tFROM subscriptions s\r\n",
                "\tJOIN plans p\r\n",
                "\t\tON s.plan_id = p.plan_id)\r\n",
                "\t\tSELECT\r\n",
                "\t\t\tCOUNT(*) no_of_customers_churned,\r\n",
                "\t\t\tROUND((COUNT(*)::numeric/1000::numeric)*100) as churned_customers_percentage\r\n",
                "\t\tFROM cte\r\n",
                "\t\tWHERE plan_name='trial' and next_plan='churn';"
            ],
            "metadata": {
                "azdata_cell_guid": "f874792d-764f-419e-b044-aead713e94b2"
            },
            "outputs": [
                {
                    "output_type": "display_data",
                    "data": {
                        "text/html": "(1 row(s) affected)"
                    },
                    "metadata": {}
                },
                {
                    "output_type": "display_data",
                    "data": {
                        "text/html": "Total execution time: 00:00:00.007"
                    },
                    "metadata": {}
                },
                {
                    "output_type": "execute_result",
                    "metadata": {},
                    "execution_count": 6,
                    "data": {
                        "application/vnd.dataresource+json": {
                            "schema": {
                                "fields": [
                                    {
                                        "name": "no_of_customers_churned"
                                    },
                                    {
                                        "name": "churned_customers_percentage"
                                    }
                                ]
                            },
                            "data": [
                                {
                                    "0": "92",
                                    "1": "9"
                                }
                            ]
                        },
                        "text/html": [
                            "<table>",
                            "<tr><th>no_of_customers_churned</th><th>churned_customers_percentage</th></tr>",
                            "<tr><td>92</td><td>9</td></tr>",
                            "</table>"
                        ]
                    }
                }
            ],
            "execution_count": 6
        },
        {
            "cell_type": "markdown",
            "source": [
                "### <span style=\"font-size: 14px;\"><b>6. What is the number and percentage of customer plans after their initial free trial?</b></span>\n",
                "\n",
                "<span style=\"font-size: 14px;\">-- use LEAD() to get next immediate plan</span>\n",
                "\n",
                "<span style=\"font-size: 14px;\">-- count total customers for each plan</span>\n",
                "\n",
                "<span style=\"font-size: 14px;\">-- count customers for each plan after their initial free trial</span>\n",
                "\n",
                "<span style=\"font-size: 14px;\">-- calculate percentage by dividing&nbsp;</span>"
            ],
            "metadata": {
                "azdata_cell_guid": "9b7c734c-20bd-4969-af64-ab3a8bd75966"
            }
        },
        {
            "cell_type": "code",
            "source": [
                "with cte2 as(\r\n",
                "\twith cte1 as(\r\n",
                "\t\tSELECT \r\n",
                "\t\t\ts.customer_id,\r\n",
                "\t\t\ts.start_date,\r\n",
                "\t\t\tp.plan_name,\r\n",
                "\t\t\tLEAD(p.plan_name,1) OVER(partition by s.customer_id order by s.start_date) as next_plan\r\n",
                "\t\tFROM subscriptions s\r\n",
                "\t\tJOIN plans p\r\n",
                "\t\t\tON s.plan_id = p.plan_id)\r\n",
                "\tSELECT\r\n",
                "\t\tnext_plan,\r\n",
                "\t\tCOUNT(*) as total_customer_count,\r\n",
                "\t\tCOUNT(\r\n",
                "\t\t\tCASE\r\n",
                "\t\t\t\tWHEN plan_name='trial' THEN 1 \r\n",
                "\t\t\tEND) as customer_plans_after_free_trial\r\n",
                "\tFROM cte1\r\n",
                "\tGROUP BY next_plan)\r\n",
                "SELECT\r\n",
                "\t*,\r\n",
                "\tROUND(((customer_plans_after_free_trial::numeric/total_customer_count::numeric)*100 ),2)as percentage\r\n",
                "FROM cte2"
            ],
            "metadata": {
                "azdata_cell_guid": "84440967-0c80-4b8e-819e-532af2f0c68d"
            },
            "outputs": [
                {
                    "output_type": "display_data",
                    "data": {
                        "text/html": "(5 row(s) affected)"
                    },
                    "metadata": {}
                },
                {
                    "output_type": "display_data",
                    "data": {
                        "text/html": "Total execution time: 00:00:00.008"
                    },
                    "metadata": {}
                },
                {
                    "output_type": "execute_result",
                    "metadata": {},
                    "execution_count": 7,
                    "data": {
                        "application/vnd.dataresource+json": {
                            "schema": {
                                "fields": [
                                    {
                                        "name": "next_plan"
                                    },
                                    {
                                        "name": "total_customer_count"
                                    },
                                    {
                                        "name": "customer_plans_after_free_trial"
                                    },
                                    {
                                        "name": "percentage"
                                    }
                                ]
                            },
                            "data": [
                                {
                                    "0": "NULL",
                                    "1": "1000",
                                    "2": "0",
                                    "3": "0.00"
                                },
                                {
                                    "0": "pro annual",
                                    "1": "258",
                                    "2": "37",
                                    "3": "14.34"
                                },
                                {
                                    "0": "churn",
                                    "1": "307",
                                    "2": "92",
                                    "3": "29.97"
                                },
                                {
                                    "0": "pro monthly",
                                    "1": "539",
                                    "2": "325",
                                    "3": "60.30"
                                },
                                {
                                    "0": "basic monthly",
                                    "1": "546",
                                    "2": "546",
                                    "3": "100.00"
                                }
                            ]
                        },
                        "text/html": [
                            "<table>",
                            "<tr><th>next_plan</th><th>total_customer_count</th><th>customer_plans_after_free_trial</th><th>percentage</th></tr>",
                            "<tr><td>NULL</td><td>1000</td><td>0</td><td>0.00</td></tr>",
                            "<tr><td>pro annual</td><td>258</td><td>37</td><td>14.34</td></tr>",
                            "<tr><td>churn</td><td>307</td><td>92</td><td>29.97</td></tr>",
                            "<tr><td>pro monthly</td><td>539</td><td>325</td><td>60.30</td></tr>",
                            "<tr><td>basic monthly</td><td>546</td><td>546</td><td>100.00</td></tr>",
                            "</table>"
                        ]
                    }
                }
            ],
            "execution_count": 7
        },
        {
            "cell_type": "markdown",
            "source": [
                "### <span style=\"font-size: 14px;\"><b>7. What is the customer count and percentage breakdown of all 5 plan_name values at 2020-12-31?</b></span>\n",
                "\n",
                "<span style=\"font-size: 14px;\">-- count total customers for each plan</span>\n",
                "\n",
                "<span style=\"font-size: 14px;\">-- count customers for each plan before 2020-12-31 using case statement</span>\n",
                "\n",
                "<span style=\"font-size: 14px;\">-- calculate percentage&nbsp;</span>"
            ],
            "metadata": {
                "azdata_cell_guid": "3e286b89-f5eb-4ec9-94c8-7d48a16c863e"
            }
        },
        {
            "cell_type": "code",
            "source": [
                "with cte as(\r\n",
                "\tSELECT \r\n",
                "\t\tp.plan_name,\r\n",
                "\t\tCOUNT(customer_id) as total_customer_count,\r\n",
                "\t\tCOUNT(\r\n",
                "\t\t\tCASE\r\n",
                "\t\t\t\tWHEN EXTRACT(YEAR FROM s.start_date) =2020 THEN 1\r\n",
                "\t\t\tEND) as customer_count_in_2020\t\r\n",
                "\tFROM subscriptions s\r\n",
                "\tJOIN plans p\r\n",
                "\t\tON s.plan_id = p.plan_id\r\n",
                "\tGROUP BY p.plan_name)\r\n",
                "\tSELECT\r\n",
                "\t\t*,\r\n",
                "\t\tROUND(((customer_count_in_2020::numeric/total_customer_count::numeric)*100 ),2)as percentage\r\n",
                "\tFROM cte"
            ],
            "metadata": {
                "azdata_cell_guid": "97578a8b-b687-4762-81ea-336d35eb8596"
            },
            "outputs": [
                {
                    "output_type": "display_data",
                    "data": {
                        "text/html": "(5 row(s) affected)"
                    },
                    "metadata": {}
                },
                {
                    "output_type": "display_data",
                    "data": {
                        "text/html": "Total execution time: 00:00:00.004"
                    },
                    "metadata": {}
                },
                {
                    "output_type": "execute_result",
                    "metadata": {},
                    "execution_count": 8,
                    "data": {
                        "application/vnd.dataresource+json": {
                            "schema": {
                                "fields": [
                                    {
                                        "name": "plan_name"
                                    },
                                    {
                                        "name": "total_customer_count"
                                    },
                                    {
                                        "name": "customer_count_in_2020"
                                    },
                                    {
                                        "name": "percentage"
                                    }
                                ]
                            },
                            "data": [
                                {
                                    "0": "pro annual",
                                    "1": "258",
                                    "2": "195",
                                    "3": "75.58"
                                },
                                {
                                    "0": "trial",
                                    "1": "1000",
                                    "2": "1000",
                                    "3": "100.00"
                                },
                                {
                                    "0": "churn",
                                    "1": "307",
                                    "2": "236",
                                    "3": "76.87"
                                },
                                {
                                    "0": "pro monthly",
                                    "1": "539",
                                    "2": "479",
                                    "3": "88.87"
                                },
                                {
                                    "0": "basic monthly",
                                    "1": "546",
                                    "2": "538",
                                    "3": "98.53"
                                }
                            ]
                        },
                        "text/html": [
                            "<table>",
                            "<tr><th>plan_name</th><th>total_customer_count</th><th>customer_count_in_2020</th><th>percentage</th></tr>",
                            "<tr><td>pro annual</td><td>258</td><td>195</td><td>75.58</td></tr>",
                            "<tr><td>trial</td><td>1000</td><td>1000</td><td>100.00</td></tr>",
                            "<tr><td>churn</td><td>307</td><td>236</td><td>76.87</td></tr>",
                            "<tr><td>pro monthly</td><td>539</td><td>479</td><td>88.87</td></tr>",
                            "<tr><td>basic monthly</td><td>546</td><td>538</td><td>98.53</td></tr>",
                            "</table>"
                        ]
                    }
                }
            ],
            "execution_count": 8
        },
        {
            "cell_type": "markdown",
            "source": [
                "### <span style=\"font-size: 14px;\"><b>8. How many customers have upgraded to an annual plan in 2020?</b></span>\n",
                "\n",
                "<span style=\"font-size: 14px;\">-- assumptions:</span>\n",
                "\n",
                "<span style=\"font-size: 14px;\"><span style=\"white-space:pre\"></span>-- upgraded from any plan to pro annual plan</span>\n",
                "\n",
                "<span style=\"font-size: 14px;\">-- where year is 2020</span>\n",
                "\n",
                "<span style=\"font-size: 14px;\">-- use LEAD() to get next plan</span>\n",
                "\n",
                "<span style=\"font-size: 14px;\">-- count the customers</span>"
            ],
            "metadata": {
                "azdata_cell_guid": "2ff226bb-e7e5-48d1-9676-f55dd07bfb45"
            }
        },
        {
            "cell_type": "code",
            "source": [
                "with cte as(\r\n",
                "\tSELECT \r\n",
                "\t\ts.customer_id,\r\n",
                "\t\ts.start_date,\r\n",
                "\t\tp.plan_name,\r\n",
                "\t\tLEAD(p.plan_name,1) OVER(partition by s.customer_id order by s.start_date) as next_plan\r\n",
                "\tFROM subscriptions s\r\n",
                "\tJOIN plans p\r\n",
                "\t\tON s.plan_id = p.plan_id\r\n",
                "\t\tWHERE EXTRACT(YEAR FROM s.start_date) =2020)\r\n",
                "\tSELECT\r\n",
                "\t\tCOUNT(*) as no_of_customers\r\n",
                "\t\tFROM cte\r\n",
                "\tWHERE next_plan='pro annual';"
            ],
            "metadata": {
                "azdata_cell_guid": "b19a9f0f-96ed-426f-affe-55087be509df"
            },
            "outputs": [
                {
                    "output_type": "display_data",
                    "data": {
                        "text/html": "(1 row(s) affected)"
                    },
                    "metadata": {}
                },
                {
                    "output_type": "display_data",
                    "data": {
                        "text/html": "Total execution time: 00:00:00.006"
                    },
                    "metadata": {}
                },
                {
                    "output_type": "execute_result",
                    "metadata": {},
                    "execution_count": 9,
                    "data": {
                        "application/vnd.dataresource+json": {
                            "schema": {
                                "fields": [
                                    {
                                        "name": "no_of_customers"
                                    }
                                ]
                            },
                            "data": [
                                {
                                    "0": "195"
                                }
                            ]
                        },
                        "text/html": [
                            "<table>",
                            "<tr><th>no_of_customers</th></tr>",
                            "<tr><td>195</td></tr>",
                            "</table>"
                        ]
                    }
                }
            ],
            "execution_count": 9
        },
        {
            "cell_type": "markdown",
            "source": [
                "### <span style=\"font-size: 14px;\"><b>9. How many days on average does it take for a customer to an annual plan from the day they join Foodie-Fi?</b></span>"
            ],
            "metadata": {
                "azdata_cell_guid": "84db5cee-b002-4e38-b40d-08c607db7250"
            }
        },
        {
            "cell_type": "code",
            "source": [
                "with cte2 as(\r\n",
                "\twith cte1 as(\r\n",
                "\t\tSELECT \r\n",
                "\t\t\ts.customer_id,\r\n",
                "\t\t\ts.start_date,\r\n",
                "\t\t\tp.plan_name,\r\n",
                "\t\t\tLEAD(s.start_date,1) OVER(partition by s.customer_id order by s.start_date) as annual_plan_date,\r\n",
                "\t\t\tLEAD(p.plan_name,1) OVER(partition by s.customer_id order by s.start_date) as next_plan\r\n",
                "\t\tFROM subscriptions s\r\n",
                "\t\tJOIN plans p\r\n",
                "\t\t\tON s.plan_id = p.plan_id\r\n",
                "\t\tWHERE p.plan_name = 'trial' or p.plan_name='pro annual')\r\n",
                "\tSELECT\r\n",
                "\t\t*,\r\n",
                "\t\tDATE_PART('day', annual_plan_date::timestamp-start_date::timestamp) as days_took_for_annual_plan\r\n",
                "\tFROM cte1\r\n",
                "\twhere plan_name='trial' and next_plan='pro annual')\r\n",
                "\tSELECT\r\n",
                "\t\tavg(days_took_for_annual_plan) as avg_days_took_for_annual_plan\r\n",
                "\tFROM cte2"
            ],
            "metadata": {
                "azdata_cell_guid": "4dac44e6-b0ad-4b64-a7f9-87590e492034"
            },
            "outputs": [
                {
                    "output_type": "display_data",
                    "data": {
                        "text/html": "(1 row(s) affected)"
                    },
                    "metadata": {}
                },
                {
                    "output_type": "display_data",
                    "data": {
                        "text/html": "Total execution time: 00:00:00.004"
                    },
                    "metadata": {}
                },
                {
                    "output_type": "execute_result",
                    "metadata": {},
                    "execution_count": 10,
                    "data": {
                        "application/vnd.dataresource+json": {
                            "schema": {
                                "fields": [
                                    {
                                        "name": "avg_days_took_for_annual_plan"
                                    }
                                ]
                            },
                            "data": [
                                {
                                    "0": "104.62015503875969"
                                }
                            ]
                        },
                        "text/html": [
                            "<table>",
                            "<tr><th>avg_days_took_for_annual_plan</th></tr>",
                            "<tr><td>104.62015503875969</td></tr>",
                            "</table>"
                        ]
                    }
                }
            ],
            "execution_count": 10
        },
        {
            "cell_type": "markdown",
            "source": [
                "### <span style=\"font-size: 14px;\"><b>10.Can you further breakdown this average value into 30 day periods (i.e. 0-30 days, 31-60 days etc)</b></span>"
            ],
            "metadata": {
                "azdata_cell_guid": "bf961667-b4c3-4989-9ec7-80ca25076064"
            }
        },
        {
            "cell_type": "code",
            "source": [
                "with cte3 as(\r\n",
                "\twith cte2 as(\r\n",
                "\t\twith cte1 as(\r\n",
                "\t\t\tSELECT \r\n",
                "\t\t\t\ts.customer_id,\r\n",
                "\t\t\t\ts.start_date,\r\n",
                "\t\t\t\tp.plan_name,\r\n",
                "\t\t\t\tLEAD(s.start_date,1) OVER(partition by s.customer_id order by s.start_date) as annual_plan_date,\r\n",
                "\t\t\t\tLEAD(p.plan_name,1) OVER(partition by s.customer_id order by s.start_date) as next_plan\r\n",
                "\t\t\tFROM subscriptions s\r\n",
                "\t\t\tJOIN plans p\r\n",
                "\t\t\t\tON s.plan_id = p.plan_id\r\n",
                "\t\t\tWHERE p.plan_name = 'trial' or p.plan_name='pro annual')\r\n",
                "\t\tSELECT\r\n",
                "\t\t\t*,\r\n",
                "\t\t\tDATE_PART('day', annual_plan_date::timestamp-start_date::timestamp) as days_took_for_annual_plan\r\n",
                "\t\tFROM cte1\r\n",
                "\t\twhere plan_name='trial' and next_plan='pro annual')\r\n",
                "\tSELECT\r\n",
                "\t\tcustomer_id,\r\n",
                "\t\tCASE\r\n",
                "\t\t\tWHEN days_took_for_annual_plan <=30 THEN '0-30 days'\r\n",
                "\t\t\tWHEN days_took_for_annual_plan <=60 THEN '31-60 days'\r\n",
                "\t\t\tWHEN days_took_for_annual_plan <=90 THEN '61-90 days'\r\n",
                "\t\t\tWHEN days_took_for_annual_plan <=120 THEN '91-120 days'\r\n",
                "\t\t\tWHEN days_took_for_annual_plan <=120 THEN '91-120 days'\r\n",
                "\t\t\tWHEN days_took_for_annual_plan <=150 THEN '121-150 days'\r\n",
                "\t\t\tWHEN days_took_for_annual_plan <=180 THEN '151-180 days'\r\n",
                "\t\t\tWHEN days_took_for_annual_plan <=210 THEN '181-210 days'\r\n",
                "\t\t\tWHEN days_took_for_annual_plan <=240 THEN '211-240 days'\r\n",
                "\t\t\tWHEN days_took_for_annual_plan <=270 THEN '241-270 days'\r\n",
                "\t\t\tWHEN days_took_for_annual_plan <=300 THEN '271-300 days'\r\n",
                "\t\t\tWHEN days_took_for_annual_plan <=330 THEN '301-330 days'\r\n",
                "\t\t\tWHEN days_took_for_annual_plan <=360 THEN '331-360 days'\r\n",
                "\t\tEND as thirty_day_periods,\r\n",
                "\t\tdays_took_for_annual_plan\r\n",
                "\tFROM cte2)\r\n",
                "\tSELECT\r\n",
                "\t\tthirty_day_periods,\r\n",
                "\t\tROUND(avg(days_took_for_annual_plan)) as avg_days\r\n",
                "\tFROM cte3\r\n",
                "\tGROUP BY thirty_day_periods\r\n",
                "\tORDER BY avg_days"
            ],
            "metadata": {
                "azdata_cell_guid": "5318ede0-b20c-4d44-befe-1e945858c5e0"
            },
            "outputs": [
                {
                    "output_type": "display_data",
                    "data": {
                        "text/html": "(12 row(s) affected)"
                    },
                    "metadata": {}
                },
                {
                    "output_type": "display_data",
                    "data": {
                        "text/html": "Total execution time: 00:00:00.005"
                    },
                    "metadata": {}
                },
                {
                    "output_type": "execute_result",
                    "metadata": {},
                    "execution_count": 11,
                    "data": {
                        "application/vnd.dataresource+json": {
                            "schema": {
                                "fields": [
                                    {
                                        "name": "thirty_day_periods"
                                    },
                                    {
                                        "name": "avg_days"
                                    }
                                ]
                            },
                            "data": [
                                {
                                    "0": "0-30 days",
                                    "1": "10.0"
                                },
                                {
                                    "0": "31-60 days",
                                    "1": "42.0"
                                },
                                {
                                    "0": "61-90 days",
                                    "1": "71.0"
                                },
                                {
                                    "0": "91-120 days",
                                    "1": "101.0"
                                },
                                {
                                    "0": "121-150 days",
                                    "1": "133.0"
                                },
                                {
                                    "0": "151-180 days",
                                    "1": "162.0"
                                },
                                {
                                    "0": "181-210 days",
                                    "1": "191.0"
                                },
                                {
                                    "0": "211-240 days",
                                    "1": "224.0"
                                },
                                {
                                    "0": "241-270 days",
                                    "1": "257.0"
                                },
                                {
                                    "0": "271-300 days",
                                    "1": "285.0"
                                },
                                {
                                    "0": "301-330 days",
                                    "1": "327.0"
                                },
                                {
                                    "0": "331-360 days",
                                    "1": "346.0"
                                }
                            ]
                        },
                        "text/html": [
                            "<table>",
                            "<tr><th>thirty_day_periods</th><th>avg_days</th></tr>",
                            "<tr><td>0-30 days</td><td>10.0</td></tr>",
                            "<tr><td>31-60 days</td><td>42.0</td></tr>",
                            "<tr><td>61-90 days</td><td>71.0</td></tr>",
                            "<tr><td>91-120 days</td><td>101.0</td></tr>",
                            "<tr><td>121-150 days</td><td>133.0</td></tr>",
                            "<tr><td>151-180 days</td><td>162.0</td></tr>",
                            "<tr><td>181-210 days</td><td>191.0</td></tr>",
                            "<tr><td>211-240 days</td><td>224.0</td></tr>",
                            "<tr><td>241-270 days</td><td>257.0</td></tr>",
                            "<tr><td>271-300 days</td><td>285.0</td></tr>",
                            "<tr><td>301-330 days</td><td>327.0</td></tr>",
                            "<tr><td>331-360 days</td><td>346.0</td></tr>",
                            "</table>"
                        ]
                    }
                }
            ],
            "execution_count": 11
        },
        {
            "cell_type": "markdown",
            "source": [
                "### <span style=\"font-size: 14px;\"><b>11. How many customers downgraded from a pro monthly to a basic monthly plan in 2020?</b></span>\n",
                "\n",
                "<span style=\"font-size: 14px;\">-- actual pro monthly to basic monthly not free trail pro monthly to basic monthly</span>"
            ],
            "metadata": {
                "azdata_cell_guid": "35d7c5f7-a983-4096-b317-320457704bc7"
            }
        },
        {
            "cell_type": "code",
            "source": [
                "with cte as(\r\n",
                "\tSELECT \r\n",
                "\t\ts.customer_id,\r\n",
                "\t\ts.start_date,\r\n",
                "\t\tp.plan_name,\r\n",
                "\t\tLEAD(p.plan_name,1) OVER(partition by s.customer_id order by s.start_date) as next_plan\r\n",
                "\tFROM subscriptions s\r\n",
                "\tJOIN plans p\r\n",
                "\t\tON s.plan_id = p.plan_id\r\n",
                "\tWHERE EXTRACT(YEAR FROM s.start_date) =2020)\r\n",
                "\tSELECT\r\n",
                "\t\tCOUNT(*)as no_of_customers\r\n",
                "\t\tFROM cte\r\n",
                "\tWHERE plan_name='pro monthly' and next_plan='basic monthly'"
            ],
            "metadata": {
                "azdata_cell_guid": "b81a7071-8edd-4b09-94f4-d5efeeef38d5"
            },
            "outputs": [
                {
                    "output_type": "display_data",
                    "data": {
                        "text/html": "(1 row(s) affected)"
                    },
                    "metadata": {}
                },
                {
                    "output_type": "display_data",
                    "data": {
                        "text/html": "Total execution time: 00:00:00.006"
                    },
                    "metadata": {}
                },
                {
                    "output_type": "execute_result",
                    "metadata": {},
                    "execution_count": 12,
                    "data": {
                        "application/vnd.dataresource+json": {
                            "schema": {
                                "fields": [
                                    {
                                        "name": "no_of_customers"
                                    }
                                ]
                            },
                            "data": [
                                {
                                    "0": "0"
                                }
                            ]
                        },
                        "text/html": [
                            "<table>",
                            "<tr><th>no_of_customers</th></tr>",
                            "<tr><td>0</td></tr>",
                            "</table>"
                        ]
                    }
                }
            ],
            "execution_count": 12
        }
    ]
}