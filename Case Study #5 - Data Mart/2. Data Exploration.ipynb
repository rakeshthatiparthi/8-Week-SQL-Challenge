{
    "metadata": {
        "kernelspec": {
            "name": "SQL",
            "display_name": "SQL",
            "language": "sql"
        },
        "language_info": {
            "name": "sql",
            "version": ""
        }
    },
    "nbformat_minor": 2,
    "nbformat": 4,
    "cells": [
        {
            "cell_type": "markdown",
            "source": [
                "# **2\\. Data Exploration**"
            ],
            "metadata": {
                "azdata_cell_guid": "63186fd4-6329-4a41-bc93-4a1505497709"
            }
        },
        {
            "cell_type": "markdown",
            "source": [
                "<span style=\"font-size: 14px;\"><b>1. What day of the week is used for each week_date value?</b></span>\n",
                "\n",
                "<span style=\"font-size: 14px;\"><b>Sol: Monday</b></span>"
            ],
            "metadata": {
                "azdata_cell_guid": "26d7a623-acd5-452e-a8ec-a1cc9a9e454b"
            }
        },
        {
            "cell_type": "code",
            "source": [
                "SELECT \r\n",
                "\tTo_Char(date, 'DAY') as day_of_the_week,\r\n",
                "\tCOUNT(*)\r\n",
                "from clean_weekly_sales\r\n",
                "GROUP BY To_Char(date, 'DAY')"
            ],
            "metadata": {
                "azdata_cell_guid": "027e8c4e-6eea-4f9c-837b-cdfb51b3687c"
            },
            "outputs": [
                {
                    "output_type": "display_data",
                    "data": {
                        "text/html": "(1 row(s) affected)"
                    },
                    "metadata": {}
                },
                {
                    "output_type": "display_data",
                    "data": {
                        "text/html": "Total execution time: 00:00:00.050"
                    },
                    "metadata": {}
                },
                {
                    "output_type": "execute_result",
                    "execution_count": 1,
                    "data": {
                        "application/vnd.dataresource+json": {
                            "schema": {
                                "fields": [
                                    {
                                        "name": "day_of_the_week"
                                    },
                                    {
                                        "name": "count"
                                    }
                                ]
                            },
                            "data": [
                                {
                                    "0": "MONDAY   ",
                                    "1": "17117"
                                }
                            ]
                        },
                        "text/html": "<table><tr><th>day_of_the_week</th><th>count</th></tr><tr><td>MONDAY   </td><td>17117</td></tr></table>"
                    },
                    "metadata": {}
                }
            ],
            "execution_count": 1
        },
        {
            "cell_type": "markdown",
            "source": [
                "<span style=\"font-size: 14px;\"><b>2. What range of week numbers are missing from the dataset?</b></span>"
            ],
            "metadata": {
                "azdata_cell_guid": "cafd64c4-5cab-4859-b744-64b6a746e2f4"
            }
        },
        {
            "cell_type": "markdown",
            "source": [
                "<span style=\"font-size: 14px;\"><b>3. How many total transactions were there for each year in the dataset?</b></span>"
            ],
            "metadata": {
                "azdata_cell_guid": "a02c7ac1-e5a4-493d-a40a-4370a4681042"
            }
        },
        {
            "cell_type": "code",
            "source": [
                "SELECT\r\n",
                "\tcalendar_year,\r\n",
                "\tSUM(transactions)as total_transactions\r\n",
                "FROM clean_weekly_sales\r\n",
                "GROUP BY calendar_year\r\n",
                "ORDER BY calendar_year"
            ],
            "metadata": {
                "azdata_cell_guid": "734eba1a-83fa-4003-98cc-2a7d5d568334"
            },
            "outputs": [
                {
                    "output_type": "display_data",
                    "data": {
                        "text/html": "(3 row(s) affected)"
                    },
                    "metadata": {}
                },
                {
                    "output_type": "display_data",
                    "data": {
                        "text/html": "Total execution time: 00:00:00.038"
                    },
                    "metadata": {}
                },
                {
                    "output_type": "execute_result",
                    "metadata": {},
                    "execution_count": 1,
                    "data": {
                        "application/vnd.dataresource+json": {
                            "schema": {
                                "fields": [
                                    {
                                        "name": "calendar_year"
                                    },
                                    {
                                        "name": "total_transactions"
                                    }
                                ]
                            },
                            "data": [
                                {
                                    "0": "2018.0",
                                    "1": "346406460"
                                },
                                {
                                    "0": "2019.0",
                                    "1": "365639285"
                                },
                                {
                                    "0": "2020.0",
                                    "1": "375813651"
                                }
                            ]
                        },
                        "text/html": [
                            "<table>",
                            "<tr><th>calendar_year</th><th>total_transactions</th></tr>",
                            "<tr><td>2018.0</td><td>346406460</td></tr>",
                            "<tr><td>2019.0</td><td>365639285</td></tr>",
                            "<tr><td>2020.0</td><td>375813651</td></tr>",
                            "</table>"
                        ]
                    }
                }
            ],
            "execution_count": 1
        },
        {
            "cell_type": "markdown",
            "source": [
                "<span style=\"font-size: 14px;\"><b>4. What is the total sales for each region for each month?</b></span>"
            ],
            "metadata": {
                "azdata_cell_guid": "58884a9c-ea48-497e-8f40-222114fcec31"
            }
        },
        {
            "cell_type": "code",
            "source": [
                "SELECT\r\n",
                "\tregion,\r\n",
                "\tmonth_number,\r\n",
                "\tSUM(sales) as total_sales\r\n",
                "FROM clean_weekly_sales\r\n",
                "GROUP BY region,month_number\r\n",
                "ORDER BY region,month_number"
            ],
            "metadata": {
                "azdata_cell_guid": "29306b64-6f79-48ef-a516-49e0ac97d7f9"
            },
            "outputs": [
                {
                    "output_type": "display_data",
                    "data": {
                        "text/html": "(49 row(s) affected)"
                    },
                    "metadata": {}
                },
                {
                    "output_type": "display_data",
                    "data": {
                        "text/html": "Total execution time: 00:00:00.037"
                    },
                    "metadata": {}
                },
                {
                    "output_type": "execute_result",
                    "execution_count": 6,
                    "data": {
                        "application/vnd.dataresource+json": {
                            "schema": {
                                "fields": [
                                    {
                                        "name": "region"
                                    },
                                    {
                                        "name": "month_number"
                                    },
                                    {
                                        "name": "total_sales"
                                    }
                                ]
                            },
                            "data": [
                                {
                                    "0": "AFRICA",
                                    "1": "3.0",
                                    "2": "567767480"
                                },
                                {
                                    "0": "AFRICA",
                                    "1": "4.0",
                                    "2": "1911783504"
                                },
                                {
                                    "0": "AFRICA",
                                    "1": "5.0",
                                    "2": "1647244738"
                                },
                                {
                                    "0": "AFRICA",
                                    "1": "6.0",
                                    "2": "1767559760"
                                },
                                {
                                    "0": "AFRICA",
                                    "1": "7.0",
                                    "2": "1960219710"
                                },
                                {
                                    "0": "AFRICA",
                                    "1": "8.0",
                                    "2": "1809596890"
                                },
                                {
                                    "0": "AFRICA",
                                    "1": "9.0",
                                    "2": "276320987"
                                },
                                {
                                    "0": "ASIA",
                                    "1": "3.0",
                                    "2": "529770793"
                                },
                                {
                                    "0": "ASIA",
                                    "1": "4.0",
                                    "2": "1804628707"
                                },
                                {
                                    "0": "ASIA",
                                    "1": "5.0",
                                    "2": "1526285399"
                                },
                                {
                                    "0": "ASIA",
                                    "1": "6.0",
                                    "2": "1619482889"
                                },
                                {
                                    "0": "ASIA",
                                    "1": "7.0",
                                    "2": "1768844756"
                                },
                                {
                                    "0": "ASIA",
                                    "1": "8.0",
                                    "2": "1663320609"
                                },
                                {
                                    "0": "ASIA",
                                    "1": "9.0",
                                    "2": "252836807"
                                },
                                {
                                    "0": "CANADA",
                                    "1": "3.0",
                                    "2": "144634329"
                                },
                                {
                                    "0": "CANADA",
                                    "1": "4.0",
                                    "2": "484552594"
                                },
                                {
                                    "0": "CANADA",
                                    "1": "5.0",
                                    "2": "412378365"
                                },
                                {
                                    "0": "CANADA",
                                    "1": "6.0",
                                    "2": "443846698"
                                },
                                {
                                    "0": "CANADA",
                                    "1": "7.0",
                                    "2": "477134947"
                                },
                                {
                                    "0": "CANADA",
                                    "1": "8.0",
                                    "2": "447073019"
                                },
                                {
                                    "0": "CANADA",
                                    "1": "9.0",
                                    "2": "69067959"
                                },
                                {
                                    "0": "EUROPE",
                                    "1": "3.0",
                                    "2": "35337093"
                                },
                                {
                                    "0": "EUROPE",
                                    "1": "4.0",
                                    "2": "127334255"
                                },
                                {
                                    "0": "EUROPE",
                                    "1": "5.0",
                                    "2": "109338389"
                                },
                                {
                                    "0": "EUROPE",
                                    "1": "6.0",
                                    "2": "122813826"
                                },
                                {
                                    "0": "EUROPE",
                                    "1": "7.0",
                                    "2": "136757466"
                                },
                                {
                                    "0": "EUROPE",
                                    "1": "8.0",
                                    "2": "122102995"
                                },
                                {
                                    "0": "EUROPE",
                                    "1": "9.0",
                                    "2": "18877433"
                                },
                                {
                                    "0": "OCEANIA",
                                    "1": "3.0",
                                    "2": "783282888"
                                },
                                {
                                    "0": "OCEANIA",
                                    "1": "4.0",
                                    "2": "2599767620"
                                },
                                {
                                    "0": "OCEANIA",
                                    "1": "5.0",
                                    "2": "2215657304"
                                },
                                {
                                    "0": "OCEANIA",
                                    "1": "6.0",
                                    "2": "2371884744"
                                },
                                {
                                    "0": "OCEANIA",
                                    "1": "7.0",
                                    "2": "2563459400"
                                },
                                {
                                    "0": "OCEANIA",
                                    "1": "8.0",
                                    "2": "2432313652"
                                },
                                {
                                    "0": "OCEANIA",
                                    "1": "9.0",
                                    "2": "372465518"
                                },
                                {
                                    "0": "SOUTH AMERICA",
                                    "1": "3.0",
                                    "2": "71023109"
                                },
                                {
                                    "0": "SOUTH AMERICA",
                                    "1": "4.0",
                                    "2": "238451531"
                                },
                                {
                                    "0": "SOUTH AMERICA",
                                    "1": "5.0",
                                    "2": "201391809"
                                },
                                {
                                    "0": "SOUTH AMERICA",
                                    "1": "6.0",
                                    "2": "218247455"
                                },
                                {
                                    "0": "SOUTH AMERICA",
                                    "1": "7.0",
                                    "2": "235582776"
                                },
                                {
                                    "0": "SOUTH AMERICA",
                                    "1": "8.0",
                                    "2": "221166052"
                                },
                                {
                                    "0": "SOUTH AMERICA",
                                    "1": "9.0",
                                    "2": "34175583"
                                },
                                {
                                    "0": "USA",
                                    "1": "3.0",
                                    "2": "225353043"
                                },
                                {
                                    "0": "USA",
                                    "1": "4.0",
                                    "2": "759786323"
                                },
                                {
                                    "0": "USA",
                                    "1": "5.0",
                                    "2": "655967121"
                                },
                                {
                                    "0": "USA",
                                    "1": "6.0",
                                    "2": "703878990"
                                },
                                {
                                    "0": "USA",
                                    "1": "7.0",
                                    "2": "760331754"
                                },
                                {
                                    "0": "USA",
                                    "1": "8.0",
                                    "2": "712002790"
                                },
                                {
                                    "0": "USA",
                                    "1": "9.0",
                                    "2": "110532368"
                                }
                            ]
                        },
                        "text/html": "<table><tr><th>region</th><th>month_number</th><th>total_sales</th></tr><tr><td>AFRICA</td><td>3.0</td><td>567767480</td></tr><tr><td>AFRICA</td><td>4.0</td><td>1911783504</td></tr><tr><td>AFRICA</td><td>5.0</td><td>1647244738</td></tr><tr><td>AFRICA</td><td>6.0</td><td>1767559760</td></tr><tr><td>AFRICA</td><td>7.0</td><td>1960219710</td></tr><tr><td>AFRICA</td><td>8.0</td><td>1809596890</td></tr><tr><td>AFRICA</td><td>9.0</td><td>276320987</td></tr><tr><td>ASIA</td><td>3.0</td><td>529770793</td></tr><tr><td>ASIA</td><td>4.0</td><td>1804628707</td></tr><tr><td>ASIA</td><td>5.0</td><td>1526285399</td></tr><tr><td>ASIA</td><td>6.0</td><td>1619482889</td></tr><tr><td>ASIA</td><td>7.0</td><td>1768844756</td></tr><tr><td>ASIA</td><td>8.0</td><td>1663320609</td></tr><tr><td>ASIA</td><td>9.0</td><td>252836807</td></tr><tr><td>CANADA</td><td>3.0</td><td>144634329</td></tr><tr><td>CANADA</td><td>4.0</td><td>484552594</td></tr><tr><td>CANADA</td><td>5.0</td><td>412378365</td></tr><tr><td>CANADA</td><td>6.0</td><td>443846698</td></tr><tr><td>CANADA</td><td>7.0</td><td>477134947</td></tr><tr><td>CANADA</td><td>8.0</td><td>447073019</td></tr><tr><td>CANADA</td><td>9.0</td><td>69067959</td></tr><tr><td>EUROPE</td><td>3.0</td><td>35337093</td></tr><tr><td>EUROPE</td><td>4.0</td><td>127334255</td></tr><tr><td>EUROPE</td><td>5.0</td><td>109338389</td></tr><tr><td>EUROPE</td><td>6.0</td><td>122813826</td></tr><tr><td>EUROPE</td><td>7.0</td><td>136757466</td></tr><tr><td>EUROPE</td><td>8.0</td><td>122102995</td></tr><tr><td>EUROPE</td><td>9.0</td><td>18877433</td></tr><tr><td>OCEANIA</td><td>3.0</td><td>783282888</td></tr><tr><td>OCEANIA</td><td>4.0</td><td>2599767620</td></tr><tr><td>OCEANIA</td><td>5.0</td><td>2215657304</td></tr><tr><td>OCEANIA</td><td>6.0</td><td>2371884744</td></tr><tr><td>OCEANIA</td><td>7.0</td><td>2563459400</td></tr><tr><td>OCEANIA</td><td>8.0</td><td>2432313652</td></tr><tr><td>OCEANIA</td><td>9.0</td><td>372465518</td></tr><tr><td>SOUTH AMERICA</td><td>3.0</td><td>71023109</td></tr><tr><td>SOUTH AMERICA</td><td>4.0</td><td>238451531</td></tr><tr><td>SOUTH AMERICA</td><td>5.0</td><td>201391809</td></tr><tr><td>SOUTH AMERICA</td><td>6.0</td><td>218247455</td></tr><tr><td>SOUTH AMERICA</td><td>7.0</td><td>235582776</td></tr><tr><td>SOUTH AMERICA</td><td>8.0</td><td>221166052</td></tr><tr><td>SOUTH AMERICA</td><td>9.0</td><td>34175583</td></tr><tr><td>USA</td><td>3.0</td><td>225353043</td></tr><tr><td>USA</td><td>4.0</td><td>759786323</td></tr><tr><td>USA</td><td>5.0</td><td>655967121</td></tr><tr><td>USA</td><td>6.0</td><td>703878990</td></tr><tr><td>USA</td><td>7.0</td><td>760331754</td></tr><tr><td>USA</td><td>8.0</td><td>712002790</td></tr><tr><td>USA</td><td>9.0</td><td>110532368</td></tr></table>"
                    },
                    "metadata": {}
                }
            ],
            "execution_count": 6
        },
        {
            "cell_type": "markdown",
            "source": [
                "<span style=\"font-size: 14px;\"><b>5. What is the total count of transactions for each platform</b></span>"
            ],
            "metadata": {
                "azdata_cell_guid": "799a80dc-babd-479b-b9e0-7f370535c7d3"
            }
        },
        {
            "cell_type": "code",
            "source": [
                "SELECT\r\n",
                "\tplatform,\r\n",
                "\tSUM(transactions) as total_transactions\r\n",
                "FROM clean_weekly_sales\r\n",
                "GROUP  BY platform"
            ],
            "metadata": {
                "azdata_cell_guid": "4f862d9f-6000-4579-be8f-b9d1f9f8649c"
            },
            "outputs": [
                {
                    "output_type": "display_data",
                    "data": {
                        "text/html": "(2 row(s) affected)"
                    },
                    "metadata": {}
                },
                {
                    "output_type": "display_data",
                    "data": {
                        "text/html": "Total execution time: 00:00:00.012"
                    },
                    "metadata": {}
                },
                {
                    "output_type": "execute_result",
                    "metadata": {},
                    "execution_count": 4,
                    "data": {
                        "application/vnd.dataresource+json": {
                            "schema": {
                                "fields": [
                                    {
                                        "name": "platform"
                                    },
                                    {
                                        "name": "total_transactions"
                                    }
                                ]
                            },
                            "data": [
                                {
                                    "0": "Shopify",
                                    "1": "5925169"
                                },
                                {
                                    "0": "Retail",
                                    "1": "1081934227"
                                }
                            ]
                        },
                        "text/html": [
                            "<table>",
                            "<tr><th>platform</th><th>total_transactions</th></tr>",
                            "<tr><td>Shopify</td><td>5925169</td></tr>",
                            "<tr><td>Retail</td><td>1081934227</td></tr>",
                            "</table>"
                        ]
                    }
                }
            ],
            "execution_count": 4
        },
        {
            "cell_type": "markdown",
            "source": [
                "<span style=\"font-size: 14px;\"><b>6.What is the percentage of sales for Retail vs Shopify for each month?</b></span>"
            ],
            "metadata": {
                "azdata_cell_guid": "a52532e7-238c-4367-af52-27750f14daf2"
            }
        },
        {
            "cell_type": "code",
            "source": [
                "with cte2 as(\r\n",
                "\twith cte1 as(\r\n",
                "\t\tSELECT\r\n",
                "\t\t\tcalendar_year,\r\n",
                "\t\t\tmonth_number,\r\n",
                "\t\t\tplatform,\r\n",
                "\t\t\tSUM(sales) as sales_by_platform\r\n",
                "\t\tFROM clean_weekly_sales\r\n",
                "\t\tGROUP BY calendar_year,month_number,platform\r\n",
                "\t\tORDER BY calendar_year,month_number)\r\n",
                "\tSELECT\r\n",
                "\t\t*,\r\n",
                "\t\tSUM(sales_by_platform) OVER(partition by calendar_year,month_number) as monthly_sales\r\n",
                "\tFROM cte1)\r\n",
                "SELECT\r\n",
                "\t*,\r\n",
                "\tROUND((sales_by_platform/monthly_sales)*100,2) as percentage_of_sales\r\n",
                "FROM cte2"
            ],
            "metadata": {
                "azdata_cell_guid": "d4874ce2-1ebe-4acc-9f64-604180f2a897"
            },
            "outputs": [
                {
                    "output_type": "display_data",
                    "data": {
                        "text/html": "(40 row(s) affected)"
                    },
                    "metadata": {}
                },
                {
                    "output_type": "display_data",
                    "data": {
                        "text/html": "Total execution time: 00:00:00.058"
                    },
                    "metadata": {}
                },
                {
                    "output_type": "execute_result",
                    "metadata": {},
                    "execution_count": 5,
                    "data": {
                        "application/vnd.dataresource+json": {
                            "schema": {
                                "fields": [
                                    {
                                        "name": "calendar_year"
                                    },
                                    {
                                        "name": "month_number"
                                    },
                                    {
                                        "name": "platform"
                                    },
                                    {
                                        "name": "sales_by_platform"
                                    },
                                    {
                                        "name": "monthly_sales"
                                    },
                                    {
                                        "name": "percentage_of_sales"
                                    }
                                ]
                            },
                            "data": [
                                {
                                    "0": "2018.0",
                                    "1": "3.0",
                                    "2": "Shopify",
                                    "3": "11172391",
                                    "4": "536755452",
                                    "5": "2.08"
                                },
                                {
                                    "0": "2018.0",
                                    "1": "3.0",
                                    "2": "Retail",
                                    "3": "525583061",
                                    "4": "536755452",
                                    "5": "97.92"
                                },
                                {
                                    "0": "2018.0",
                                    "1": "4.0",
                                    "2": "Retail",
                                    "3": "2617369077",
                                    "4": "2672804647",
                                    "5": "97.93"
                                },
                                {
                                    "0": "2018.0",
                                    "1": "4.0",
                                    "2": "Shopify",
                                    "3": "55435570",
                                    "4": "2672804647",
                                    "5": "2.07"
                                },
                                {
                                    "0": "2018.0",
                                    "1": "5.0",
                                    "2": "Shopify",
                                    "3": "48365936",
                                    "4": "2128656424",
                                    "5": "2.27"
                                },
                                {
                                    "0": "2018.0",
                                    "1": "5.0",
                                    "2": "Retail",
                                    "3": "2080290488",
                                    "4": "2128656424",
                                    "5": "97.73"
                                },
                                {
                                    "0": "2018.0",
                                    "1": "6.0",
                                    "2": "Retail",
                                    "3": "2061128568",
                                    "4": "2108452203",
                                    "5": "97.76"
                                },
                                {
                                    "0": "2018.0",
                                    "1": "6.0",
                                    "2": "Shopify",
                                    "3": "47323635",
                                    "4": "2108452203",
                                    "5": "2.24"
                                },
                                {
                                    "0": "2018.0",
                                    "1": "7.0",
                                    "2": "Retail",
                                    "3": "2646368290",
                                    "4": "2707198472",
                                    "5": "97.75"
                                },
                                {
                                    "0": "2018.0",
                                    "1": "7.0",
                                    "2": "Shopify",
                                    "3": "60830182",
                                    "4": "2707198472",
                                    "5": "2.25"
                                },
                                {
                                    "0": "2018.0",
                                    "1": "8.0",
                                    "2": "Retail",
                                    "3": "2140297292",
                                    "4": "2190542267",
                                    "5": "97.71"
                                },
                                {
                                    "0": "2018.0",
                                    "1": "8.0",
                                    "2": "Shopify",
                                    "3": "50244975",
                                    "4": "2190542267",
                                    "5": "2.29"
                                },
                                {
                                    "0": "2018.0",
                                    "1": "9.0",
                                    "2": "Shopify",
                                    "3": "12836820",
                                    "4": "552971362",
                                    "5": "2.32"
                                },
                                {
                                    "0": "2018.0",
                                    "1": "9.0",
                                    "2": "Retail",
                                    "3": "540134542",
                                    "4": "552971362",
                                    "5": "97.68"
                                },
                                {
                                    "0": "2019.0",
                                    "1": "3.0",
                                    "2": "Shopify",
                                    "3": "13332196",
                                    "4": "581317054",
                                    "5": "2.29"
                                },
                                {
                                    "0": "2019.0",
                                    "1": "3.0",
                                    "2": "Retail",
                                    "3": "567984858",
                                    "4": "581317054",
                                    "5": "97.71"
                                },
                                {
                                    "0": "2019.0",
                                    "1": "4.0",
                                    "2": "Shopify",
                                    "3": "63798008",
                                    "4": "2900147321",
                                    "5": "2.20"
                                },
                                {
                                    "0": "2019.0",
                                    "1": "4.0",
                                    "2": "Retail",
                                    "3": "2836349313",
                                    "4": "2900147321",
                                    "5": "97.80"
                                },
                                {
                                    "0": "2019.0",
                                    "1": "5.0",
                                    "2": "Retail",
                                    "3": "2221160706",
                                    "4": "2277531812",
                                    "5": "97.52"
                                },
                                {
                                    "0": "2019.0",
                                    "1": "5.0",
                                    "2": "Shopify",
                                    "3": "56371106",
                                    "4": "2277531812",
                                    "5": "2.48"
                                },
                                {
                                    "0": "2019.0",
                                    "1": "6.0",
                                    "2": "Shopify",
                                    "3": "57727053",
                                    "4": "2238853921",
                                    "5": "2.58"
                                },
                                {
                                    "0": "2019.0",
                                    "1": "6.0",
                                    "2": "Retail",
                                    "3": "2181126868",
                                    "4": "2238853921",
                                    "5": "97.42"
                                },
                                {
                                    "0": "2019.0",
                                    "1": "7.0",
                                    "2": "Shopify",
                                    "3": "75766614",
                                    "4": "2861636791",
                                    "5": "2.65"
                                },
                                {
                                    "0": "2019.0",
                                    "1": "7.0",
                                    "2": "Retail",
                                    "3": "2785870177",
                                    "4": "2861636791",
                                    "5": "97.35"
                                },
                                {
                                    "0": "2019.0",
                                    "1": "8.0",
                                    "2": "Shopify",
                                    "3": "64297818",
                                    "4": "2305240308",
                                    "5": "2.79"
                                },
                                {
                                    "0": "2019.0",
                                    "1": "8.0",
                                    "2": "Retail",
                                    "3": "2240942490",
                                    "4": "2305240308",
                                    "5": "97.21"
                                },
                                {
                                    "0": "2019.0",
                                    "1": "9.0",
                                    "2": "Shopify",
                                    "3": "16932978",
                                    "4": "581305293",
                                    "5": "2.91"
                                },
                                {
                                    "0": "2019.0",
                                    "1": "9.0",
                                    "2": "Retail",
                                    "3": "564372315",
                                    "4": "581305293",
                                    "5": "97.09"
                                },
                                {
                                    "0": "2020.0",
                                    "1": "3.0",
                                    "2": "Retail",
                                    "3": "1205620498",
                                    "4": "1239096229",
                                    "5": "97.30"
                                },
                                {
                                    "0": "2020.0",
                                    "1": "3.0",
                                    "2": "Shopify",
                                    "3": "33475731",
                                    "4": "1239096229",
                                    "5": "2.70"
                                },
                                {
                                    "0": "2020.0",
                                    "1": "4.0",
                                    "2": "Shopify",
                                    "3": "71478722",
                                    "4": "2353352566",
                                    "5": "3.04"
                                },
                                {
                                    "0": "2020.0",
                                    "1": "4.0",
                                    "2": "Retail",
                                    "3": "2281873844",
                                    "4": "2353352566",
                                    "5": "96.96"
                                },
                                {
                                    "0": "2020.0",
                                    "1": "5.0",
                                    "2": "Shopify",
                                    "3": "77687860",
                                    "4": "2362074889",
                                    "5": "3.29"
                                },
                                {
                                    "0": "2020.0",
                                    "1": "5.0",
                                    "2": "Retail",
                                    "3": "2284387029",
                                    "4": "2362074889",
                                    "5": "96.71"
                                },
                                {
                                    "0": "2020.0",
                                    "1": "6.0",
                                    "2": "Retail",
                                    "3": "2807693824",
                                    "4": "2900408238",
                                    "5": "96.80"
                                },
                                {
                                    "0": "2020.0",
                                    "1": "6.0",
                                    "2": "Shopify",
                                    "3": "92714414",
                                    "4": "2900408238",
                                    "5": "3.20"
                                },
                                {
                                    "0": "2020.0",
                                    "1": "7.0",
                                    "2": "Shopify",
                                    "3": "77642565",
                                    "4": "2333495546",
                                    "5": "3.33"
                                },
                                {
                                    "0": "2020.0",
                                    "1": "7.0",
                                    "2": "Retail",
                                    "3": "2255852981",
                                    "4": "2333495546",
                                    "5": "96.67"
                                },
                                {
                                    "0": "2020.0",
                                    "1": "8.0",
                                    "2": "Retail",
                                    "3": "2810210216",
                                    "4": "2911793432",
                                    "5": "96.51"
                                },
                                {
                                    "0": "2020.0",
                                    "1": "8.0",
                                    "2": "Shopify",
                                    "3": "101583216",
                                    "4": "2911793432",
                                    "5": "3.49"
                                }
                            ]
                        },
                        "text/html": [
                            "<table>",
                            "<tr><th>calendar_year</th><th>month_number</th><th>platform</th><th>sales_by_platform</th><th>monthly_sales</th><th>percentage_of_sales</th></tr>",
                            "<tr><td>2018.0</td><td>3.0</td><td>Shopify</td><td>11172391</td><td>536755452</td><td>2.08</td></tr>",
                            "<tr><td>2018.0</td><td>3.0</td><td>Retail</td><td>525583061</td><td>536755452</td><td>97.92</td></tr>",
                            "<tr><td>2018.0</td><td>4.0</td><td>Retail</td><td>2617369077</td><td>2672804647</td><td>97.93</td></tr>",
                            "<tr><td>2018.0</td><td>4.0</td><td>Shopify</td><td>55435570</td><td>2672804647</td><td>2.07</td></tr>",
                            "<tr><td>2018.0</td><td>5.0</td><td>Shopify</td><td>48365936</td><td>2128656424</td><td>2.27</td></tr>",
                            "<tr><td>2018.0</td><td>5.0</td><td>Retail</td><td>2080290488</td><td>2128656424</td><td>97.73</td></tr>",
                            "<tr><td>2018.0</td><td>6.0</td><td>Retail</td><td>2061128568</td><td>2108452203</td><td>97.76</td></tr>",
                            "<tr><td>2018.0</td><td>6.0</td><td>Shopify</td><td>47323635</td><td>2108452203</td><td>2.24</td></tr>",
                            "<tr><td>2018.0</td><td>7.0</td><td>Retail</td><td>2646368290</td><td>2707198472</td><td>97.75</td></tr>",
                            "<tr><td>2018.0</td><td>7.0</td><td>Shopify</td><td>60830182</td><td>2707198472</td><td>2.25</td></tr>",
                            "<tr><td>2018.0</td><td>8.0</td><td>Retail</td><td>2140297292</td><td>2190542267</td><td>97.71</td></tr>",
                            "<tr><td>2018.0</td><td>8.0</td><td>Shopify</td><td>50244975</td><td>2190542267</td><td>2.29</td></tr>",
                            "<tr><td>2018.0</td><td>9.0</td><td>Shopify</td><td>12836820</td><td>552971362</td><td>2.32</td></tr>",
                            "<tr><td>2018.0</td><td>9.0</td><td>Retail</td><td>540134542</td><td>552971362</td><td>97.68</td></tr>",
                            "<tr><td>2019.0</td><td>3.0</td><td>Shopify</td><td>13332196</td><td>581317054</td><td>2.29</td></tr>",
                            "<tr><td>2019.0</td><td>3.0</td><td>Retail</td><td>567984858</td><td>581317054</td><td>97.71</td></tr>",
                            "<tr><td>2019.0</td><td>4.0</td><td>Shopify</td><td>63798008</td><td>2900147321</td><td>2.20</td></tr>",
                            "<tr><td>2019.0</td><td>4.0</td><td>Retail</td><td>2836349313</td><td>2900147321</td><td>97.80</td></tr>",
                            "<tr><td>2019.0</td><td>5.0</td><td>Retail</td><td>2221160706</td><td>2277531812</td><td>97.52</td></tr>",
                            "<tr><td>2019.0</td><td>5.0</td><td>Shopify</td><td>56371106</td><td>2277531812</td><td>2.48</td></tr>",
                            "<tr><td>2019.0</td><td>6.0</td><td>Shopify</td><td>57727053</td><td>2238853921</td><td>2.58</td></tr>",
                            "<tr><td>2019.0</td><td>6.0</td><td>Retail</td><td>2181126868</td><td>2238853921</td><td>97.42</td></tr>",
                            "<tr><td>2019.0</td><td>7.0</td><td>Shopify</td><td>75766614</td><td>2861636791</td><td>2.65</td></tr>",
                            "<tr><td>2019.0</td><td>7.0</td><td>Retail</td><td>2785870177</td><td>2861636791</td><td>97.35</td></tr>",
                            "<tr><td>2019.0</td><td>8.0</td><td>Shopify</td><td>64297818</td><td>2305240308</td><td>2.79</td></tr>",
                            "<tr><td>2019.0</td><td>8.0</td><td>Retail</td><td>2240942490</td><td>2305240308</td><td>97.21</td></tr>",
                            "<tr><td>2019.0</td><td>9.0</td><td>Shopify</td><td>16932978</td><td>581305293</td><td>2.91</td></tr>",
                            "<tr><td>2019.0</td><td>9.0</td><td>Retail</td><td>564372315</td><td>581305293</td><td>97.09</td></tr>",
                            "<tr><td>2020.0</td><td>3.0</td><td>Retail</td><td>1205620498</td><td>1239096229</td><td>97.30</td></tr>",
                            "<tr><td>2020.0</td><td>3.0</td><td>Shopify</td><td>33475731</td><td>1239096229</td><td>2.70</td></tr>",
                            "<tr><td>2020.0</td><td>4.0</td><td>Shopify</td><td>71478722</td><td>2353352566</td><td>3.04</td></tr>",
                            "<tr><td>2020.0</td><td>4.0</td><td>Retail</td><td>2281873844</td><td>2353352566</td><td>96.96</td></tr>",
                            "<tr><td>2020.0</td><td>5.0</td><td>Shopify</td><td>77687860</td><td>2362074889</td><td>3.29</td></tr>",
                            "<tr><td>2020.0</td><td>5.0</td><td>Retail</td><td>2284387029</td><td>2362074889</td><td>96.71</td></tr>",
                            "<tr><td>2020.0</td><td>6.0</td><td>Retail</td><td>2807693824</td><td>2900408238</td><td>96.80</td></tr>",
                            "<tr><td>2020.0</td><td>6.0</td><td>Shopify</td><td>92714414</td><td>2900408238</td><td>3.20</td></tr>",
                            "<tr><td>2020.0</td><td>7.0</td><td>Shopify</td><td>77642565</td><td>2333495546</td><td>3.33</td></tr>",
                            "<tr><td>2020.0</td><td>7.0</td><td>Retail</td><td>2255852981</td><td>2333495546</td><td>96.67</td></tr>",
                            "<tr><td>2020.0</td><td>8.0</td><td>Retail</td><td>2810210216</td><td>2911793432</td><td>96.51</td></tr>",
                            "<tr><td>2020.0</td><td>8.0</td><td>Shopify</td><td>101583216</td><td>2911793432</td><td>3.49</td></tr>",
                            "</table>"
                        ]
                    }
                }
            ],
            "execution_count": 5
        },
        {
            "cell_type": "markdown",
            "source": [
                "<span style=\"font-size: 14px;\"><b>7. What is the percentage of sales by demographic for each year in the dataset?</b></span>"
            ],
            "metadata": {
                "azdata_cell_guid": "4030ca71-4acc-474a-822b-318e12ad2799"
            }
        },
        {
            "cell_type": "code",
            "source": [
                "with cte2 as(\r\n",
                "\twith cte1 as(\r\n",
                "\t\tSELECT\r\n",
                "\t\t\tcalendar_year,\r\n",
                "\t\t\tdemographic,\r\n",
                "\t\t\tSUM(sales) as sales_by_demographic\r\n",
                "\t\tFROM clean_weekly_sales\r\n",
                "\t\tGROUP BY calendar_year,demographic)\r\n",
                "\tSELECT\r\n",
                "\t\t*,\r\n",
                "\t\tSUM(sales_by_demographic) OVER(partition by calendar_year) as yearly_sales\r\n",
                "\tFROM cte1)\r\n",
                "SELECT\r\n",
                "\t*,\r\n",
                "\tROUND((sales_by_demographic/yearly_sales)*100,2) as percentage_of_sales_by_demographic\r\n",
                "FROM cte2"
            ],
            "metadata": {
                "azdata_cell_guid": "161d2790-b82b-4c6c-944c-991abffdcedf"
            },
            "outputs": [
                {
                    "output_type": "display_data",
                    "data": {
                        "text/html": "(9 row(s) affected)"
                    },
                    "metadata": {}
                },
                {
                    "output_type": "display_data",
                    "data": {
                        "text/html": "Total execution time: 00:00:00.039"
                    },
                    "metadata": {}
                },
                {
                    "output_type": "execute_result",
                    "metadata": {},
                    "execution_count": 6,
                    "data": {
                        "application/vnd.dataresource+json": {
                            "schema": {
                                "fields": [
                                    {
                                        "name": "calendar_year"
                                    },
                                    {
                                        "name": "demographic"
                                    },
                                    {
                                        "name": "sales_by_demographic"
                                    },
                                    {
                                        "name": "yearly_sales"
                                    },
                                    {
                                        "name": "percentage_of_sales_by_demographic"
                                    }
                                ]
                            },
                            "data": [
                                {
                                    "0": "2018.0",
                                    "1": "unknown",
                                    "2": "5369434106",
                                    "3": "12897380827",
                                    "4": "41.63"
                                },
                                {
                                    "0": "2018.0",
                                    "1": "Families",
                                    "2": "4125558033",
                                    "3": "12897380827",
                                    "4": "31.99"
                                },
                                {
                                    "0": "2018.0",
                                    "1": "Couples",
                                    "2": "3402388688",
                                    "3": "12897380827",
                                    "4": "26.38"
                                },
                                {
                                    "0": "2019.0",
                                    "1": "Couples",
                                    "2": "3749251935",
                                    "3": "13746032500",
                                    "4": "27.28"
                                },
                                {
                                    "0": "2019.0",
                                    "1": "unknown",
                                    "2": "5532862221",
                                    "3": "13746032500",
                                    "4": "40.25"
                                },
                                {
                                    "0": "2019.0",
                                    "1": "Families",
                                    "2": "4463918344",
                                    "3": "13746032500",
                                    "4": "32.47"
                                },
                                {
                                    "0": "2020.0",
                                    "1": "unknown",
                                    "2": "5436315907",
                                    "3": "14100220900",
                                    "4": "38.55"
                                },
                                {
                                    "0": "2020.0",
                                    "1": "Couples",
                                    "2": "4049566928",
                                    "3": "14100220900",
                                    "4": "28.72"
                                },
                                {
                                    "0": "2020.0",
                                    "1": "Families",
                                    "2": "4614338065",
                                    "3": "14100220900",
                                    "4": "32.73"
                                }
                            ]
                        },
                        "text/html": [
                            "<table>",
                            "<tr><th>calendar_year</th><th>demographic</th><th>sales_by_demographic</th><th>yearly_sales</th><th>percentage_of_sales_by_demographic</th></tr>",
                            "<tr><td>2018.0</td><td>unknown</td><td>5369434106</td><td>12897380827</td><td>41.63</td></tr>",
                            "<tr><td>2018.0</td><td>Families</td><td>4125558033</td><td>12897380827</td><td>31.99</td></tr>",
                            "<tr><td>2018.0</td><td>Couples</td><td>3402388688</td><td>12897380827</td><td>26.38</td></tr>",
                            "<tr><td>2019.0</td><td>Couples</td><td>3749251935</td><td>13746032500</td><td>27.28</td></tr>",
                            "<tr><td>2019.0</td><td>unknown</td><td>5532862221</td><td>13746032500</td><td>40.25</td></tr>",
                            "<tr><td>2019.0</td><td>Families</td><td>4463918344</td><td>13746032500</td><td>32.47</td></tr>",
                            "<tr><td>2020.0</td><td>unknown</td><td>5436315907</td><td>14100220900</td><td>38.55</td></tr>",
                            "<tr><td>2020.0</td><td>Couples</td><td>4049566928</td><td>14100220900</td><td>28.72</td></tr>",
                            "<tr><td>2020.0</td><td>Families</td><td>4614338065</td><td>14100220900</td><td>32.73</td></tr>",
                            "</table>"
                        ]
                    }
                }
            ],
            "execution_count": 6
        },
        {
            "cell_type": "markdown",
            "source": [
                "<span style=\"font-size: 14px;\"><b>8. Which age_band and demographic values contribute the most to Retail sales?</b></span>"
            ],
            "metadata": {
                "azdata_cell_guid": "c7fceec3-1da6-4a9b-84d2-4d1658a8836c"
            }
        },
        {
            "cell_type": "code",
            "source": [
                "SELECT\r\n",
                "\tage_band,\r\n",
                "\tdemographic,\r\n",
                "\tSUM(sales) total_retail_sales\r\n",
                "FROM clean_weekly_sales\r\n",
                "WHERE platform='Retail'\r\n",
                "GROUP BY age_band,demographic\r\n",
                "ORDER BY SUM(sales) DESC\r\n",
                "LIMIT 3"
            ],
            "metadata": {
                "azdata_cell_guid": "01367347-c151-46b9-8ab6-be6d8990ded5"
            },
            "outputs": [
                {
                    "output_type": "display_data",
                    "data": {
                        "text/html": "(3 row(s) affected)"
                    },
                    "metadata": {}
                },
                {
                    "output_type": "display_data",
                    "data": {
                        "text/html": "Total execution time: 00:00:00.032"
                    },
                    "metadata": {}
                },
                {
                    "output_type": "execute_result",
                    "metadata": {},
                    "execution_count": 7,
                    "data": {
                        "application/vnd.dataresource+json": {
                            "schema": {
                                "fields": [
                                    {
                                        "name": "age_band"
                                    },
                                    {
                                        "name": "demographic"
                                    },
                                    {
                                        "name": "total_retail_sales"
                                    }
                                ]
                            },
                            "data": [
                                {
                                    "0": "unknown",
                                    "1": "unknown",
                                    "2": "16067285533"
                                },
                                {
                                    "0": "Retirees",
                                    "1": "Families",
                                    "2": "6634686916"
                                },
                                {
                                    "0": "Retirees",
                                    "1": "Couples",
                                    "2": "6370580014"
                                }
                            ]
                        },
                        "text/html": [
                            "<table>",
                            "<tr><th>age_band</th><th>demographic</th><th>total_retail_sales</th></tr>",
                            "<tr><td>unknown</td><td>unknown</td><td>16067285533</td></tr>",
                            "<tr><td>Retirees</td><td>Families</td><td>6634686916</td></tr>",
                            "<tr><td>Retirees</td><td>Couples</td><td>6370580014</td></tr>",
                            "</table>"
                        ]
                    }
                }
            ],
            "execution_count": 7
        },
        {
            "cell_type": "markdown",
            "source": [
                "**<span style=\"font-size: 14px;\">8. Can we use the avg_transaction column to find the average transaction size for each year for Retail vs Shopify? If not -</span> how would you calculate it instead?**\n",
                "\n",
                "**Sol: Yes, beacause avg\\_transaction column has the value of** <span style=\"font-size: 12px;\">sales&nbsp;</span> **value divided by** `transactions.`"
            ],
            "metadata": {
                "azdata_cell_guid": "fc637c73-50f3-4cb4-ab17-e6cba1cccf99"
            }
        },
        {
            "cell_type": "code",
            "source": [
                "SELECT\r\n",
                "\tcalendar_year,\r\n",
                "\tplatform,\r\n",
                "\tavg(avg_transaction)\r\n",
                "FROM clean_weekly_sales\r\n",
                "GROUP BY calendar_year,platform\r\n",
                "ORDER BY calendar_year,platform"
            ],
            "metadata": {
                "azdata_cell_guid": "1b15862c-4f4e-457e-b3e8-fa46722bc0cc",
                "tags": []
            },
            "outputs": [
                {
                    "output_type": "display_data",
                    "data": {
                        "text/html": "(6 row(s) affected)"
                    },
                    "metadata": {}
                },
                {
                    "output_type": "display_data",
                    "data": {
                        "text/html": "Total execution time: 00:00:00.042"
                    },
                    "metadata": {}
                },
                {
                    "output_type": "execute_result",
                    "metadata": {},
                    "execution_count": 8,
                    "data": {
                        "application/vnd.dataresource+json": {
                            "schema": {
                                "fields": [
                                    {
                                        "name": "calendar_year"
                                    },
                                    {
                                        "name": "platform"
                                    },
                                    {
                                        "name": "avg"
                                    }
                                ]
                            },
                            "data": [
                                {
                                    "0": "2018.0",
                                    "1": "Retail",
                                    "2": "42.4114145658263305"
                                },
                                {
                                    "0": "2018.0",
                                    "1": "Shopify",
                                    "2": "187.8022519352568614"
                                },
                                {
                                    "0": "2019.0",
                                    "1": "Retail",
                                    "2": "41.4719887955182073"
                                },
                                {
                                    "0": "2019.0",
                                    "1": "Shopify",
                                    "2": "177.0743338008415147"
                                },
                                {
                                    "0": "2020.0",
                                    "1": "Retail",
                                    "2": "40.1362044817927171"
                                },
                                {
                                    "0": "2020.0",
                                    "1": "Shopify",
                                    "2": "174.3964973730297723"
                                }
                            ]
                        },
                        "text/html": [
                            "<table>",
                            "<tr><th>calendar_year</th><th>platform</th><th>avg</th></tr>",
                            "<tr><td>2018.0</td><td>Retail</td><td>42.4114145658263305</td></tr>",
                            "<tr><td>2018.0</td><td>Shopify</td><td>187.8022519352568614</td></tr>",
                            "<tr><td>2019.0</td><td>Retail</td><td>41.4719887955182073</td></tr>",
                            "<tr><td>2019.0</td><td>Shopify</td><td>177.0743338008415147</td></tr>",
                            "<tr><td>2020.0</td><td>Retail</td><td>40.1362044817927171</td></tr>",
                            "<tr><td>2020.0</td><td>Shopify</td><td>174.3964973730297723</td></tr>",
                            "</table>"
                        ]
                    }
                }
            ],
            "execution_count": 8
        },
        {
            "cell_type": "code",
            "source": [
                "SELECT\r\n",
                "\tcalendar_year,\r\n",
                "\tplatform,\r\n",
                "\tavg(sales/transactions)\r\n",
                "FROM clean_weekly_sales\r\n",
                "GROUP BY calendar_year,platform\r\n",
                "ORDER BY calendar_year,platform\r\n",
                ""
            ],
            "metadata": {
                "azdata_cell_guid": "29b8aaa4-2b45-4a46-aa61-2911d1111ea7"
            },
            "outputs": [
                {
                    "output_type": "display_data",
                    "data": {
                        "text/html": "(6 row(s) affected)"
                    },
                    "metadata": {}
                },
                {
                    "output_type": "display_data",
                    "data": {
                        "text/html": "Total execution time: 00:00:00.039"
                    },
                    "metadata": {}
                },
                {
                    "output_type": "execute_result",
                    "metadata": {},
                    "execution_count": 9,
                    "data": {
                        "application/vnd.dataresource+json": {
                            "schema": {
                                "fields": [
                                    {
                                        "name": "calendar_year"
                                    },
                                    {
                                        "name": "platform"
                                    },
                                    {
                                        "name": "avg"
                                    }
                                ]
                            },
                            "data": [
                                {
                                    "0": "2018.0",
                                    "1": "Retail",
                                    "2": "42.4114145658263305"
                                },
                                {
                                    "0": "2018.0",
                                    "1": "Shopify",
                                    "2": "187.8022519352568614"
                                },
                                {
                                    "0": "2019.0",
                                    "1": "Retail",
                                    "2": "41.4719887955182073"
                                },
                                {
                                    "0": "2019.0",
                                    "1": "Shopify",
                                    "2": "177.0743338008415147"
                                },
                                {
                                    "0": "2020.0",
                                    "1": "Retail",
                                    "2": "40.1362044817927171"
                                },
                                {
                                    "0": "2020.0",
                                    "1": "Shopify",
                                    "2": "174.3964973730297723"
                                }
                            ]
                        },
                        "text/html": [
                            "<table>",
                            "<tr><th>calendar_year</th><th>platform</th><th>avg</th></tr>",
                            "<tr><td>2018.0</td><td>Retail</td><td>42.4114145658263305</td></tr>",
                            "<tr><td>2018.0</td><td>Shopify</td><td>187.8022519352568614</td></tr>",
                            "<tr><td>2019.0</td><td>Retail</td><td>41.4719887955182073</td></tr>",
                            "<tr><td>2019.0</td><td>Shopify</td><td>177.0743338008415147</td></tr>",
                            "<tr><td>2020.0</td><td>Retail</td><td>40.1362044817927171</td></tr>",
                            "<tr><td>2020.0</td><td>Shopify</td><td>174.3964973730297723</td></tr>",
                            "</table>"
                        ]
                    }
                }
            ],
            "execution_count": 9
        },
        {
            "cell_type": "code",
            "source": [
                ""
            ],
            "metadata": {
                "azdata_cell_guid": "94126d2f-99bb-43e6-8895-d6dbe04854e5"
            },
            "outputs": [],
            "execution_count": null
        }
    ]
}