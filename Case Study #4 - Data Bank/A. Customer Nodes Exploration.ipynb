{
    "metadata": {
        "kernelspec": {
            "name": "SQL",
            "display_name": "SQL",
            "language": "sql"
        },
        "language_info": {
            "name": "sql",
            "version": ""
        }
    },
    "nbformat_minor": 2,
    "nbformat": 4,
    "cells": [
        {
            "cell_type": "markdown",
            "source": [
                "# **A. Customer Nodes Exploration**"
            ],
            "metadata": {
                "azdata_cell_guid": "c93af881-4315-4e21-b87d-118d838785c0"
            }
        },
        {
            "cell_type": "markdown",
            "source": [
                "<span style=\"font-size: 14px;\"><b>1. How many unique nodes are there on the Data Bank system?</b></span>"
            ],
            "metadata": {
                "azdata_cell_guid": "45c087df-046c-4e64-bef2-ff9a44f61f2c"
            }
        },
        {
            "cell_type": "code",
            "source": [
                "SELECT \r\n",
                "\tCOUNT(DISTINCT(node_id)) as unique_nodes\r\n",
                "FROM customer_nodes"
            ],
            "metadata": {
                "azdata_cell_guid": "6007ccfb-d33c-4f7e-b68a-9dd1bf9a9f12"
            },
            "outputs": [
                {
                    "output_type": "display_data",
                    "data": {
                        "text/html": "(1 row(s) affected)"
                    },
                    "metadata": {}
                },
                {
                    "output_type": "display_data",
                    "data": {
                        "text/html": "Total execution time: 00:00:00.011"
                    },
                    "metadata": {}
                },
                {
                    "output_type": "execute_result",
                    "metadata": {},
                    "execution_count": 1,
                    "data": {
                        "application/vnd.dataresource+json": {
                            "schema": {
                                "fields": [
                                    {
                                        "name": "unique_nodes"
                                    }
                                ]
                            },
                            "data": [
                                {
                                    "0": "5"
                                }
                            ]
                        },
                        "text/html": [
                            "<table>",
                            "<tr><th>unique_nodes</th></tr>",
                            "<tr><td>5</td></tr>",
                            "</table>"
                        ]
                    }
                }
            ],
            "execution_count": 1
        },
        {
            "cell_type": "markdown",
            "source": [
                "<span style=\"font-size: 14px;\"><b>2.What is the number of nodes per region?</b></span>"
            ],
            "metadata": {
                "azdata_cell_guid": "284c1efb-c68a-48dc-8729-4472471322d7"
            }
        },
        {
            "cell_type": "code",
            "source": [
                "SELECT \r\n",
                "\tr.region_name,\r\n",
                "\tCOUNT(c.node_id) as no_of_nodes,\r\n",
                "\tCOUNT(DISTINCT(c.node_id)) as unique_nodes\r\n",
                "FROM customer_nodes c\r\n",
                "JOIN regions r\r\n",
                "\tON c.region_id = r.region_id\r\n",
                "GROUP BY r.region_name"
            ],
            "metadata": {
                "azdata_cell_guid": "cf3a88c9-6aea-4345-acec-684d51617e46"
            },
            "outputs": [
                {
                    "output_type": "display_data",
                    "data": {
                        "text/html": "(5 row(s) affected)"
                    },
                    "metadata": {}
                },
                {
                    "output_type": "display_data",
                    "data": {
                        "text/html": "Total execution time: 00:00:00.006"
                    },
                    "metadata": {}
                },
                {
                    "output_type": "execute_result",
                    "metadata": {},
                    "execution_count": 2,
                    "data": {
                        "application/vnd.dataresource+json": {
                            "schema": {
                                "fields": [
                                    {
                                        "name": "region_name"
                                    },
                                    {
                                        "name": "no_of_nodes"
                                    },
                                    {
                                        "name": "unique_nodes"
                                    }
                                ]
                            },
                            "data": [
                                {
                                    "0": "Africa",
                                    "1": "714",
                                    "2": "5"
                                },
                                {
                                    "0": "America",
                                    "1": "735",
                                    "2": "5"
                                },
                                {
                                    "0": "Asia",
                                    "1": "665",
                                    "2": "5"
                                },
                                {
                                    "0": "Australia",
                                    "1": "770",
                                    "2": "5"
                                },
                                {
                                    "0": "Europe",
                                    "1": "616",
                                    "2": "5"
                                }
                            ]
                        },
                        "text/html": [
                            "<table>",
                            "<tr><th>region_name</th><th>no_of_nodes</th><th>unique_nodes</th></tr>",
                            "<tr><td>Africa</td><td>714</td><td>5</td></tr>",
                            "<tr><td>America</td><td>735</td><td>5</td></tr>",
                            "<tr><td>Asia</td><td>665</td><td>5</td></tr>",
                            "<tr><td>Australia</td><td>770</td><td>5</td></tr>",
                            "<tr><td>Europe</td><td>616</td><td>5</td></tr>",
                            "</table>"
                        ]
                    }
                }
            ],
            "execution_count": 2
        },
        {
            "cell_type": "markdown",
            "source": [
                "<span style=\"font-size: 14px;\"><b>3. How many customers are allocated to each region?</b></span>"
            ],
            "metadata": {
                "azdata_cell_guid": "dc4ea3bc-5fdb-4d9f-bb7e-4a3032206a62"
            }
        },
        {
            "cell_type": "code",
            "source": [
                "SELECT \r\n",
                "\tregion_id,\r\n",
                "\tCOUNT(DISTINCT(customer_id)) as unique_nodes\r\n",
                "FROM customer_nodes c\r\n",
                "\tGROUP BY region_id"
            ],
            "metadata": {
                "azdata_cell_guid": "939f56e2-de11-40e0-b0f3-fa86e4c06cc8"
            },
            "outputs": [
                {
                    "output_type": "display_data",
                    "data": {
                        "text/html": "(5 row(s) affected)"
                    },
                    "metadata": {}
                },
                {
                    "output_type": "display_data",
                    "data": {
                        "text/html": "Total execution time: 00:00:00.004"
                    },
                    "metadata": {}
                },
                {
                    "output_type": "execute_result",
                    "metadata": {},
                    "execution_count": 3,
                    "data": {
                        "application/vnd.dataresource+json": {
                            "schema": {
                                "fields": [
                                    {
                                        "name": "region_id"
                                    },
                                    {
                                        "name": "unique_nodes"
                                    }
                                ]
                            },
                            "data": [
                                {
                                    "0": "1",
                                    "1": "110"
                                },
                                {
                                    "0": "2",
                                    "1": "105"
                                },
                                {
                                    "0": "3",
                                    "1": "102"
                                },
                                {
                                    "0": "4",
                                    "1": "95"
                                },
                                {
                                    "0": "5",
                                    "1": "88"
                                }
                            ]
                        },
                        "text/html": [
                            "<table>",
                            "<tr><th>region_id</th><th>unique_nodes</th></tr>",
                            "<tr><td>1</td><td>110</td></tr>",
                            "<tr><td>2</td><td>105</td></tr>",
                            "<tr><td>3</td><td>102</td></tr>",
                            "<tr><td>4</td><td>95</td></tr>",
                            "<tr><td>5</td><td>88</td></tr>",
                            "</table>"
                        ]
                    }
                }
            ],
            "execution_count": 3
        },
        {
            "cell_type": "code",
            "source": [
                "SELECT \r\n",
                "\tr.region_name,\r\n",
                "\tr.region_id,\r\n",
                "\tCOUNT(DISTINCT(c.customer_id)) as unique_nodes\r\n",
                "FROM customer_nodes c\r\n",
                "JOIN regions r\r\n",
                "\tON c.region_id = r.region_id\r\n",
                "GROUP BY r.region_id, r.region_name"
            ],
            "metadata": {
                "azdata_cell_guid": "49ce7baa-d2ed-483a-a685-e838a377f5fc"
            },
            "outputs": [
                {
                    "output_type": "display_data",
                    "data": {
                        "text/html": "(5 row(s) affected)"
                    },
                    "metadata": {}
                },
                {
                    "output_type": "display_data",
                    "data": {
                        "text/html": "Total execution time: 00:00:00.005"
                    },
                    "metadata": {}
                },
                {
                    "output_type": "execute_result",
                    "metadata": {},
                    "execution_count": 4,
                    "data": {
                        "application/vnd.dataresource+json": {
                            "schema": {
                                "fields": [
                                    {
                                        "name": "region_name"
                                    },
                                    {
                                        "name": "region_id"
                                    },
                                    {
                                        "name": "unique_nodes"
                                    }
                                ]
                            },
                            "data": [
                                {
                                    "0": "Australia",
                                    "1": "1",
                                    "2": "110"
                                },
                                {
                                    "0": "America",
                                    "1": "2",
                                    "2": "105"
                                },
                                {
                                    "0": "Africa",
                                    "1": "3",
                                    "2": "102"
                                },
                                {
                                    "0": "Asia",
                                    "1": "4",
                                    "2": "95"
                                },
                                {
                                    "0": "Europe",
                                    "1": "5",
                                    "2": "88"
                                }
                            ]
                        },
                        "text/html": [
                            "<table>",
                            "<tr><th>region_name</th><th>region_id</th><th>unique_nodes</th></tr>",
                            "<tr><td>Australia</td><td>1</td><td>110</td></tr>",
                            "<tr><td>America</td><td>2</td><td>105</td></tr>",
                            "<tr><td>Africa</td><td>3</td><td>102</td></tr>",
                            "<tr><td>Asia</td><td>4</td><td>95</td></tr>",
                            "<tr><td>Europe</td><td>5</td><td>88</td></tr>",
                            "</table>"
                        ]
                    }
                }
            ],
            "execution_count": 4
        }
    ]
}